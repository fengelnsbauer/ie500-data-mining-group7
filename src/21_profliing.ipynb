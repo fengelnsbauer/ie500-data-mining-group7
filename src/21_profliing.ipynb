{
 "cells": [
  {
   "cell_type": "code",
   "execution_count": null,
   "metadata": {},
   "outputs": [],
   "source": [
    "import pandas as pd\n",
    "import numpy as np\n",
    "df = pd.read_csv(\"../data/processed/export_combined_v1.csv\")"
   ]
  },
  {
   "cell_type": "code",
   "execution_count": null,
   "metadata": {},
   "outputs": [],
   "source": [
    "def n_to_nan(x):\n",
    "    if x == \"\\\\N\":\n",
    "        return np.nan\n",
    "    return x\n",
    "\n",
    "\n",
    "def race_time_to_milliseconds(race_time_str):\n",
    "    \"\"\"\n",
    "    Converts a Formula 1 race time string (e.g., \"1:20.8888\") to milliseconds.\n",
    "\n",
    "    Parameters:\n",
    "        race_time_str (str): Race time as a string in the format \"M:SS.ssss\".\n",
    "\n",
    "    Returns:\n",
    "        float: Race time in milliseconds.\n",
    "    \"\"\"\n",
    "    if not isinstance(race_time_str, str):\n",
    "        return np.nan\n",
    "    try:\n",
    "        # Split the string into minutes and seconds\n",
    "        minutes, seconds = race_time_str.split(\":\")\n",
    "        \n",
    "        # Convert minutes to milliseconds\n",
    "        minutes_ms = int(minutes) * 60 * 1000\n",
    "        \n",
    "        # Convert seconds (with fractional part) to milliseconds\n",
    "        seconds_ms = float(seconds) * 1000\n",
    "        \n",
    "        # Total milliseconds\n",
    "        total_ms = minutes_ms + seconds_ms\n",
    "        \n",
    "        return total_ms\n",
    "    except Exception as e:\n",
    "        raise ValueError(f\"Invalid race time format: {race_time_str}\") from e\n"
   ]
  },
  {
   "cell_type": "code",
   "execution_count": null,
   "metadata": {},
   "outputs": [],
   "source": [
    "def unfuck_data(df):\n",
    "\n",
    "    df = df.copy()\n",
    "    # Convert race_date and driver_dob to datetime\n",
    "    df[\"race_date\"] = pd.to_datetime(df[\"race_date\"])\n",
    "    df[\"driver_dob\"] = pd.to_datetime(df[\"driver_dob\"])\n",
    "\n",
    "    # Calculate age in milliseconds\n",
    "    df[\"driver_age\"] = (df[\"race_date\"] - df[\"driver_dob\"]).dt.total_seconds() * 1000\n",
    "    df[\"race_date\"] = df[\"race_date\"].astype(\"int64\") // 10**6\n",
    "\n",
    "    df.drop(\n",
    "        columns=[\n",
    "            \"fp1_date\",\n",
    "            \"fp1_time\",\n",
    "            \"fp2_date\",\n",
    "            \"fp2_time\",\n",
    "            \"fp3_date\",\n",
    "            \"fp3_time\",\n",
    "            \"quali_time\",\n",
    "            \"quali_date\",\n",
    "            \"driver_dob\",\n",
    "        ],\n",
    "        inplace=True,\n",
    "    )\n",
    "    df = df.apply(lambda x: x.apply(n_to_nan))\n",
    "\n",
    "    df['number'] = df['number'].apply(lambda x: float(x))\n",
    "\n",
    "    df[\"q1\"] = df[\"q1\"].apply(race_time_to_milliseconds)\n",
    "    df[\"q2\"] = df[\"q2\"].apply(race_time_to_milliseconds)\n",
    "    df[\"q3\"] = df[\"q3\"].apply(race_time_to_milliseconds)\n",
    "\n",
    "    from sklearn.preprocessing import LabelEncoder\n",
    "    labelencoder = LabelEncoder()\n",
    "\n",
    "    for column in df.columns:\n",
    "        if df[column].dtype == type(object):\n",
    "            df[column] = labelencoder.fit_transform(df[column])\n",
    "\n",
    "    return df"
   ]
  },
  {
   "cell_type": "code",
   "execution_count": null,
   "metadata": {},
   "outputs": [],
   "source": [
    "df.head()"
   ]
  },
  {
   "cell_type": "code",
   "execution_count": null,
   "metadata": {},
   "outputs": [],
   "source": [
    "df = unfuck_data(df)\n",
    "df.info()"
   ]
  },
  {
   "cell_type": "code",
   "execution_count": null,
   "metadata": {},
   "outputs": [],
   "source": [
    "import matplotlib.pyplot as plt\n",
    "\n",
    "for c in df.columns[1:]:\n",
    "    df.boxplot(c, by=\"positionOrder\", figsize=(7, 4), fontsize=12)\n",
    "    plt.title(\"{}\\n\".format(c), fontsize=16)\n",
    "    plt.xlabel(\"positionOrder\", fontsize=16)"
   ]
  },
  {
   "cell_type": "code",
   "execution_count": null,
   "metadata": {},
   "outputs": [],
   "source": [
    "def correlation_matrix(df):\n",
    "    from matplotlib import pyplot as plt\n",
    "    from matplotlib import cm as cm\n",
    "\n",
    "    fig = plt.figure(figsize=(16, 12))\n",
    "    ax1 = fig.add_subplot(111)\n",
    "    cmap = plt.get_cmap(\"jet\", 30)\n",
    "    cax = ax1.imshow(df.corr(), interpolation=\"nearest\", cmap=cmap)\n",
    "    ax1.grid(True)\n",
    "    plt.title(\"F1 data set features correlation\\n\", fontsize=15)\n",
    "\n",
    "    labels = df.columns\n",
    "    ax1.set_xticks(range(len(labels)))\n",
    "    ax1.set_yticks(range(len(labels)))\n",
    "    ax1.set_xticklabels(labels, fontsize=9, rotation=90)\n",
    "    ax1.set_yticklabels(labels, fontsize=9)\n",
    "\n",
    "    # Add colorbar, make sure to specify tick locations to match desired ticklabels\n",
    "    fig.colorbar(cax, ticks=[0.1 * i for i in range(-11, 11)])\n",
    "    plt.show()\n",
    "\n",
    "\n",
    "correlation_matrix(df)"
   ]
  },
  {
   "cell_type": "code",
   "execution_count": null,
   "metadata": {},
   "outputs": [],
   "source": [
    "from ydata_profiling import ProfileReport\n",
    "\n",
    "profile = ProfileReport(df, title=\"Pandas Profiling Report\")\n",
    "profile.to_file(\"profile_report.html\")"
   ]
  },
  {
   "cell_type": "markdown",
   "metadata": {},
   "source": [
    "## PCA"
   ]
  },
  {
   "cell_type": "code",
   "execution_count": null,
   "metadata": {},
   "outputs": [],
   "source": [
    "X_train = unfuck_data(pd.read_csv(\"../data/train/train.csv\"))\n",
    "y_train = pd.read_csv(\"../data/train/train_labels.csv\")\n",
    "\n",
    "X_test = unfuck_data(pd.read_csv(\"../data/test/test.csv\"))\n",
    "y_test = pd.read_csv(\"../data/test/test_labels.csv\")"
   ]
  },
  {
   "cell_type": "code",
   "execution_count": null,
   "metadata": {},
   "outputs": [],
   "source": [
    "X_train.shape"
   ]
  },
  {
   "cell_type": "code",
   "execution_count": null,
   "metadata": {},
   "outputs": [],
   "source": [
    "X_train.dropna(inplace=True)\n",
    "X_train.shape"
   ]
  },
  {
   "cell_type": "code",
   "execution_count": null,
   "metadata": {},
   "outputs": [],
   "source": [
    "from sklearn.discriminant_analysis import StandardScaler\n",
    "\n",
    "\n",
    "scaler = StandardScaler()\n",
    "X_train_scaled = scaler.fit_transform(X_train)\n",
    "X_test_scaled = scaler.transform(X_test)"
   ]
  },
  {
   "cell_type": "code",
   "execution_count": null,
   "metadata": {},
   "outputs": [],
   "source": [
    "from sklearn.decomposition import PCA\n",
    "\n",
    "\n",
    "pca = PCA(n_components=None)\n",
    "dfx_pca = pca.fit(X_train_scaled)\n",
    "\n",
    "# Retrieve the eigenvectors (components)\n",
    "eigenvectors = pca.components_\n",
    "\n",
    "# Retrieve the eigenvalues (explained variance)\n",
    "eigenvalues = pca.explained_variance_"
   ]
  },
  {
   "cell_type": "code",
   "execution_count": null,
   "metadata": {},
   "outputs": [],
   "source": [
    "# Scree plot\n",
    "plt.figure(figsize=(10, 6))\n",
    "plt.plot(\n",
    "    range(1, len(eigenvalues) + 1), eigenvalues, marker=\"o\", linestyle=\"--\", color=\"b\"\n",
    ")\n",
    "plt.title(\"Scree Plot\")\n",
    "plt.xlabel(\"Principal Component Index\")\n",
    "plt.ylabel(\"Eigenvalue\")\n",
    "plt.xticks(range(1, len(eigenvalues) + 1))\n",
    "plt.grid(axis=\"y\", linestyle=\"--\", alpha=0.7)\n",
    "plt.show()"
   ]
  },
  {
   "cell_type": "code",
   "execution_count": null,
   "metadata": {},
   "outputs": [],
   "source": [
    "# Cumulative explained variance\n",
    "cumulative_variance = np.cumsum(pca.explained_variance_ratio_)\n",
    "\n",
    "plt.figure(figsize=(10, 6))\n",
    "plt.plot(\n",
    "    range(1, len(cumulative_variance) + 1),\n",
    "    cumulative_variance,\n",
    "    marker=\"o\",\n",
    "    linestyle=\"-\",\n",
    "    color=\"g\",\n",
    ")\n",
    "plt.title(\"Cumulative Explained Variance\")\n",
    "plt.xlabel(\"Number of Principal Components\")\n",
    "plt.ylabel(\"Cumulative Explained Variance\")\n",
    "plt.xticks(range(1, len(cumulative_variance) + 1))\n",
    "plt.grid(axis=\"y\", linestyle=\"--\", alpha=0.7)\n",
    "plt.show()"
   ]
  },
  {
   "cell_type": "code",
   "execution_count": null,
   "metadata": {},
   "outputs": [],
   "source": [
    "import seaborn as sns\n",
    "import matplotlib.pyplot as plt\n",
    "import numpy as np\n",
    "\n",
    "# Assuming eigenvalues is a numpy array\n",
    "eigenvalues_array = np.array(eigenvalues).reshape(1, -1)  # Reshape into a row vector\n",
    "\n",
    "# Create a heatmap\n",
    "plt.figure(figsize=(20, 2))  # Adjust height for a row-like heatmap\n",
    "sns.heatmap(eigenvalues_array, annot=True, fmt=\".2f\", cmap=\"viridis\", cbar=True)\n",
    "\n",
    "# Adding labels and title\n",
    "plt.title(\"Heatmap of Eigenvalues\")\n",
    "plt.xlabel(\"Principal Component Index\")\n",
    "plt.ylabel(\"Eigenvalues\")\n",
    "\n",
    "# Remove y-axis tick labels for aesthetics\n",
    "plt.yticks([])\n",
    "\n",
    "plt.show()"
   ]
  }
 ],
 "metadata": {
  "kernelspec": {
   "display_name": "ie500-data-mining-group7-PnEMH2vj-py3.12",
   "language": "python",
   "name": "python3"
  },
  "language_info": {
   "codemirror_mode": {
    "name": "ipython",
    "version": 3
   },
   "file_extension": ".py",
   "mimetype": "text/x-python",
   "name": "python",
   "nbconvert_exporter": "python",
   "pygments_lexer": "ipython3",
   "version": "3.12.6"
  }
 },
 "nbformat": 4,
 "nbformat_minor": 2
}
