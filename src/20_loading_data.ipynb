{
 "cells": [
  {
   "cell_type": "markdown",
   "metadata": {},
   "source": [
    "## Load Data"
   ]
  },
  {
   "cell_type": "code",
   "execution_count": 3,
   "metadata": {},
   "outputs": [],
   "source": [
    "import pandas as pd"
   ]
  },
  {
   "cell_type": "code",
   "execution_count": 4,
   "metadata": {},
   "outputs": [
    {
     "name": "stdout",
     "output_type": "stream",
     "text": [
      "X_train_2018 shape: (2015, 80)\n",
      "X_test_2018 shape: (484, 80)\n",
      "y_train_2018 shape: (2015, 1)\n",
      "y_test_2018 shape: (484, 1)\n"
     ]
    }
   ],
   "source": [
    "X_train = pd.read_csv('../data/train/train.csv')\n",
    "y_train = pd.read_csv('../data/train/train_labels.csv')\n",
    "\n",
    "X_test = pd.read_csv('../data/test/test.csv')\n",
    "y_test = pd.read_csv('../data/test/test_labels.csv')\n",
    "\n",
    "# Filter X_train and X_test for entries where the year is greater than 2018\n",
    "X_train_2018 = X_train[X_train[\"year\"] > 2018]\n",
    "X_test_2018 = X_test[X_test[\"year\"] > 2018]\n",
    "\n",
    "# Filter y_train and y_test based on the same condition applied to X_train and X_test\n",
    "y_train_2018 = y_train[X_train[\"year\"] > 2018]\n",
    "y_test_2018 = y_test[X_test[\"year\"] > 2018]\n",
    "\n",
    "# Print the shapes of the filtered datasets\n",
    "print(\"X_train_2018 shape:\", X_train_2018.shape)\n",
    "print(\"X_test_2018 shape:\", X_test_2018.shape)\n",
    "print(\"y_train_2018 shape:\", y_train_2018.shape)\n",
    "print(\"y_test_2018 shape:\", y_test_2018.shape)"
   ]
  }
 ],
 "metadata": {
  "kernelspec": {
   "display_name": "ie500-data-mining-group7-PnEMH2vj-py3.12",
   "language": "python",
   "name": "python3"
  },
  "language_info": {
   "codemirror_mode": {
    "name": "ipython",
    "version": 3
   },
   "file_extension": ".py",
   "mimetype": "text/x-python",
   "name": "python",
   "nbconvert_exporter": "python",
   "pygments_lexer": "ipython3",
   "version": "3.12.6"
  }
 },
 "nbformat": 4,
 "nbformat_minor": 2
}
