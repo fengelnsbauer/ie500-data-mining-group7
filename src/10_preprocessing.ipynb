{
 "cells": [
  {
   "metadata": {
    "ExecuteTime": {
     "end_time": "2024-11-15T15:10:42.266206Z",
     "start_time": "2024-11-15T15:10:41.923131Z"
    }
   },
   "cell_type": "code",
   "source": "import pandas as pd",
   "id": "f843d599f34296ef",
   "outputs": [],
   "execution_count": 1
  },
  {
   "cell_type": "code",
   "id": "initial_id",
   "metadata": {
    "collapsed": true,
    "ExecuteTime": {
     "end_time": "2024-11-15T15:10:42.308754Z",
     "start_time": "2024-11-15T15:10:42.276957Z"
    }
   },
   "source": [
    "results_data_path = '../data/raw_data/results.csv'  # Use your preprocessed data path\n",
    "df = pd.read_csv(results_data_path)\n",
    "\n",
    "# Display the first few rows\n",
    "df.head()"
   ],
   "outputs": [
    {
     "data": {
      "text/plain": [
       "   resultId  raceId  driverId  constructorId number  grid position  \\\n",
       "0         1      18         1              1     22     1        1   \n",
       "1         2      18         2              2      3     5        2   \n",
       "2         3      18         3              3      7     7        3   \n",
       "3         4      18         4              4      5    11        4   \n",
       "4         5      18         5              1     23     3        5   \n",
       "\n",
       "  positionText  positionOrder  points  laps         time milliseconds  \\\n",
       "0            1              1    10.0    58  1:34:50.616      5690616   \n",
       "1            2              2     8.0    58       +5.478      5696094   \n",
       "2            3              3     6.0    58       +8.163      5698779   \n",
       "3            4              4     5.0    58      +17.181      5707797   \n",
       "4            5              5     4.0    58      +18.014      5708630   \n",
       "\n",
       "  fastestLap rank fastestLapTime fastestLapSpeed  statusId  \n",
       "0         39    2       1:27.452         218.300         1  \n",
       "1         41    3       1:27.739         217.586         1  \n",
       "2         41    5       1:28.090         216.719         1  \n",
       "3         58    7       1:28.603         215.464         1  \n",
       "4         43    1       1:27.418         218.385         1  "
      ],
      "text/html": [
       "<div>\n",
       "<style scoped>\n",
       "    .dataframe tbody tr th:only-of-type {\n",
       "        vertical-align: middle;\n",
       "    }\n",
       "\n",
       "    .dataframe tbody tr th {\n",
       "        vertical-align: top;\n",
       "    }\n",
       "\n",
       "    .dataframe thead th {\n",
       "        text-align: right;\n",
       "    }\n",
       "</style>\n",
       "<table border=\"1\" class=\"dataframe\">\n",
       "  <thead>\n",
       "    <tr style=\"text-align: right;\">\n",
       "      <th></th>\n",
       "      <th>resultId</th>\n",
       "      <th>raceId</th>\n",
       "      <th>driverId</th>\n",
       "      <th>constructorId</th>\n",
       "      <th>number</th>\n",
       "      <th>grid</th>\n",
       "      <th>position</th>\n",
       "      <th>positionText</th>\n",
       "      <th>positionOrder</th>\n",
       "      <th>points</th>\n",
       "      <th>laps</th>\n",
       "      <th>time</th>\n",
       "      <th>milliseconds</th>\n",
       "      <th>fastestLap</th>\n",
       "      <th>rank</th>\n",
       "      <th>fastestLapTime</th>\n",
       "      <th>fastestLapSpeed</th>\n",
       "      <th>statusId</th>\n",
       "    </tr>\n",
       "  </thead>\n",
       "  <tbody>\n",
       "    <tr>\n",
       "      <th>0</th>\n",
       "      <td>1</td>\n",
       "      <td>18</td>\n",
       "      <td>1</td>\n",
       "      <td>1</td>\n",
       "      <td>22</td>\n",
       "      <td>1</td>\n",
       "      <td>1</td>\n",
       "      <td>1</td>\n",
       "      <td>1</td>\n",
       "      <td>10.0</td>\n",
       "      <td>58</td>\n",
       "      <td>1:34:50.616</td>\n",
       "      <td>5690616</td>\n",
       "      <td>39</td>\n",
       "      <td>2</td>\n",
       "      <td>1:27.452</td>\n",
       "      <td>218.300</td>\n",
       "      <td>1</td>\n",
       "    </tr>\n",
       "    <tr>\n",
       "      <th>1</th>\n",
       "      <td>2</td>\n",
       "      <td>18</td>\n",
       "      <td>2</td>\n",
       "      <td>2</td>\n",
       "      <td>3</td>\n",
       "      <td>5</td>\n",
       "      <td>2</td>\n",
       "      <td>2</td>\n",
       "      <td>2</td>\n",
       "      <td>8.0</td>\n",
       "      <td>58</td>\n",
       "      <td>+5.478</td>\n",
       "      <td>5696094</td>\n",
       "      <td>41</td>\n",
       "      <td>3</td>\n",
       "      <td>1:27.739</td>\n",
       "      <td>217.586</td>\n",
       "      <td>1</td>\n",
       "    </tr>\n",
       "    <tr>\n",
       "      <th>2</th>\n",
       "      <td>3</td>\n",
       "      <td>18</td>\n",
       "      <td>3</td>\n",
       "      <td>3</td>\n",
       "      <td>7</td>\n",
       "      <td>7</td>\n",
       "      <td>3</td>\n",
       "      <td>3</td>\n",
       "      <td>3</td>\n",
       "      <td>6.0</td>\n",
       "      <td>58</td>\n",
       "      <td>+8.163</td>\n",
       "      <td>5698779</td>\n",
       "      <td>41</td>\n",
       "      <td>5</td>\n",
       "      <td>1:28.090</td>\n",
       "      <td>216.719</td>\n",
       "      <td>1</td>\n",
       "    </tr>\n",
       "    <tr>\n",
       "      <th>3</th>\n",
       "      <td>4</td>\n",
       "      <td>18</td>\n",
       "      <td>4</td>\n",
       "      <td>4</td>\n",
       "      <td>5</td>\n",
       "      <td>11</td>\n",
       "      <td>4</td>\n",
       "      <td>4</td>\n",
       "      <td>4</td>\n",
       "      <td>5.0</td>\n",
       "      <td>58</td>\n",
       "      <td>+17.181</td>\n",
       "      <td>5707797</td>\n",
       "      <td>58</td>\n",
       "      <td>7</td>\n",
       "      <td>1:28.603</td>\n",
       "      <td>215.464</td>\n",
       "      <td>1</td>\n",
       "    </tr>\n",
       "    <tr>\n",
       "      <th>4</th>\n",
       "      <td>5</td>\n",
       "      <td>18</td>\n",
       "      <td>5</td>\n",
       "      <td>1</td>\n",
       "      <td>23</td>\n",
       "      <td>3</td>\n",
       "      <td>5</td>\n",
       "      <td>5</td>\n",
       "      <td>5</td>\n",
       "      <td>4.0</td>\n",
       "      <td>58</td>\n",
       "      <td>+18.014</td>\n",
       "      <td>5708630</td>\n",
       "      <td>43</td>\n",
       "      <td>1</td>\n",
       "      <td>1:27.418</td>\n",
       "      <td>218.385</td>\n",
       "      <td>1</td>\n",
       "    </tr>\n",
       "  </tbody>\n",
       "</table>\n",
       "</div>"
      ]
     },
     "execution_count": 2,
     "metadata": {},
     "output_type": "execute_result"
    }
   ],
   "execution_count": 2
  },
  {
   "metadata": {
    "ExecuteTime": {
     "end_time": "2024-11-15T15:10:42.433021Z",
     "start_time": "2024-11-15T15:10:42.431017Z"
    }
   },
   "cell_type": "code",
   "source": "df.shape",
   "id": "fa5626e4f8aff436",
   "outputs": [
    {
     "data": {
      "text/plain": [
       "(26699, 18)"
      ]
     },
     "execution_count": 3,
     "metadata": {},
     "output_type": "execute_result"
    }
   ],
   "execution_count": 3
  },
  {
   "metadata": {
    "ExecuteTime": {
     "end_time": "2024-11-15T15:10:42.462505Z",
     "start_time": "2024-11-15T15:10:42.452933Z"
    }
   },
   "cell_type": "code",
   "source": [
    "df = df.reindex(sorted(df.columns), axis=1)\n",
    "\n",
    "# Display DataFrame info\n",
    "df.info()\n",
    "\n",
    "# Check the shape of the DataFrame\n",
    "print(f\"DataFrame shape: {df.shape}\")\n"
   ],
   "id": "b3d44fe3f7cf50d4",
   "outputs": [
    {
     "name": "stdout",
     "output_type": "stream",
     "text": [
      "<class 'pandas.core.frame.DataFrame'>\n",
      "RangeIndex: 26699 entries, 0 to 26698\n",
      "Data columns (total 18 columns):\n",
      " #   Column           Non-Null Count  Dtype  \n",
      "---  ------           --------------  -----  \n",
      " 0   constructorId    26699 non-null  int64  \n",
      " 1   driverId         26699 non-null  int64  \n",
      " 2   fastestLap       26699 non-null  object \n",
      " 3   fastestLapSpeed  26699 non-null  object \n",
      " 4   fastestLapTime   26699 non-null  object \n",
      " 5   grid             26699 non-null  int64  \n",
      " 6   laps             26699 non-null  int64  \n",
      " 7   milliseconds     26699 non-null  object \n",
      " 8   number           26699 non-null  object \n",
      " 9   points           26699 non-null  float64\n",
      " 10  position         26699 non-null  object \n",
      " 11  positionOrder    26699 non-null  int64  \n",
      " 12  positionText     26699 non-null  object \n",
      " 13  raceId           26699 non-null  int64  \n",
      " 14  rank             26699 non-null  object \n",
      " 15  resultId         26699 non-null  int64  \n",
      " 16  statusId         26699 non-null  int64  \n",
      " 17  time             26699 non-null  object \n",
      "dtypes: float64(1), int64(8), object(9)\n",
      "memory usage: 3.7+ MB\n",
      "DataFrame shape: (26699, 18)\n"
     ]
    }
   ],
   "execution_count": 4
  },
  {
   "metadata": {
    "ExecuteTime": {
     "end_time": "2024-11-15T15:10:42.496998Z",
     "start_time": "2024-11-15T15:10:42.490040Z"
    }
   },
   "cell_type": "code",
   "source": [
    "irrelevant_columns = [\n",
    "    'position', 'positionText', 'positionOrder', 'fastestLapTime', 'fastestLapTime', 'fastestLapSpeed', 'fastestLap', 'points', 'time', 'laps', 'milliseconds', 'rank', 'statusId'\n",
    "]\n",
    "\n",
    "df_other = df[['driverId', 'constructorId', 'raceId', 'statusId', 'points']].copy()\n",
    "\n",
    "# Drop the columns if they exist in the DataFrame\n",
    "df_dropped= df.drop(columns=[col for col in irrelevant_columns if col in df.columns])\n",
    "df_noDuplicates = df_dropped.drop_duplicates()\n",
    "df_noDuplicates.shape"
   ],
   "id": "9864aeac0c376f46",
   "outputs": [
    {
     "data": {
      "text/plain": [
       "(26699, 6)"
      ]
     },
     "execution_count": 5,
     "metadata": {},
     "output_type": "execute_result"
    }
   ],
   "execution_count": 5
  },
  {
   "metadata": {
    "ExecuteTime": {
     "end_time": "2024-11-15T15:10:42.510414Z",
     "start_time": "2024-11-15T15:10:42.506821Z"
    }
   },
   "cell_type": "code",
   "source": "df_noDuplicates.info()",
   "id": "1c09d50dbd94079d",
   "outputs": [
    {
     "name": "stdout",
     "output_type": "stream",
     "text": [
      "<class 'pandas.core.frame.DataFrame'>\n",
      "RangeIndex: 26699 entries, 0 to 26698\n",
      "Data columns (total 6 columns):\n",
      " #   Column         Non-Null Count  Dtype \n",
      "---  ------         --------------  ----- \n",
      " 0   constructorId  26699 non-null  int64 \n",
      " 1   driverId       26699 non-null  int64 \n",
      " 2   grid           26699 non-null  int64 \n",
      " 3   number         26699 non-null  object\n",
      " 4   raceId         26699 non-null  int64 \n",
      " 5   resultId       26699 non-null  int64 \n",
      "dtypes: int64(5), object(1)\n",
      "memory usage: 1.2+ MB\n"
     ]
    }
   ],
   "execution_count": 6
  },
  {
   "metadata": {},
   "cell_type": "markdown",
   "source": "### Add new features from other tables",
   "id": "ca68fe20db0263c2"
  },
  {
   "metadata": {},
   "cell_type": "markdown",
   "source": "### Add Race Info",
   "id": "6020b05e509944ce"
  },
  {
   "metadata": {
    "ExecuteTime": {
     "end_time": "2024-11-15T15:10:42.532064Z",
     "start_time": "2024-11-15T15:10:42.527906Z"
    }
   },
   "cell_type": "code",
   "source": [
    "races_data_path = '../data/raw_data/races.csv' \n",
    "df_races = pd.read_csv(races_data_path)"
   ],
   "id": "237e75c09ae56037",
   "outputs": [],
   "execution_count": 7
  },
  {
   "metadata": {
    "ExecuteTime": {
     "end_time": "2024-11-15T15:10:42.545672Z",
     "start_time": "2024-11-15T15:10:42.542376Z"
    }
   },
   "cell_type": "code",
   "source": "df_races.info()",
   "id": "56a5debd11bb0fce",
   "outputs": [
    {
     "name": "stdout",
     "output_type": "stream",
     "text": [
      "<class 'pandas.core.frame.DataFrame'>\n",
      "RangeIndex: 1125 entries, 0 to 1124\n",
      "Data columns (total 18 columns):\n",
      " #   Column       Non-Null Count  Dtype \n",
      "---  ------       --------------  ----- \n",
      " 0   raceId       1125 non-null   int64 \n",
      " 1   year         1125 non-null   int64 \n",
      " 2   round        1125 non-null   int64 \n",
      " 3   circuitId    1125 non-null   int64 \n",
      " 4   name         1125 non-null   object\n",
      " 5   date         1125 non-null   object\n",
      " 6   time         1125 non-null   object\n",
      " 7   url          1125 non-null   object\n",
      " 8   fp1_date     1125 non-null   object\n",
      " 9   fp1_time     1125 non-null   object\n",
      " 10  fp2_date     1125 non-null   object\n",
      " 11  fp2_time     1125 non-null   object\n",
      " 12  fp3_date     1125 non-null   object\n",
      " 13  fp3_time     1125 non-null   object\n",
      " 14  quali_date   1125 non-null   object\n",
      " 15  quali_time   1125 non-null   object\n",
      " 16  sprint_date  1125 non-null   object\n",
      " 17  sprint_time  1125 non-null   object\n",
      "dtypes: int64(4), object(14)\n",
      "memory usage: 158.3+ KB\n"
     ]
    }
   ],
   "execution_count": 8
  },
  {
   "metadata": {
    "ExecuteTime": {
     "end_time": "2024-11-15T15:10:42.567180Z",
     "start_time": "2024-11-15T15:10:42.553620Z"
    }
   },
   "cell_type": "code",
   "source": [
    "df_results_races = pd.merge(df_noDuplicates, df_races[['raceId', 'year','round' ,'circuitId', 'name', 'date', 'time', 'fp1_date', 'fp2_date', 'fp3_date', 'fp1_time', 'fp2_time', 'fp3_time', 'quali_time', 'quali_date']], on=['raceId'], how='left')\n",
    "df_results_races = df_results_races.rename(columns={'name': 'race_name', 'date': 'race_date', 'time': 'race_time'})\n",
    "df_results_races.shape"
   ],
   "id": "705818b8e8c87b0e",
   "outputs": [
    {
     "data": {
      "text/plain": [
       "(26699, 20)"
      ]
     },
     "execution_count": 9,
     "metadata": {},
     "output_type": "execute_result"
    }
   ],
   "execution_count": 9
  },
  {
   "metadata": {},
   "cell_type": "markdown",
   "source": "### Add Circuit Info",
   "id": "e78a9f272bfecbac"
  },
  {
   "metadata": {
    "ExecuteTime": {
     "end_time": "2024-11-15T15:10:42.579678Z",
     "start_time": "2024-11-15T15:10:42.576789Z"
    }
   },
   "cell_type": "code",
   "source": [
    "circuits_data_path = '../data/raw_data/circuits.csv' \n",
    "df_circuits = pd.read_csv(circuits_data_path)"
   ],
   "id": "859adb6b6a3d69dd",
   "outputs": [],
   "execution_count": 10
  },
  {
   "metadata": {
    "ExecuteTime": {
     "end_time": "2024-11-15T15:10:42.592855Z",
     "start_time": "2024-11-15T15:10:42.589901Z"
    }
   },
   "cell_type": "code",
   "source": "df_circuits.info()",
   "id": "aec4cb592ebe144",
   "outputs": [
    {
     "name": "stdout",
     "output_type": "stream",
     "text": [
      "<class 'pandas.core.frame.DataFrame'>\n",
      "RangeIndex: 77 entries, 0 to 76\n",
      "Data columns (total 9 columns):\n",
      " #   Column      Non-Null Count  Dtype  \n",
      "---  ------      --------------  -----  \n",
      " 0   circuitId   77 non-null     int64  \n",
      " 1   circuitRef  77 non-null     object \n",
      " 2   name        77 non-null     object \n",
      " 3   location    77 non-null     object \n",
      " 4   country     77 non-null     object \n",
      " 5   lat         77 non-null     float64\n",
      " 6   lng         77 non-null     float64\n",
      " 7   alt         77 non-null     int64  \n",
      " 8   url         77 non-null     object \n",
      "dtypes: float64(2), int64(2), object(5)\n",
      "memory usage: 5.5+ KB\n"
     ]
    }
   ],
   "execution_count": 11
  },
  {
   "metadata": {
    "ExecuteTime": {
     "end_time": "2024-11-15T15:10:42.708374Z",
     "start_time": "2024-11-15T15:10:42.696158Z"
    }
   },
   "cell_type": "code",
   "source": [
    "df_results_races_circuits = pd.merge(df_results_races, df_circuits[['circuitId', 'location', 'country','lat' ,'lng', 'alt']], on=['circuitId'], how='left')\n",
    "df_results_races_circuits = df_results_races_circuits.rename(columns={'location': 'race_location', 'country': 'race_country', 'lat': 'race_lat', 'lng': 'race_lng', 'alt': 'race_alt'})\n",
    "df_results_races_circuits.shape"
   ],
   "id": "4b9d5ba7e7fec7b8",
   "outputs": [
    {
     "data": {
      "text/plain": [
       "(26699, 25)"
      ]
     },
     "execution_count": 12,
     "metadata": {},
     "output_type": "execute_result"
    }
   ],
   "execution_count": 12
  },
  {
   "metadata": {},
   "cell_type": "markdown",
   "source": [
    "### Grid vs. Position\n",
    "* Grid is the actual starting position on race day\n",
    "* position is the position in at the end of qualifying, not including penalties"
   ],
   "id": "f4db31fb82b62f5f"
  },
  {
   "metadata": {
    "ExecuteTime": {
     "end_time": "2024-11-15T15:10:42.786575Z",
     "start_time": "2024-11-15T15:10:42.778201Z"
    }
   },
   "cell_type": "code",
   "source": [
    "qualifying_data_path = '../data/raw_data/qualifying.csv' \n",
    "df_qualifying = pd.read_csv(qualifying_data_path)"
   ],
   "id": "31ad791d58e3a19",
   "outputs": [],
   "execution_count": 13
  },
  {
   "metadata": {
    "ExecuteTime": {
     "end_time": "2024-11-15T15:10:42.809997Z",
     "start_time": "2024-11-15T15:10:42.805454Z"
    }
   },
   "cell_type": "code",
   "source": "df_qualifying.info()",
   "id": "b3d42e8f5034de06",
   "outputs": [
    {
     "name": "stdout",
     "output_type": "stream",
     "text": [
      "<class 'pandas.core.frame.DataFrame'>\n",
      "RangeIndex: 10434 entries, 0 to 10433\n",
      "Data columns (total 9 columns):\n",
      " #   Column         Non-Null Count  Dtype \n",
      "---  ------         --------------  ----- \n",
      " 0   qualifyId      10434 non-null  int64 \n",
      " 1   raceId         10434 non-null  int64 \n",
      " 2   driverId       10434 non-null  int64 \n",
      " 3   constructorId  10434 non-null  int64 \n",
      " 4   number         10434 non-null  int64 \n",
      " 5   position       10434 non-null  int64 \n",
      " 6   q1             10434 non-null  object\n",
      " 7   q2             10412 non-null  object\n",
      " 8   q3             10388 non-null  object\n",
      "dtypes: int64(6), object(3)\n",
      "memory usage: 733.8+ KB\n"
     ]
    }
   ],
   "execution_count": 14
  },
  {
   "metadata": {
    "ExecuteTime": {
     "end_time": "2024-11-15T15:10:44.762734Z",
     "start_time": "2024-11-15T15:10:44.752483Z"
    }
   },
   "cell_type": "code",
   "source": [
    "df_results_races_circuits_qualifying = pd.merge(df_results_races_circuits, df_qualifying[['raceId', 'driverId','q1' ,'q2', 'q3', 'position']], on=['raceId', 'driverId'], how='left')\n",
    "df_results_races_circuits_qualifying.shape"
   ],
   "id": "37faa360b491113f",
   "outputs": [
    {
     "data": {
      "text/plain": [
       "(26699, 29)"
      ]
     },
     "execution_count": 15,
     "metadata": {},
     "output_type": "execute_result"
    }
   ],
   "execution_count": 15
  },
  {
   "metadata": {},
   "cell_type": "markdown",
   "source": "### Adding Driver Info",
   "id": "70285159af846d6f"
  },
  {
   "metadata": {
    "ExecuteTime": {
     "end_time": "2024-11-15T15:16:40.540962Z",
     "start_time": "2024-11-15T15:16:40.521051Z"
    }
   },
   "cell_type": "code",
   "source": [
    "drivers_data_path = '../data/raw_data/drivers.csv'\n",
    "df_drivers = pd.read_csv(drivers_data_path)"
   ],
   "id": "c30f5a8360baf166",
   "outputs": [],
   "execution_count": 17
  },
  {
   "metadata": {
    "ExecuteTime": {
     "end_time": "2024-11-15T15:16:41.144270Z",
     "start_time": "2024-11-15T15:16:41.139885Z"
    }
   },
   "cell_type": "code",
   "source": "df_drivers.info()",
   "id": "b98ce0064fb4c1d9",
   "outputs": [
    {
     "name": "stdout",
     "output_type": "stream",
     "text": [
      "<class 'pandas.core.frame.DataFrame'>\n",
      "RangeIndex: 860 entries, 0 to 859\n",
      "Data columns (total 9 columns):\n",
      " #   Column       Non-Null Count  Dtype \n",
      "---  ------       --------------  ----- \n",
      " 0   driverId     860 non-null    int64 \n",
      " 1   driverRef    860 non-null    object\n",
      " 2   number       860 non-null    object\n",
      " 3   code         860 non-null    object\n",
      " 4   forename     860 non-null    object\n",
      " 5   surname      860 non-null    object\n",
      " 6   dob          860 non-null    object\n",
      " 7   nationality  860 non-null    object\n",
      " 8   url          860 non-null    object\n",
      "dtypes: int64(1), object(8)\n",
      "memory usage: 60.6+ KB\n"
     ]
    }
   ],
   "execution_count": 18
  },
  {
   "metadata": {
    "ExecuteTime": {
     "end_time": "2024-11-15T15:19:42.676592Z",
     "start_time": "2024-11-15T15:19:42.644127Z"
    }
   },
   "cell_type": "code",
   "source": [
    "df_results_races_circuits_qualifying_drivers = pd.merge(df_results_races_circuits_qualifying, df_drivers[['driverId', 'dob','nationality']], on=['driverId'], how='left')\n",
    "df_results_races_circuits = df_results_races_circuits.rename(columns={'dob': 'driver_dob', 'nationality': 'driver_nationality'})\n",
    "df_results_races_circuits_qualifying_drivers.shape"
   ],
   "id": "2c9a181d596563",
   "outputs": [
    {
     "data": {
      "text/plain": [
       "(26699, 31)"
      ]
     },
     "execution_count": 21,
     "metadata": {},
     "output_type": "execute_result"
    }
   ],
   "execution_count": 21
  },
  {
   "metadata": {
    "ExecuteTime": {
     "end_time": "2024-11-15T15:19:44.579558Z",
     "start_time": "2024-11-15T15:19:44.560796Z"
    }
   },
   "cell_type": "code",
   "source": "df_results_races_circuits_qualifying",
   "id": "a13c1a36f53eaaf4",
   "outputs": [
    {
     "data": {
      "text/plain": [
       "       constructorId  driverId  grid number  raceId  resultId  year  round  \\\n",
       "0                  1         1     1     22      18         1  2008      1   \n",
       "1                  2         2     5      3      18         2  2008      1   \n",
       "2                  3         3     7      7      18         3  2008      1   \n",
       "3                  4         4    11      5      18         4  2008      1   \n",
       "4                  1         5     3     23      18         5  2008      1   \n",
       "...              ...       ...   ...    ...     ...       ...   ...    ...   \n",
       "26694              6       832     0     55    1141     26700  2024     21   \n",
       "26695              3       861    16     43    1141     26701  2024     21   \n",
       "26696              3       848     7     23    1141     26702  2024     21   \n",
       "26697            117       840    10     18    1141     26703  2024     21   \n",
       "26698            210       807    17     27    1141     26704  2024     21   \n",
       "\n",
       "       circuitId              race_name  ...  quali_date race_location  \\\n",
       "0              1  Australian Grand Prix  ...          \\N     Melbourne   \n",
       "1              1  Australian Grand Prix  ...          \\N     Melbourne   \n",
       "2              1  Australian Grand Prix  ...          \\N     Melbourne   \n",
       "3              1  Australian Grand Prix  ...          \\N     Melbourne   \n",
       "4              1  Australian Grand Prix  ...          \\N     Melbourne   \n",
       "...          ...                    ...  ...         ...           ...   \n",
       "26694         18   São Paulo Grand Prix  ...  2024-11-02     São Paulo   \n",
       "26695         18   São Paulo Grand Prix  ...  2024-11-02     São Paulo   \n",
       "26696         18   São Paulo Grand Prix  ...  2024-11-02     São Paulo   \n",
       "26697         18   São Paulo Grand Prix  ...  2024-11-02     São Paulo   \n",
       "26698         18   São Paulo Grand Prix  ...  2024-11-02     São Paulo   \n",
       "\n",
       "      race_country race_lat  race_lng race_alt        q1        q2        q3  \\\n",
       "0        Australia -37.8497  144.9680       10  1:26.572  1:25.187  1:26.714   \n",
       "1        Australia -37.8497  144.9680       10  1:25.960  1:25.518  1:27.236   \n",
       "2        Australia -37.8497  144.9680       10  1:26.295  1:26.059  1:28.687   \n",
       "3        Australia -37.8497  144.9680       10  1:26.907  1:26.188        \\N   \n",
       "4        Australia -37.8497  144.9680       10  1:25.664  1:25.452  1:27.079   \n",
       "...            ...      ...       ...      ...       ...       ...       ...   \n",
       "26694       Brazil -23.7036  -46.6997      785  1:30.303  1:29.406        \\N   \n",
       "26695       Brazil -23.7036  -46.6997      785  1:31.270        \\N        \\N   \n",
       "26696       Brazil -23.7036  -46.6997      785  1:29.072  1:25.889  1:24.657   \n",
       "26697       Brazil -23.7036  -46.6997      785  1:30.580  1:26.334        \\N   \n",
       "26698       Brazil -23.7036  -46.6997      785  1:31.623        \\N        \\N   \n",
       "\n",
       "      position  \n",
       "0          1.0  \n",
       "1          5.0  \n",
       "2          7.0  \n",
       "3         12.0  \n",
       "4          3.0  \n",
       "...        ...  \n",
       "26694     14.0  \n",
       "26695     18.0  \n",
       "26696      7.0  \n",
       "26697     10.0  \n",
       "26698     19.0  \n",
       "\n",
       "[26699 rows x 29 columns]"
      ],
      "text/html": [
       "<div>\n",
       "<style scoped>\n",
       "    .dataframe tbody tr th:only-of-type {\n",
       "        vertical-align: middle;\n",
       "    }\n",
       "\n",
       "    .dataframe tbody tr th {\n",
       "        vertical-align: top;\n",
       "    }\n",
       "\n",
       "    .dataframe thead th {\n",
       "        text-align: right;\n",
       "    }\n",
       "</style>\n",
       "<table border=\"1\" class=\"dataframe\">\n",
       "  <thead>\n",
       "    <tr style=\"text-align: right;\">\n",
       "      <th></th>\n",
       "      <th>constructorId</th>\n",
       "      <th>driverId</th>\n",
       "      <th>grid</th>\n",
       "      <th>number</th>\n",
       "      <th>raceId</th>\n",
       "      <th>resultId</th>\n",
       "      <th>year</th>\n",
       "      <th>round</th>\n",
       "      <th>circuitId</th>\n",
       "      <th>race_name</th>\n",
       "      <th>...</th>\n",
       "      <th>quali_date</th>\n",
       "      <th>race_location</th>\n",
       "      <th>race_country</th>\n",
       "      <th>race_lat</th>\n",
       "      <th>race_lng</th>\n",
       "      <th>race_alt</th>\n",
       "      <th>q1</th>\n",
       "      <th>q2</th>\n",
       "      <th>q3</th>\n",
       "      <th>position</th>\n",
       "    </tr>\n",
       "  </thead>\n",
       "  <tbody>\n",
       "    <tr>\n",
       "      <th>0</th>\n",
       "      <td>1</td>\n",
       "      <td>1</td>\n",
       "      <td>1</td>\n",
       "      <td>22</td>\n",
       "      <td>18</td>\n",
       "      <td>1</td>\n",
       "      <td>2008</td>\n",
       "      <td>1</td>\n",
       "      <td>1</td>\n",
       "      <td>Australian Grand Prix</td>\n",
       "      <td>...</td>\n",
       "      <td>\\N</td>\n",
       "      <td>Melbourne</td>\n",
       "      <td>Australia</td>\n",
       "      <td>-37.8497</td>\n",
       "      <td>144.9680</td>\n",
       "      <td>10</td>\n",
       "      <td>1:26.572</td>\n",
       "      <td>1:25.187</td>\n",
       "      <td>1:26.714</td>\n",
       "      <td>1.0</td>\n",
       "    </tr>\n",
       "    <tr>\n",
       "      <th>1</th>\n",
       "      <td>2</td>\n",
       "      <td>2</td>\n",
       "      <td>5</td>\n",
       "      <td>3</td>\n",
       "      <td>18</td>\n",
       "      <td>2</td>\n",
       "      <td>2008</td>\n",
       "      <td>1</td>\n",
       "      <td>1</td>\n",
       "      <td>Australian Grand Prix</td>\n",
       "      <td>...</td>\n",
       "      <td>\\N</td>\n",
       "      <td>Melbourne</td>\n",
       "      <td>Australia</td>\n",
       "      <td>-37.8497</td>\n",
       "      <td>144.9680</td>\n",
       "      <td>10</td>\n",
       "      <td>1:25.960</td>\n",
       "      <td>1:25.518</td>\n",
       "      <td>1:27.236</td>\n",
       "      <td>5.0</td>\n",
       "    </tr>\n",
       "    <tr>\n",
       "      <th>2</th>\n",
       "      <td>3</td>\n",
       "      <td>3</td>\n",
       "      <td>7</td>\n",
       "      <td>7</td>\n",
       "      <td>18</td>\n",
       "      <td>3</td>\n",
       "      <td>2008</td>\n",
       "      <td>1</td>\n",
       "      <td>1</td>\n",
       "      <td>Australian Grand Prix</td>\n",
       "      <td>...</td>\n",
       "      <td>\\N</td>\n",
       "      <td>Melbourne</td>\n",
       "      <td>Australia</td>\n",
       "      <td>-37.8497</td>\n",
       "      <td>144.9680</td>\n",
       "      <td>10</td>\n",
       "      <td>1:26.295</td>\n",
       "      <td>1:26.059</td>\n",
       "      <td>1:28.687</td>\n",
       "      <td>7.0</td>\n",
       "    </tr>\n",
       "    <tr>\n",
       "      <th>3</th>\n",
       "      <td>4</td>\n",
       "      <td>4</td>\n",
       "      <td>11</td>\n",
       "      <td>5</td>\n",
       "      <td>18</td>\n",
       "      <td>4</td>\n",
       "      <td>2008</td>\n",
       "      <td>1</td>\n",
       "      <td>1</td>\n",
       "      <td>Australian Grand Prix</td>\n",
       "      <td>...</td>\n",
       "      <td>\\N</td>\n",
       "      <td>Melbourne</td>\n",
       "      <td>Australia</td>\n",
       "      <td>-37.8497</td>\n",
       "      <td>144.9680</td>\n",
       "      <td>10</td>\n",
       "      <td>1:26.907</td>\n",
       "      <td>1:26.188</td>\n",
       "      <td>\\N</td>\n",
       "      <td>12.0</td>\n",
       "    </tr>\n",
       "    <tr>\n",
       "      <th>4</th>\n",
       "      <td>1</td>\n",
       "      <td>5</td>\n",
       "      <td>3</td>\n",
       "      <td>23</td>\n",
       "      <td>18</td>\n",
       "      <td>5</td>\n",
       "      <td>2008</td>\n",
       "      <td>1</td>\n",
       "      <td>1</td>\n",
       "      <td>Australian Grand Prix</td>\n",
       "      <td>...</td>\n",
       "      <td>\\N</td>\n",
       "      <td>Melbourne</td>\n",
       "      <td>Australia</td>\n",
       "      <td>-37.8497</td>\n",
       "      <td>144.9680</td>\n",
       "      <td>10</td>\n",
       "      <td>1:25.664</td>\n",
       "      <td>1:25.452</td>\n",
       "      <td>1:27.079</td>\n",
       "      <td>3.0</td>\n",
       "    </tr>\n",
       "    <tr>\n",
       "      <th>...</th>\n",
       "      <td>...</td>\n",
       "      <td>...</td>\n",
       "      <td>...</td>\n",
       "      <td>...</td>\n",
       "      <td>...</td>\n",
       "      <td>...</td>\n",
       "      <td>...</td>\n",
       "      <td>...</td>\n",
       "      <td>...</td>\n",
       "      <td>...</td>\n",
       "      <td>...</td>\n",
       "      <td>...</td>\n",
       "      <td>...</td>\n",
       "      <td>...</td>\n",
       "      <td>...</td>\n",
       "      <td>...</td>\n",
       "      <td>...</td>\n",
       "      <td>...</td>\n",
       "      <td>...</td>\n",
       "      <td>...</td>\n",
       "      <td>...</td>\n",
       "    </tr>\n",
       "    <tr>\n",
       "      <th>26694</th>\n",
       "      <td>6</td>\n",
       "      <td>832</td>\n",
       "      <td>0</td>\n",
       "      <td>55</td>\n",
       "      <td>1141</td>\n",
       "      <td>26700</td>\n",
       "      <td>2024</td>\n",
       "      <td>21</td>\n",
       "      <td>18</td>\n",
       "      <td>São Paulo Grand Prix</td>\n",
       "      <td>...</td>\n",
       "      <td>2024-11-02</td>\n",
       "      <td>São Paulo</td>\n",
       "      <td>Brazil</td>\n",
       "      <td>-23.7036</td>\n",
       "      <td>-46.6997</td>\n",
       "      <td>785</td>\n",
       "      <td>1:30.303</td>\n",
       "      <td>1:29.406</td>\n",
       "      <td>\\N</td>\n",
       "      <td>14.0</td>\n",
       "    </tr>\n",
       "    <tr>\n",
       "      <th>26695</th>\n",
       "      <td>3</td>\n",
       "      <td>861</td>\n",
       "      <td>16</td>\n",
       "      <td>43</td>\n",
       "      <td>1141</td>\n",
       "      <td>26701</td>\n",
       "      <td>2024</td>\n",
       "      <td>21</td>\n",
       "      <td>18</td>\n",
       "      <td>São Paulo Grand Prix</td>\n",
       "      <td>...</td>\n",
       "      <td>2024-11-02</td>\n",
       "      <td>São Paulo</td>\n",
       "      <td>Brazil</td>\n",
       "      <td>-23.7036</td>\n",
       "      <td>-46.6997</td>\n",
       "      <td>785</td>\n",
       "      <td>1:31.270</td>\n",
       "      <td>\\N</td>\n",
       "      <td>\\N</td>\n",
       "      <td>18.0</td>\n",
       "    </tr>\n",
       "    <tr>\n",
       "      <th>26696</th>\n",
       "      <td>3</td>\n",
       "      <td>848</td>\n",
       "      <td>7</td>\n",
       "      <td>23</td>\n",
       "      <td>1141</td>\n",
       "      <td>26702</td>\n",
       "      <td>2024</td>\n",
       "      <td>21</td>\n",
       "      <td>18</td>\n",
       "      <td>São Paulo Grand Prix</td>\n",
       "      <td>...</td>\n",
       "      <td>2024-11-02</td>\n",
       "      <td>São Paulo</td>\n",
       "      <td>Brazil</td>\n",
       "      <td>-23.7036</td>\n",
       "      <td>-46.6997</td>\n",
       "      <td>785</td>\n",
       "      <td>1:29.072</td>\n",
       "      <td>1:25.889</td>\n",
       "      <td>1:24.657</td>\n",
       "      <td>7.0</td>\n",
       "    </tr>\n",
       "    <tr>\n",
       "      <th>26697</th>\n",
       "      <td>117</td>\n",
       "      <td>840</td>\n",
       "      <td>10</td>\n",
       "      <td>18</td>\n",
       "      <td>1141</td>\n",
       "      <td>26703</td>\n",
       "      <td>2024</td>\n",
       "      <td>21</td>\n",
       "      <td>18</td>\n",
       "      <td>São Paulo Grand Prix</td>\n",
       "      <td>...</td>\n",
       "      <td>2024-11-02</td>\n",
       "      <td>São Paulo</td>\n",
       "      <td>Brazil</td>\n",
       "      <td>-23.7036</td>\n",
       "      <td>-46.6997</td>\n",
       "      <td>785</td>\n",
       "      <td>1:30.580</td>\n",
       "      <td>1:26.334</td>\n",
       "      <td>\\N</td>\n",
       "      <td>10.0</td>\n",
       "    </tr>\n",
       "    <tr>\n",
       "      <th>26698</th>\n",
       "      <td>210</td>\n",
       "      <td>807</td>\n",
       "      <td>17</td>\n",
       "      <td>27</td>\n",
       "      <td>1141</td>\n",
       "      <td>26704</td>\n",
       "      <td>2024</td>\n",
       "      <td>21</td>\n",
       "      <td>18</td>\n",
       "      <td>São Paulo Grand Prix</td>\n",
       "      <td>...</td>\n",
       "      <td>2024-11-02</td>\n",
       "      <td>São Paulo</td>\n",
       "      <td>Brazil</td>\n",
       "      <td>-23.7036</td>\n",
       "      <td>-46.6997</td>\n",
       "      <td>785</td>\n",
       "      <td>1:31.623</td>\n",
       "      <td>\\N</td>\n",
       "      <td>\\N</td>\n",
       "      <td>19.0</td>\n",
       "    </tr>\n",
       "  </tbody>\n",
       "</table>\n",
       "<p>26699 rows × 29 columns</p>\n",
       "</div>"
      ]
     },
     "execution_count": 22,
     "metadata": {},
     "output_type": "execute_result"
    }
   ],
   "execution_count": 22
  },
  {
   "metadata": {},
   "cell_type": "markdown",
   "source": "### Adding PitStop Data",
   "id": "1254dcfc2fa2d356"
  },
  {
   "metadata": {
    "ExecuteTime": {
     "end_time": "2024-11-15T15:00:09.997590Z",
     "start_time": "2024-11-15T15:00:09.990015Z"
    }
   },
   "cell_type": "code",
   "source": [
    "pitstop_data_path = '../data/raw_data/pit_stops.csv'\n",
    "df_pitstops = pd.read_csv(pitstop_data_path)"
   ],
   "id": "2686abcec0823b97",
   "outputs": [],
   "execution_count": 13
  },
  {
   "metadata": {
    "ExecuteTime": {
     "end_time": "2024-11-15T15:00:10.018411Z",
     "start_time": "2024-11-15T15:00:10.015959Z"
    }
   },
   "cell_type": "code",
   "source": [
    "# Function to analyze pit stop durations for a specific driver in a specific race\n",
    "def analyze_pit_stops(race_id, driver_id):\n",
    "    # Filter the DataFrame for the specified race and driver\n",
    "    driver_pit_stops = df[(df['raceId'] == race_id) & (df['driverId'] == driver_id)]\n",
    "\n",
    "    # Check if there are any pit stops for the given criteria\n",
    "    if driver_pit_stops.empty:\n",
    "        print(f\"No pit stop data found for driverId {driver_id} in raceId {race_id}.\")\n",
    "        return\n",
    "\n",
    "    # Convert 'milliseconds' column to numeric if it's not already\n",
    "    driver_pit_stops['milliseconds'] = pd.to_numeric(driver_pit_stops['milliseconds'], errors='coerce')\n",
    "\n",
    "    # Drop rows with NaN values in 'milliseconds' column\n",
    "    driver_pit_stops = driver_pit_stops.dropna(subset=['milliseconds'])\n",
    "\n",
    "    # Calculate Q1 (25th percentile) and Q3 (75th percentile)\n",
    "    Q1 = driver_pit_stops['milliseconds'].quantile(0.25)\n",
    "    Q3 = driver_pit_stops['milliseconds'].quantile(0.75)\n",
    "\n",
    "    # Calculate IQR\n",
    "    IQR = Q3 - Q1\n",
    "\n",
    "    # Define the lower and upper bounds for outliers\n",
    "    lower_bound = Q1 - 1.5 * IQR\n",
    "    upper_bound = Q3 + 1.5 * IQR\n",
    "\n",
    "    # Filter out outliers\n",
    "    filtered_pit_stops = driver_pit_stops[(driver_pit_stops['milliseconds'] >= lower_bound) &\n",
    "                                          (driver_pit_stops['milliseconds'] <= upper_bound)]\n",
    "\n",
    "    # Check if there are any pit stops left after filtering\n",
    "    if filtered_pit_stops.empty:\n",
    "        print(f\"All pit stops for driverId {driver_id} in raceId {race_id} are considered outliers.\")\n",
    "        return\n",
    "\n",
    "    # Calculate min, max, and average durations\n",
    "    min_duration = filtered_pit_stops['milliseconds'].min()\n",
    "    max_duration = filtered_pit_stops['milliseconds'].max()\n",
    "    avg_duration = filtered_pit_stops['milliseconds'].mean()"
   ],
   "id": "74a27aff88e07784",
   "outputs": [],
   "execution_count": 14
  },
  {
   "metadata": {
    "ExecuteTime": {
     "end_time": "2024-11-15T15:00:10.039779Z",
     "start_time": "2024-11-15T15:00:10.036512Z"
    }
   },
   "cell_type": "code",
   "source": "df_pitstops.info()",
   "id": "8c447e38e4e1f46d",
   "outputs": [
    {
     "name": "stdout",
     "output_type": "stream",
     "text": [
      "<class 'pandas.core.frame.DataFrame'>\n",
      "RangeIndex: 11244 entries, 0 to 11243\n",
      "Data columns (total 7 columns):\n",
      " #   Column        Non-Null Count  Dtype \n",
      "---  ------        --------------  ----- \n",
      " 0   raceId        11244 non-null  int64 \n",
      " 1   driverId      11244 non-null  int64 \n",
      " 2   stop          11244 non-null  int64 \n",
      " 3   lap           11244 non-null  int64 \n",
      " 4   time          11244 non-null  object\n",
      " 5   duration      11244 non-null  object\n",
      " 6   milliseconds  11244 non-null  int64 \n",
      "dtypes: int64(5), object(2)\n",
      "memory usage: 615.0+ KB\n"
     ]
    }
   ],
   "execution_count": 15
  },
  {
   "metadata": {
    "ExecuteTime": {
     "end_time": "2024-11-15T15:00:10.058161Z",
     "start_time": "2024-11-15T15:00:10.057058Z"
    }
   },
   "cell_type": "code",
   "source": "",
   "id": "2c45c9bc0be3fd79",
   "outputs": [],
   "execution_count": null
  },
  {
   "metadata": {
    "ExecuteTime": {
     "end_time": "2024-11-15T15:00:10.082184Z",
     "start_time": "2024-11-15T15:00:10.077652Z"
    }
   },
   "cell_type": "code",
   "source": [
    "df_results_quali = pd.merge(df_noDuplicates, df_qualifying[['raceId', 'driverId', 'q1', 'q2', 'q3', 'position']],\n",
    "                            on=['raceId', 'driverId'])"
   ],
   "id": "3c0d48dcc6155254",
   "outputs": [],
   "execution_count": 16
  }
 ],
 "metadata": {
  "kernelspec": {
   "display_name": "Python 3",
   "language": "python",
   "name": "python3"
  },
  "language_info": {
   "codemirror_mode": {
    "name": "ipython",
    "version": 2
   },
   "file_extension": ".py",
   "mimetype": "text/x-python",
   "name": "python",
   "nbconvert_exporter": "python",
   "pygments_lexer": "ipython2",
   "version": "2.7.6"
  }
 },
 "nbformat": 4,
 "nbformat_minor": 5
}
