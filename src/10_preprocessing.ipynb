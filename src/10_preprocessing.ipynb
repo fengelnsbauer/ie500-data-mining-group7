{
 "cells": [
  {
   "metadata": {
    "ExecuteTime": {
<<<<<<< Updated upstream
     "end_time": "2024-11-18T20:21:56.080068Z",
     "start_time": "2024-11-18T20:21:56.075481Z"
=======
     "end_time": "2024-11-18T13:48:27.437716Z",
     "start_time": "2024-11-18T13:48:27.164126Z"
>>>>>>> Stashed changes
    }
   },
   "cell_type": "code",
   "source": "import pandas as pd",
   "id": "e9f61c6188484a6",
   "outputs": [],
<<<<<<< Updated upstream
   "execution_count": 148
=======
   "execution_count": 1
>>>>>>> Stashed changes
  },
  {
   "metadata": {
    "ExecuteTime": {
<<<<<<< Updated upstream
     "end_time": "2024-11-18T20:21:56.122335Z",
     "start_time": "2024-11-18T20:21:56.086168Z"
=======
     "end_time": "2024-11-18T13:48:27.475862Z",
     "start_time": "2024-11-18T13:48:27.445664Z"
>>>>>>> Stashed changes
    }
   },
   "cell_type": "code",
   "source": [
    "results_data_path = '../data/raw_data/results.csv'  # Use your preprocessed data path\n",
    "df_results = pd.read_csv(results_data_path)\n",
    "\n",
    "# Display the first few rows\n",
    "df_results.head()"
   ],
   "id": "4fe1afb1a498a45",
   "outputs": [
    {
     "data": {
      "text/plain": [
       "   resultId  raceId  driverId  constructorId number  grid position  \\\n",
       "0         1      18         1              1     22     1        1   \n",
       "1         2      18         2              2      3     5        2   \n",
       "2         3      18         3              3      7     7        3   \n",
       "3         4      18         4              4      5    11        4   \n",
       "4         5      18         5              1     23     3        5   \n",
       "\n",
       "  positionText  positionOrder  points  laps         time milliseconds  \\\n",
       "0            1              1    10.0    58  1:34:50.616      5690616   \n",
       "1            2              2     8.0    58       +5.478      5696094   \n",
       "2            3              3     6.0    58       +8.163      5698779   \n",
       "3            4              4     5.0    58      +17.181      5707797   \n",
       "4            5              5     4.0    58      +18.014      5708630   \n",
       "\n",
       "  fastestLap rank fastestLapTime fastestLapSpeed  statusId  \n",
       "0         39    2       1:27.452         218.300         1  \n",
       "1         41    3       1:27.739         217.586         1  \n",
       "2         41    5       1:28.090         216.719         1  \n",
       "3         58    7       1:28.603         215.464         1  \n",
       "4         43    1       1:27.418         218.385         1  "
      ],
      "text/html": [
       "<div>\n",
       "<style scoped>\n",
       "    .dataframe tbody tr th:only-of-type {\n",
       "        vertical-align: middle;\n",
       "    }\n",
       "\n",
       "    .dataframe tbody tr th {\n",
       "        vertical-align: top;\n",
       "    }\n",
       "\n",
       "    .dataframe thead th {\n",
       "        text-align: right;\n",
       "    }\n",
       "</style>\n",
       "<table border=\"1\" class=\"dataframe\">\n",
       "  <thead>\n",
       "    <tr style=\"text-align: right;\">\n",
       "      <th></th>\n",
       "      <th>resultId</th>\n",
       "      <th>raceId</th>\n",
       "      <th>driverId</th>\n",
       "      <th>constructorId</th>\n",
       "      <th>number</th>\n",
       "      <th>grid</th>\n",
       "      <th>position</th>\n",
       "      <th>positionText</th>\n",
       "      <th>positionOrder</th>\n",
       "      <th>points</th>\n",
       "      <th>laps</th>\n",
       "      <th>time</th>\n",
       "      <th>milliseconds</th>\n",
       "      <th>fastestLap</th>\n",
       "      <th>rank</th>\n",
       "      <th>fastestLapTime</th>\n",
       "      <th>fastestLapSpeed</th>\n",
       "      <th>statusId</th>\n",
       "    </tr>\n",
       "  </thead>\n",
       "  <tbody>\n",
       "    <tr>\n",
       "      <th>0</th>\n",
       "      <td>1</td>\n",
       "      <td>18</td>\n",
       "      <td>1</td>\n",
       "      <td>1</td>\n",
       "      <td>22</td>\n",
       "      <td>1</td>\n",
       "      <td>1</td>\n",
       "      <td>1</td>\n",
       "      <td>1</td>\n",
       "      <td>10.0</td>\n",
       "      <td>58</td>\n",
       "      <td>1:34:50.616</td>\n",
       "      <td>5690616</td>\n",
       "      <td>39</td>\n",
       "      <td>2</td>\n",
       "      <td>1:27.452</td>\n",
       "      <td>218.300</td>\n",
       "      <td>1</td>\n",
       "    </tr>\n",
       "    <tr>\n",
       "      <th>1</th>\n",
       "      <td>2</td>\n",
       "      <td>18</td>\n",
       "      <td>2</td>\n",
       "      <td>2</td>\n",
       "      <td>3</td>\n",
       "      <td>5</td>\n",
       "      <td>2</td>\n",
       "      <td>2</td>\n",
       "      <td>2</td>\n",
       "      <td>8.0</td>\n",
       "      <td>58</td>\n",
       "      <td>+5.478</td>\n",
       "      <td>5696094</td>\n",
       "      <td>41</td>\n",
       "      <td>3</td>\n",
       "      <td>1:27.739</td>\n",
       "      <td>217.586</td>\n",
       "      <td>1</td>\n",
       "    </tr>\n",
       "    <tr>\n",
       "      <th>2</th>\n",
       "      <td>3</td>\n",
       "      <td>18</td>\n",
       "      <td>3</td>\n",
       "      <td>3</td>\n",
       "      <td>7</td>\n",
       "      <td>7</td>\n",
       "      <td>3</td>\n",
       "      <td>3</td>\n",
       "      <td>3</td>\n",
       "      <td>6.0</td>\n",
       "      <td>58</td>\n",
       "      <td>+8.163</td>\n",
       "      <td>5698779</td>\n",
       "      <td>41</td>\n",
       "      <td>5</td>\n",
       "      <td>1:28.090</td>\n",
       "      <td>216.719</td>\n",
       "      <td>1</td>\n",
       "    </tr>\n",
       "    <tr>\n",
       "      <th>3</th>\n",
       "      <td>4</td>\n",
       "      <td>18</td>\n",
       "      <td>4</td>\n",
       "      <td>4</td>\n",
       "      <td>5</td>\n",
       "      <td>11</td>\n",
       "      <td>4</td>\n",
       "      <td>4</td>\n",
       "      <td>4</td>\n",
       "      <td>5.0</td>\n",
       "      <td>58</td>\n",
       "      <td>+17.181</td>\n",
       "      <td>5707797</td>\n",
       "      <td>58</td>\n",
       "      <td>7</td>\n",
       "      <td>1:28.603</td>\n",
       "      <td>215.464</td>\n",
       "      <td>1</td>\n",
       "    </tr>\n",
       "    <tr>\n",
       "      <th>4</th>\n",
       "      <td>5</td>\n",
       "      <td>18</td>\n",
       "      <td>5</td>\n",
       "      <td>1</td>\n",
       "      <td>23</td>\n",
       "      <td>3</td>\n",
       "      <td>5</td>\n",
       "      <td>5</td>\n",
       "      <td>5</td>\n",
       "      <td>4.0</td>\n",
       "      <td>58</td>\n",
       "      <td>+18.014</td>\n",
       "      <td>5708630</td>\n",
       "      <td>43</td>\n",
       "      <td>1</td>\n",
       "      <td>1:27.418</td>\n",
       "      <td>218.385</td>\n",
       "      <td>1</td>\n",
       "    </tr>\n",
       "  </tbody>\n",
       "</table>\n",
       "</div>"
      ]
     },
<<<<<<< Updated upstream
     "execution_count": 149,
=======
     "execution_count": 2,
>>>>>>> Stashed changes
     "metadata": {},
     "output_type": "execute_result"
    }
   ],
<<<<<<< Updated upstream
   "execution_count": 149
=======
   "execution_count": 2
>>>>>>> Stashed changes
  },
  {
   "metadata": {
    "ExecuteTime": {
<<<<<<< Updated upstream
     "end_time": "2024-11-18T20:21:56.162419Z",
     "start_time": "2024-11-18T20:21:56.160264Z"
=======
     "end_time": "2024-11-18T13:48:27.587900Z",
     "start_time": "2024-11-18T13:48:27.586097Z"
>>>>>>> Stashed changes
    }
   },
   "cell_type": "code",
   "source": "df_results.shape",
   "id": "fb1a5a3efd5b1ed4",
   "outputs": [
    {
     "data": {
      "text/plain": [
       "(26699, 18)"
      ]
     },
<<<<<<< Updated upstream
     "execution_count": 150,
=======
     "execution_count": 3,
>>>>>>> Stashed changes
     "metadata": {},
     "output_type": "execute_result"
    }
   ],
<<<<<<< Updated upstream
   "execution_count": 150
=======
   "execution_count": 3
>>>>>>> Stashed changes
  },
  {
   "metadata": {
    "ExecuteTime": {
<<<<<<< Updated upstream
     "end_time": "2024-11-18T20:21:56.201776Z",
     "start_time": "2024-11-18T20:21:56.188891Z"
=======
     "end_time": "2024-11-18T13:48:27.615879Z",
     "start_time": "2024-11-18T13:48:27.606418Z"
>>>>>>> Stashed changes
    }
   },
   "cell_type": "code",
   "source": [
    "df = df_results.reindex(sorted(df_results.columns), axis=1)\n",
    "\n",
    "# Display DataFrame info\n",
    "df.info()\n",
    "\n",
    "# Check the shape of the DataFrame\n",
    "print(f\"DataFrame shape: {df_results.shape}\")\n"
   ],
   "id": "a86207f3555144ae",
   "outputs": [
    {
     "name": "stdout",
     "output_type": "stream",
     "text": [
      "<class 'pandas.core.frame.DataFrame'>\n",
      "RangeIndex: 26699 entries, 0 to 26698\n",
      "Data columns (total 18 columns):\n",
      " #   Column           Non-Null Count  Dtype  \n",
      "---  ------           --------------  -----  \n",
      " 0   constructorId    26699 non-null  int64  \n",
      " 1   driverId         26699 non-null  int64  \n",
      " 2   fastestLap       26699 non-null  object \n",
      " 3   fastestLapSpeed  26699 non-null  object \n",
      " 4   fastestLapTime   26699 non-null  object \n",
      " 5   grid             26699 non-null  int64  \n",
      " 6   laps             26699 non-null  int64  \n",
      " 7   milliseconds     26699 non-null  object \n",
      " 8   number           26699 non-null  object \n",
      " 9   points           26699 non-null  float64\n",
      " 10  position         26699 non-null  object \n",
      " 11  positionOrder    26699 non-null  int64  \n",
      " 12  positionText     26699 non-null  object \n",
      " 13  raceId           26699 non-null  int64  \n",
      " 14  rank             26699 non-null  object \n",
      " 15  resultId         26699 non-null  int64  \n",
      " 16  statusId         26699 non-null  int64  \n",
      " 17  time             26699 non-null  object \n",
      "dtypes: float64(1), int64(8), object(9)\n",
      "memory usage: 3.7+ MB\n",
      "DataFrame shape: (26699, 18)\n"
     ]
    }
   ],
<<<<<<< Updated upstream
   "execution_count": 151
=======
   "execution_count": 4
>>>>>>> Stashed changes
  },
  {
   "metadata": {
    "ExecuteTime": {
<<<<<<< Updated upstream
     "end_time": "2024-11-18T20:21:56.252886Z",
     "start_time": "2024-11-18T20:21:56.245364Z"
=======
     "end_time": "2024-11-18T13:48:27.646065Z",
     "start_time": "2024-11-18T13:48:27.640485Z"
>>>>>>> Stashed changes
    }
   },
   "cell_type": "code",
   "source": [
    "irrelevant_columns = [\n",
    "    'position', 'positionText', 'positionOrder', 'fastestLapTime', 'fastestLapTime', 'fastestLapSpeed', 'fastestLap', 'points', 'time', 'laps', 'milliseconds', 'rank', 'statusId'\n",
    "]\n",
    "\n",
    "df_other = df[['driverId', 'constructorId', 'raceId', 'statusId', 'points']].copy()\n",
    "\n",
    "# Drop the columns if they exist in the DataFrame\n",
    "df_dropped= df_results.drop(columns=[col for col in irrelevant_columns if col in df_results.columns])\n",
    "df_noDuplicates = df_dropped.drop_duplicates()\n",
    "df_noDuplicates.shape"
   ],
   "id": "cf121ce776165fd7",
   "outputs": [
    {
     "data": {
      "text/plain": [
       "(26699, 6)"
      ]
     },
<<<<<<< Updated upstream
     "execution_count": 152,
=======
     "execution_count": 5,
>>>>>>> Stashed changes
     "metadata": {},
     "output_type": "execute_result"
    }
   ],
<<<<<<< Updated upstream
   "execution_count": 152
=======
   "execution_count": 5
>>>>>>> Stashed changes
  },
  {
   "metadata": {
    "ExecuteTime": {
<<<<<<< Updated upstream
     "end_time": "2024-11-18T20:21:56.298482Z",
     "start_time": "2024-11-18T20:21:56.294313Z"
=======
     "end_time": "2024-11-18T13:48:27.661596Z",
     "start_time": "2024-11-18T13:48:27.657915Z"
>>>>>>> Stashed changes
    }
   },
   "cell_type": "code",
   "source": "df_noDuplicates.info()",
   "id": "3810b5edad1d082e",
   "outputs": [
    {
     "name": "stdout",
     "output_type": "stream",
     "text": [
      "<class 'pandas.core.frame.DataFrame'>\n",
      "RangeIndex: 26699 entries, 0 to 26698\n",
      "Data columns (total 6 columns):\n",
      " #   Column         Non-Null Count  Dtype \n",
      "---  ------         --------------  ----- \n",
      " 0   resultId       26699 non-null  int64 \n",
      " 1   raceId         26699 non-null  int64 \n",
      " 2   driverId       26699 non-null  int64 \n",
      " 3   constructorId  26699 non-null  int64 \n",
      " 4   number         26699 non-null  object\n",
      " 5   grid           26699 non-null  int64 \n",
      "dtypes: int64(5), object(1)\n",
      "memory usage: 1.2+ MB\n"
     ]
    }
   ],
<<<<<<< Updated upstream
   "execution_count": 153
=======
   "execution_count": 6
>>>>>>> Stashed changes
  },
  {
   "metadata": {},
   "cell_type": "markdown",
   "source": "### Add new features from other tables",
   "id": "a351ab685d1876cc"
  },
  {
   "metadata": {},
   "cell_type": "markdown",
   "source": "### Add Race Info",
   "id": "283c08be4711334f"
  },
  {
   "metadata": {
    "ExecuteTime": {
<<<<<<< Updated upstream
     "end_time": "2024-11-18T20:21:56.325826Z",
     "start_time": "2024-11-18T20:21:56.320740Z"
=======
     "end_time": "2024-11-18T13:48:27.677983Z",
     "start_time": "2024-11-18T13:48:27.673488Z"
>>>>>>> Stashed changes
    }
   },
   "cell_type": "code",
   "source": [
    "races_data_path = '../data/raw_data/races.csv' \n",
    "df_races = pd.read_csv(races_data_path)"
   ],
   "id": "84066e3374f112eb",
   "outputs": [],
<<<<<<< Updated upstream
   "execution_count": 154
=======
   "execution_count": 7
>>>>>>> Stashed changes
  },
  {
   "metadata": {
    "ExecuteTime": {
<<<<<<< Updated upstream
     "end_time": "2024-11-18T20:21:56.350543Z",
     "start_time": "2024-11-18T20:21:56.346932Z"
=======
     "end_time": "2024-11-18T13:48:27.692247Z",
     "start_time": "2024-11-18T13:48:27.689076Z"
>>>>>>> Stashed changes
    }
   },
   "cell_type": "code",
   "source": "df_races.info()",
   "id": "9c136704ae88bdaa",
   "outputs": [
    {
     "name": "stdout",
     "output_type": "stream",
     "text": [
      "<class 'pandas.core.frame.DataFrame'>\n",
      "RangeIndex: 1125 entries, 0 to 1124\n",
      "Data columns (total 18 columns):\n",
      " #   Column       Non-Null Count  Dtype \n",
      "---  ------       --------------  ----- \n",
      " 0   raceId       1125 non-null   int64 \n",
      " 1   year         1125 non-null   int64 \n",
      " 2   round        1125 non-null   int64 \n",
      " 3   circuitId    1125 non-null   int64 \n",
      " 4   name         1125 non-null   object\n",
      " 5   date         1125 non-null   object\n",
      " 6   time         1125 non-null   object\n",
      " 7   url          1125 non-null   object\n",
      " 8   fp1_date     1125 non-null   object\n",
      " 9   fp1_time     1125 non-null   object\n",
      " 10  fp2_date     1125 non-null   object\n",
      " 11  fp2_time     1125 non-null   object\n",
      " 12  fp3_date     1125 non-null   object\n",
      " 13  fp3_time     1125 non-null   object\n",
      " 14  quali_date   1125 non-null   object\n",
      " 15  quali_time   1125 non-null   object\n",
      " 16  sprint_date  1125 non-null   object\n",
      " 17  sprint_time  1125 non-null   object\n",
      "dtypes: int64(4), object(14)\n",
      "memory usage: 158.3+ KB\n"
     ]
    }
   ],
<<<<<<< Updated upstream
   "execution_count": 155
=======
   "execution_count": 8
>>>>>>> Stashed changes
  },
  {
   "metadata": {
    "ExecuteTime": {
<<<<<<< Updated upstream
     "end_time": "2024-11-18T20:21:56.386969Z",
     "start_time": "2024-11-18T20:21:56.371798Z"
=======
     "end_time": "2024-11-18T13:48:27.713956Z",
     "start_time": "2024-11-18T13:48:27.700922Z"
>>>>>>> Stashed changes
    }
   },
   "cell_type": "code",
   "source": [
    "df_results_races = pd.merge(df_noDuplicates, df_races[['raceId', 'year','round' ,'circuitId', 'name', 'date', 'time', 'fp1_date', 'fp2_date', 'fp3_date', 'fp1_time', 'fp2_time', 'fp3_time', 'quali_time', 'quali_date']], on=['raceId'], how='left')\n",
    "df_results_races = df_results_races.rename(columns={'name': 'race_name', 'date': 'race_date', 'time': 'race_time'})\n",
    "df_results_races.shape"
   ],
   "id": "278ba8c8cb509e57",
   "outputs": [
    {
     "data": {
      "text/plain": [
       "(26699, 20)"
      ]
     },
<<<<<<< Updated upstream
     "execution_count": 156,
=======
     "execution_count": 9,
>>>>>>> Stashed changes
     "metadata": {},
     "output_type": "execute_result"
    }
   ],
<<<<<<< Updated upstream
   "execution_count": 156
=======
   "execution_count": 9
>>>>>>> Stashed changes
  },
  {
   "metadata": {},
   "cell_type": "markdown",
   "source": "### Add Circuit Info",
   "id": "ccd747a8e2ff3071"
  },
  {
   "metadata": {
    "ExecuteTime": {
<<<<<<< Updated upstream
     "end_time": "2024-11-18T20:21:56.410436Z",
     "start_time": "2024-11-18T20:21:56.407698Z"
=======
     "end_time": "2024-11-18T13:48:27.727312Z",
     "start_time": "2024-11-18T13:48:27.724628Z"
>>>>>>> Stashed changes
    }
   },
   "cell_type": "code",
   "source": [
    "circuits_data_path = '../data/raw_data/circuits.csv' \n",
    "df_circuits = pd.read_csv(circuits_data_path)"
   ],
   "id": "aaabae4a9baabedf",
   "outputs": [],
<<<<<<< Updated upstream
   "execution_count": 157
=======
   "execution_count": 10
>>>>>>> Stashed changes
  },
  {
   "metadata": {
    "ExecuteTime": {
<<<<<<< Updated upstream
     "end_time": "2024-11-18T20:21:56.434648Z",
     "start_time": "2024-11-18T20:21:56.431337Z"
=======
     "end_time": "2024-11-18T13:48:27.741522Z",
     "start_time": "2024-11-18T13:48:27.738592Z"
>>>>>>> Stashed changes
    }
   },
   "cell_type": "code",
   "source": "df_circuits.info()",
   "id": "25d923459dfd099f",
   "outputs": [
    {
     "name": "stdout",
     "output_type": "stream",
     "text": [
      "<class 'pandas.core.frame.DataFrame'>\n",
      "RangeIndex: 77 entries, 0 to 76\n",
      "Data columns (total 9 columns):\n",
      " #   Column      Non-Null Count  Dtype  \n",
      "---  ------      --------------  -----  \n",
      " 0   circuitId   77 non-null     int64  \n",
      " 1   circuitRef  77 non-null     object \n",
      " 2   name        77 non-null     object \n",
      " 3   location    77 non-null     object \n",
      " 4   country     77 non-null     object \n",
      " 5   lat         77 non-null     float64\n",
      " 6   lng         77 non-null     float64\n",
      " 7   alt         77 non-null     int64  \n",
      " 8   url         77 non-null     object \n",
      "dtypes: float64(2), int64(2), object(5)\n",
      "memory usage: 5.5+ KB\n"
     ]
    }
   ],
<<<<<<< Updated upstream
   "execution_count": 158
=======
   "execution_count": 11
>>>>>>> Stashed changes
  },
  {
   "metadata": {
    "ExecuteTime": {
<<<<<<< Updated upstream
     "end_time": "2024-11-18T20:21:56.472479Z",
     "start_time": "2024-11-18T20:21:56.456218Z"
=======
     "end_time": "2024-11-18T13:48:27.782863Z",
     "start_time": "2024-11-18T13:48:27.769854Z"
>>>>>>> Stashed changes
    }
   },
   "cell_type": "code",
   "source": [
    "df_results_races_circuits = pd.merge(df_results_races, df_circuits[['circuitId', 'location', 'country','lat' ,'lng', 'alt']], on=['circuitId'], how='left')\n",
    "df_results_races_circuits = df_results_races_circuits.rename(columns={'location': 'race_location', 'country': 'race_country', 'lat': 'race_lat', 'lng': 'race_lng', 'alt': 'race_alt'})\n",
    "df_results_races_circuits.shape"
   ],
   "id": "6d97c4e07baccdde",
   "outputs": [
    {
     "data": {
      "text/plain": [
       "(26699, 25)"
      ]
     },
<<<<<<< Updated upstream
     "execution_count": 159,
=======
     "execution_count": 12,
>>>>>>> Stashed changes
     "metadata": {},
     "output_type": "execute_result"
    }
   ],
<<<<<<< Updated upstream
   "execution_count": 159
=======
   "execution_count": 12
>>>>>>> Stashed changes
  },
  {
   "metadata": {},
   "cell_type": "markdown",
   "source": [
    "### Grid vs. Position\n",
    "* Grid is the actual starting position on race day\n",
    "* position is the position in at the end of qualifying, not including penalties"
   ],
   "id": "b199283838b8de39"
  },
  {
   "metadata": {
    "ExecuteTime": {
<<<<<<< Updated upstream
     "end_time": "2024-11-18T20:21:56.503444Z",
     "start_time": "2024-11-18T20:21:56.493852Z"
=======
     "end_time": "2024-11-18T13:48:27.808392Z",
     "start_time": "2024-11-18T13:48:27.800569Z"
>>>>>>> Stashed changes
    }
   },
   "cell_type": "code",
   "source": [
    "qualifying_data_path = '../data/raw_data/qualifying.csv' \n",
    "df_qualifying = pd.read_csv(qualifying_data_path)"
   ],
   "id": "606155374388ecdc",
   "outputs": [],
<<<<<<< Updated upstream
   "execution_count": 160
=======
   "execution_count": 13
>>>>>>> Stashed changes
  },
  {
   "metadata": {
    "ExecuteTime": {
<<<<<<< Updated upstream
     "end_time": "2024-11-18T20:21:56.530237Z",
     "start_time": "2024-11-18T20:21:56.525412Z"
=======
     "end_time": "2024-11-18T13:48:27.829064Z",
     "start_time": "2024-11-18T13:48:27.825562Z"
>>>>>>> Stashed changes
    }
   },
   "cell_type": "code",
   "source": "df_qualifying.info()",
   "id": "e0de0e961a368dfc",
   "outputs": [
    {
     "name": "stdout",
     "output_type": "stream",
     "text": [
      "<class 'pandas.core.frame.DataFrame'>\n",
      "RangeIndex: 10434 entries, 0 to 10433\n",
      "Data columns (total 9 columns):\n",
      " #   Column         Non-Null Count  Dtype \n",
      "---  ------         --------------  ----- \n",
      " 0   qualifyId      10434 non-null  int64 \n",
      " 1   raceId         10434 non-null  int64 \n",
      " 2   driverId       10434 non-null  int64 \n",
      " 3   constructorId  10434 non-null  int64 \n",
      " 4   number         10434 non-null  int64 \n",
      " 5   position       10434 non-null  int64 \n",
      " 6   q1             10434 non-null  object\n",
      " 7   q2             10412 non-null  object\n",
      " 8   q3             10388 non-null  object\n",
      "dtypes: int64(6), object(3)\n",
      "memory usage: 733.8+ KB\n"
     ]
    }
   ],
<<<<<<< Updated upstream
   "execution_count": 161
=======
   "execution_count": 14
>>>>>>> Stashed changes
  },
  {
   "metadata": {
    "ExecuteTime": {
<<<<<<< Updated upstream
     "end_time": "2024-11-18T20:21:56.583436Z",
     "start_time": "2024-11-18T20:21:56.572851Z"
=======
     "end_time": "2024-11-18T13:48:27.852296Z",
     "start_time": "2024-11-18T13:48:27.846035Z"
>>>>>>> Stashed changes
    }
   },
   "cell_type": "code",
   "source": [
    "df_results_races_circuits_qualifying = pd.merge(df_results_races_circuits, df_qualifying[['raceId', 'driverId','q1' ,'q2', 'q3', 'position']], on=['raceId', 'driverId'], how='left')\n",
    "df_results_races_circuits_qualifying.shape"
   ],
   "id": "374554cb30530467",
   "outputs": [
    {
     "data": {
      "text/plain": [
       "(26699, 29)"
      ]
     },
<<<<<<< Updated upstream
     "execution_count": 162,
=======
     "execution_count": 15,
>>>>>>> Stashed changes
     "metadata": {},
     "output_type": "execute_result"
    }
   ],
<<<<<<< Updated upstream
   "execution_count": 162
=======
   "execution_count": 15
>>>>>>> Stashed changes
  },
  {
   "metadata": {},
   "cell_type": "markdown",
   "source": "### Adding Driver Info",
   "id": "9d186b266a669449"
  },
  {
   "metadata": {
    "ExecuteTime": {
<<<<<<< Updated upstream
     "end_time": "2024-11-18T20:21:56.592263Z",
     "start_time": "2024-11-18T20:21:56.588020Z"
=======
     "end_time": "2024-11-18T13:48:27.879080Z",
     "start_time": "2024-11-18T13:48:27.875622Z"
>>>>>>> Stashed changes
    }
   },
   "cell_type": "code",
   "source": [
    "drivers_data_path = '../data/raw_data/drivers.csv'\n",
    "df_drivers = pd.read_csv(drivers_data_path)"
   ],
   "id": "25924b8d236ddd93",
   "outputs": [],
<<<<<<< Updated upstream
   "execution_count": 163
=======
   "execution_count": 16
>>>>>>> Stashed changes
  },
  {
   "metadata": {
    "ExecuteTime": {
<<<<<<< Updated upstream
     "end_time": "2024-11-18T20:21:56.715138Z",
     "start_time": "2024-11-18T20:21:56.710826Z"
=======
     "end_time": "2024-11-18T13:48:27.903985Z",
     "start_time": "2024-11-18T13:48:27.900942Z"
>>>>>>> Stashed changes
    }
   },
   "cell_type": "code",
   "source": "df_drivers.info()",
   "id": "c72d80a810ccb510",
   "outputs": [
    {
     "name": "stdout",
     "output_type": "stream",
     "text": [
      "<class 'pandas.core.frame.DataFrame'>\n",
      "RangeIndex: 860 entries, 0 to 859\n",
      "Data columns (total 9 columns):\n",
      " #   Column       Non-Null Count  Dtype \n",
      "---  ------       --------------  ----- \n",
      " 0   driverId     860 non-null    int64 \n",
      " 1   driverRef    860 non-null    object\n",
      " 2   number       860 non-null    object\n",
      " 3   code         860 non-null    object\n",
      " 4   forename     860 non-null    object\n",
      " 5   surname      860 non-null    object\n",
      " 6   dob          860 non-null    object\n",
      " 7   nationality  860 non-null    object\n",
      " 8   url          860 non-null    object\n",
      "dtypes: int64(1), object(8)\n",
      "memory usage: 60.6+ KB\n"
     ]
    }
   ],
<<<<<<< Updated upstream
   "execution_count": 164
=======
   "execution_count": 17
>>>>>>> Stashed changes
  },
  {
   "metadata": {
    "ExecuteTime": {
<<<<<<< Updated upstream
     "end_time": "2024-11-18T20:21:56.792225Z",
     "start_time": "2024-11-18T20:21:56.777969Z"
=======
     "end_time": "2024-11-18T13:48:27.938908Z",
     "start_time": "2024-11-18T13:48:27.927326Z"
>>>>>>> Stashed changes
    }
   },
   "cell_type": "code",
   "source": [
    "df_results_races_circuits_qualifying_drivers = pd.merge(df_results_races_circuits_qualifying, df_drivers[['driverId', 'dob','nationality', 'code',]], on=['driverId'], how='left')\n",
    "df_results_races_circuits_qualifying_drivers.rename(columns={'dob': 'driver_dob', 'nationality': 'driver_nationality', 'code': 'driver_code'}, inplace=True)\n",
    "df_results_races_circuits_qualifying_drivers.shape"
   ],
   "id": "57ef949afd15000c",
   "outputs": [
    {
     "data": {
      "text/plain": [
       "(26699, 32)"
      ]
     },
<<<<<<< Updated upstream
     "execution_count": 165,
=======
     "execution_count": 18,
>>>>>>> Stashed changes
     "metadata": {},
     "output_type": "execute_result"
    }
   ],
<<<<<<< Updated upstream
   "execution_count": 165
=======
   "execution_count": 18
>>>>>>> Stashed changes
  },
  {
   "metadata": {},
   "cell_type": "markdown",
   "source": "### Adding PitStop Data",
   "id": "7def8a703a44a675"
  },
  {
   "metadata": {
    "ExecuteTime": {
<<<<<<< Updated upstream
     "end_time": "2024-11-18T20:21:56.897370Z",
     "start_time": "2024-11-18T20:21:56.812754Z"
=======
     "end_time": "2024-11-18T13:48:28.032948Z",
     "start_time": "2024-11-18T13:48:27.970184Z"
>>>>>>> Stashed changes
    }
   },
   "cell_type": "code",
   "source": [
    "# Define file paths (update these paths as needed)\n",
    "pitstop_data_path = '../data/raw_data/pit_stops.csv'\n",
    "results_data_path = '../data/raw_data/results.csv'  # Replace with actual path\n",
    "races_data_path = '../data/raw_data/races.csv'      # Replace with actual path\n",
    "\n",
    "# Load pit stop data\n",
    "df_pitstops = pd.read_csv(pitstop_data_path)\n",
    "\n",
    "# Load race results data\n",
    "df_results = pd.read_csv(results_data_path)\n",
    "\n",
    "# Load races data\n",
    "df_races = pd.read_csv(races_data_path)\n",
    "\n",
    "# Merge pit stops with race results to get 'constructorId'\n",
    "df_pitstops = pd.merge(\n",
    "    df_pitstops,\n",
    "    df_results[['raceId', 'driverId', 'constructorId']],\n",
    "    on=['raceId', 'driverId'],\n",
    "    how='left'\n",
    ")\n",
    "\n",
    "# Merge with races to get 'date', 'circuitId', and 'year'\n",
    "df_pitstops = pd.merge(\n",
    "    df_pitstops,\n",
    "    df_races[['raceId', 'date', 'circuitId', 'year']],\n",
    "    on='raceId',\n",
    "    how='left'\n",
    ")\n",
    "\n",
    "# Rename 'date' to 'race_date' for clarity\n",
    "df_pitstops = df_pitstops.rename(columns={'date': 'race_date'})\n",
    "\n",
    "# Convert 'race_date' to datetime\n",
    "df_pitstops['race_date'] = pd.to_datetime(df_pitstops['race_date'])\n",
    "\n",
    "# Sort the DataFrame chronologically within each group to maintain temporal order\n",
    "df_pitstops = df_pitstops.sort_values(\n",
    "    ['driverId', 'constructorId', 'circuitId', 'year', 'race_date']\n",
    ").reset_index(drop=True)\n",
    "\n",
    "# Define function to calculate historical average pit stop time per group\n",
    "def calculate_historical_average(df, group_col, new_col):\n",
    "    df[new_col] = df.groupby(group_col)['milliseconds'].transform(\n",
    "        lambda x: x.expanding().mean().shift(1)\n",
    "    )\n",
    "    return df\n",
    "\n",
    "# Define function to calculate rolling average pit stop time per group\n",
    "def calculate_rolling_average(df, group_col, new_col, window=5):\n",
    "    df[new_col] = df.groupby(group_col)['milliseconds'].transform(\n",
    "        lambda x: x.rolling(window=window, min_periods=1).mean().shift(1)\n",
    "    )\n",
    "    return df\n",
    "\n",
    "# Calculate Historical Averages\n",
    "df_pitstops = calculate_historical_average(df_pitstops, 'driverId', 'avg_pit_stop_driver')\n",
    "df_pitstops = calculate_historical_average(df_pitstops, 'constructorId', 'avg_pit_stop_team')\n",
    "df_pitstops = calculate_historical_average(df_pitstops, 'circuitId', 'avg_pit_stop_track')\n",
    "df_pitstops = calculate_historical_average(df_pitstops, 'year', 'avg_pit_stop_season')\n",
    "\n",
    "# Calculate Rolling Averages (Last 5 Races)\n",
    "df_pitstops = calculate_rolling_average(df_pitstops, 'driverId', 'rolling_avg_pit_stop_driver', window=5)\n",
    "df_pitstops = calculate_rolling_average(df_pitstops, 'constructorId', 'rolling_avg_pit_stop_team', window=5)\n",
    "df_pitstops = calculate_rolling_average(df_pitstops, 'circuitId', 'rolling_avg_pit_stop_track', window=5)\n",
    "df_pitstops = calculate_rolling_average(df_pitstops, 'year', 'rolling_avg_pit_stop_season', window=5)\n",
    "\n",
    "# Calculate overall mean of 'milliseconds' to use for imputation\n",
    "overall_mean = df_pitstops['milliseconds'].mean()\n",
    "\n",
    "# Fill NaN values in the engineered features with the overall mean\n",
    "df_pitstops.fillna({\n",
    "    'avg_pit_stop_driver': overall_mean,\n",
    "    'avg_pit_stop_team': overall_mean,\n",
    "    'avg_pit_stop_track': overall_mean,\n",
    "    'avg_pit_stop_season': overall_mean,\n",
    "    'rolling_avg_pit_stop_driver': overall_mean,\n",
    "    'rolling_avg_pit_stop_team': overall_mean,\n",
    "    'rolling_avg_pit_stop_track': overall_mean,\n",
    "    'rolling_avg_pit_stop_season': overall_mean\n",
    "}, inplace=True)\n",
    "\n",
    "# Define aggregation functions for pit stop metrics\n",
    "aggregation_functions = {\n",
    "    'milliseconds': ['min', 'max', 'mean', 'std', 'count'],\n",
    "    'stop': 'count',\n",
    "    'lap': ['min', 'max', 'mean', 'std'],\n",
    "    'avg_pit_stop_driver': 'mean',\n",
    "    'avg_pit_stop_team': 'mean',\n",
    "    'avg_pit_stop_track': 'mean',\n",
    "    'avg_pit_stop_season': 'mean',\n",
    "    'rolling_avg_pit_stop_driver': 'mean',\n",
    "    'rolling_avg_pit_stop_team': 'mean',\n",
    "    'rolling_avg_pit_stop_track': 'mean',\n",
    "    'rolling_avg_pit_stop_season': 'mean'\n",
    "}\n",
    "\n",
    "# Perform aggregation to create one row per driver per race\n",
    "aggregated_pitstops = df_pitstops.groupby(['raceId', 'driverId']).agg(aggregation_functions).reset_index()\n",
    "\n",
    "# Flatten MultiIndex columns\n",
    "aggregated_pitstops.columns = [\n",
    "    'raceId', 'driverId',\n",
    "    'min_pit_stop_duration', 'max_pit_stop_duration',\n",
    "    'avg_pit_stop_duration', 'std_pit_stop_duration',\n",
    "    'milliseconds_count',  # Newly added\n",
    "    'pit_stop_count',\n",
    "    'min_pit_stop_lap', 'max_pit_stop_lap',\n",
    "    'avg_pit_stop_lap', 'std_pit_stop_lap',\n",
    "    'avg_pit_stop_driver',\n",
    "    'avg_pit_stop_team',\n",
    "    'avg_pit_stop_track',\n",
    "    'avg_pit_stop_season',\n",
    "    'rolling_avg_pit_stop_driver',\n",
    "    'rolling_avg_pit_stop_team',\n",
    "    'rolling_avg_pit_stop_track',\n",
    "    'rolling_avg_pit_stop_season'\n",
    "]\n",
    "\n",
    "# Handle NaNs in standard deviation columns by filling them with 0\n",
    "aggregated_pitstops['std_pit_stop_duration'] = aggregated_pitstops['std_pit_stop_duration'].fillna(0)\n",
    "aggregated_pitstops['std_pit_stop_lap'] = aggregated_pitstops['std_pit_stop_lap'].fillna(0)"
   ],
   "id": "11b0a29a65b140c2",
   "outputs": [],
<<<<<<< Updated upstream
   "execution_count": 166
=======
   "execution_count": 19
>>>>>>> Stashed changes
  },
  {
   "metadata": {
    "ExecuteTime": {
<<<<<<< Updated upstream
     "end_time": "2024-11-18T20:21:56.963691Z",
     "start_time": "2024-11-18T20:21:56.917634Z"
=======
     "end_time": "2024-11-18T13:48:28.099124Z",
     "start_time": "2024-11-18T13:48:28.062473Z"
>>>>>>> Stashed changes
    }
   },
   "cell_type": "code",
   "source": [
    "# Optional: Save the aggregated DataFrame to a CSV for future use\n",
    "aggregated_pitstops.to_csv('../data/processed/aggregated_pitstops.csv', index=False)"
   ],
   "id": "c53b68d5ddc45be1",
   "outputs": [],
<<<<<<< Updated upstream
   "execution_count": 167
=======
   "execution_count": 20
>>>>>>> Stashed changes
  },
  {
   "metadata": {
    "ExecuteTime": {
<<<<<<< Updated upstream
     "end_time": "2024-11-18T20:21:56.988319Z",
     "start_time": "2024-11-18T20:21:56.984038Z"
=======
     "end_time": "2024-11-18T13:48:28.134864Z",
     "start_time": "2024-11-18T13:48:28.129049Z"
    }
   },
   "cell_type": "code",
   "source": "aggregated_pitstops",
   "id": "87586a4cea5256ba",
   "outputs": [
    {
     "data": {
      "text/plain": [
       "      raceId  driverId  min_pit_stop_duration  max_pit_stop_duration  \\\n",
       "0        841         1                  23199                  23227   \n",
       "1        841         2                  22994                  25098   \n",
       "2        841         3                  23716                  23716   \n",
       "3        841         4                  23251                  24733   \n",
       "4        841         5                  24865                  24865   \n",
       "...      ...       ...                    ...                    ...   \n",
       "5513    1141       855                  25248                1283154   \n",
       "5514    1141       857                  26050                1420270   \n",
       "5515    1141       859                  28167                1422722   \n",
       "5516    1141       860                  35755                1424737   \n",
       "5517    1141       861                  25239                  25287   \n",
       "\n",
       "      avg_pit_stop_duration  std_pit_stop_duration  milliseconds_count  \\\n",
       "0                  23213.00              19.798990                   2   \n",
       "1                  24046.00            1487.752668                   2   \n",
       "2                  23716.00               0.000000                   1   \n",
       "3                  24055.00             748.991322                   3   \n",
       "4                  24865.00               0.000000                   1   \n",
       "...                     ...                    ...                 ...   \n",
       "5513              351002.75          621755.727877                   4   \n",
       "5514              723160.00          985862.416466                   2   \n",
       "5515              725444.50          986099.297238                   2   \n",
       "5516              730246.00          982158.591146                   2   \n",
       "5517               25263.00              33.941125                   2   \n",
       "\n",
       "      pit_stop_count  min_pit_stop_lap  max_pit_stop_lap  avg_pit_stop_lap  \\\n",
       "0                  2                16                36              26.0   \n",
       "1                  2                15                30              22.5   \n",
       "2                  1                16                16              16.0   \n",
       "3                  3                12                42              27.0   \n",
       "4                  1                17                17              17.0   \n",
       "...              ...               ...               ...               ...   \n",
       "5513               4                27                32              29.5   \n",
       "5514               2                27                32              29.5   \n",
       "5515               2                28                32              30.0   \n",
       "5516               2                27                32              29.5   \n",
       "5517               2                26                30              28.0   \n",
       "\n",
       "      std_pit_stop_lap  avg_pit_stop_driver  avg_pit_stop_team  \\\n",
       "0            14.142136         54563.688234       54563.688234   \n",
       "1            10.606602         54447.188234       54447.188234   \n",
       "2             0.000000         85900.376467      112476.709607   \n",
       "3            15.000000         66916.585083       44381.125489   \n",
       "4             0.000000         85900.376467       85900.376467   \n",
       "...                ...                  ...                ...   \n",
       "5513          2.380476        141160.472818       54843.177056   \n",
       "5514          3.535534        213989.961859       90581.648408   \n",
       "5515          2.828427        179972.127083      158097.276770   \n",
       "5516          3.535534         25781.500000      102995.673543   \n",
       "5517          2.828427         27097.416667       77396.569431   \n",
       "\n",
       "      avg_pit_stop_track  avg_pit_stop_season  rolling_avg_pit_stop_driver  \\\n",
       "0           54563.688234         54563.688234                 54563.688234   \n",
       "1          273768.207602         22669.319706                 54447.188234   \n",
       "2          254895.900000         22748.814815                 85900.376467   \n",
       "3          195913.435606         22582.449131                286430.933333   \n",
       "4          211911.530612         22621.554348                 85900.376467   \n",
       "...                  ...                  ...                          ...   \n",
       "5513       168818.866383        146276.850711                 88221.200000   \n",
       "5514       172042.076772        146860.318743                338705.200000   \n",
       "5515       174791.622149        149409.257013                265945.100000   \n",
       "5516       176375.991257        150364.094576                 25781.500000   \n",
       "5517       177952.131611        151488.299920                 27097.416667   \n",
       "\n",
       "      rolling_avg_pit_stop_team  rolling_avg_pit_stop_track  \\\n",
       "0                  54563.688234                54563.688234   \n",
       "1                  54447.188234               738863.500000   \n",
       "2                  22126.400000               559358.600000   \n",
       "3                  44381.125489               164795.400000   \n",
       "4                  85900.376467               383683.600000   \n",
       "...                         ...                         ...   \n",
       "5513               88221.200000                88892.600000   \n",
       "5514              338705.200000               338874.300000   \n",
       "5515               22584.300000               444280.300000   \n",
       "5516               26904.900000               445574.800000   \n",
       "5517               27201.900000               587218.600000   \n",
       "\n",
       "      rolling_avg_pit_stop_season  \n",
       "0                    54563.688234  \n",
       "1                    22879.800000  \n",
       "2                    21981.600000  \n",
       "3                    21734.733333  \n",
       "4                    21311.800000  \n",
       "...                           ...  \n",
       "5513                 88221.200000  \n",
       "5514                 24735.700000  \n",
       "5515                 24159.100000  \n",
       "5516                165683.900000  \n",
       "5517                306290.600000  \n",
       "\n",
       "[5518 rows x 20 columns]"
      ],
      "text/html": [
       "<div>\n",
       "<style scoped>\n",
       "    .dataframe tbody tr th:only-of-type {\n",
       "        vertical-align: middle;\n",
       "    }\n",
       "\n",
       "    .dataframe tbody tr th {\n",
       "        vertical-align: top;\n",
       "    }\n",
       "\n",
       "    .dataframe thead th {\n",
       "        text-align: right;\n",
       "    }\n",
       "</style>\n",
       "<table border=\"1\" class=\"dataframe\">\n",
       "  <thead>\n",
       "    <tr style=\"text-align: right;\">\n",
       "      <th></th>\n",
       "      <th>raceId</th>\n",
       "      <th>driverId</th>\n",
       "      <th>min_pit_stop_duration</th>\n",
       "      <th>max_pit_stop_duration</th>\n",
       "      <th>avg_pit_stop_duration</th>\n",
       "      <th>std_pit_stop_duration</th>\n",
       "      <th>milliseconds_count</th>\n",
       "      <th>pit_stop_count</th>\n",
       "      <th>min_pit_stop_lap</th>\n",
       "      <th>max_pit_stop_lap</th>\n",
       "      <th>avg_pit_stop_lap</th>\n",
       "      <th>std_pit_stop_lap</th>\n",
       "      <th>avg_pit_stop_driver</th>\n",
       "      <th>avg_pit_stop_team</th>\n",
       "      <th>avg_pit_stop_track</th>\n",
       "      <th>avg_pit_stop_season</th>\n",
       "      <th>rolling_avg_pit_stop_driver</th>\n",
       "      <th>rolling_avg_pit_stop_team</th>\n",
       "      <th>rolling_avg_pit_stop_track</th>\n",
       "      <th>rolling_avg_pit_stop_season</th>\n",
       "    </tr>\n",
       "  </thead>\n",
       "  <tbody>\n",
       "    <tr>\n",
       "      <th>0</th>\n",
       "      <td>841</td>\n",
       "      <td>1</td>\n",
       "      <td>23199</td>\n",
       "      <td>23227</td>\n",
       "      <td>23213.00</td>\n",
       "      <td>19.798990</td>\n",
       "      <td>2</td>\n",
       "      <td>2</td>\n",
       "      <td>16</td>\n",
       "      <td>36</td>\n",
       "      <td>26.0</td>\n",
       "      <td>14.142136</td>\n",
       "      <td>54563.688234</td>\n",
       "      <td>54563.688234</td>\n",
       "      <td>54563.688234</td>\n",
       "      <td>54563.688234</td>\n",
       "      <td>54563.688234</td>\n",
       "      <td>54563.688234</td>\n",
       "      <td>54563.688234</td>\n",
       "      <td>54563.688234</td>\n",
       "    </tr>\n",
       "    <tr>\n",
       "      <th>1</th>\n",
       "      <td>841</td>\n",
       "      <td>2</td>\n",
       "      <td>22994</td>\n",
       "      <td>25098</td>\n",
       "      <td>24046.00</td>\n",
       "      <td>1487.752668</td>\n",
       "      <td>2</td>\n",
       "      <td>2</td>\n",
       "      <td>15</td>\n",
       "      <td>30</td>\n",
       "      <td>22.5</td>\n",
       "      <td>10.606602</td>\n",
       "      <td>54447.188234</td>\n",
       "      <td>54447.188234</td>\n",
       "      <td>273768.207602</td>\n",
       "      <td>22669.319706</td>\n",
       "      <td>54447.188234</td>\n",
       "      <td>54447.188234</td>\n",
       "      <td>738863.500000</td>\n",
       "      <td>22879.800000</td>\n",
       "    </tr>\n",
       "    <tr>\n",
       "      <th>2</th>\n",
       "      <td>841</td>\n",
       "      <td>3</td>\n",
       "      <td>23716</td>\n",
       "      <td>23716</td>\n",
       "      <td>23716.00</td>\n",
       "      <td>0.000000</td>\n",
       "      <td>1</td>\n",
       "      <td>1</td>\n",
       "      <td>16</td>\n",
       "      <td>16</td>\n",
       "      <td>16.0</td>\n",
       "      <td>0.000000</td>\n",
       "      <td>85900.376467</td>\n",
       "      <td>112476.709607</td>\n",
       "      <td>254895.900000</td>\n",
       "      <td>22748.814815</td>\n",
       "      <td>85900.376467</td>\n",
       "      <td>22126.400000</td>\n",
       "      <td>559358.600000</td>\n",
       "      <td>21981.600000</td>\n",
       "    </tr>\n",
       "    <tr>\n",
       "      <th>3</th>\n",
       "      <td>841</td>\n",
       "      <td>4</td>\n",
       "      <td>23251</td>\n",
       "      <td>24733</td>\n",
       "      <td>24055.00</td>\n",
       "      <td>748.991322</td>\n",
       "      <td>3</td>\n",
       "      <td>3</td>\n",
       "      <td>12</td>\n",
       "      <td>42</td>\n",
       "      <td>27.0</td>\n",
       "      <td>15.000000</td>\n",
       "      <td>66916.585083</td>\n",
       "      <td>44381.125489</td>\n",
       "      <td>195913.435606</td>\n",
       "      <td>22582.449131</td>\n",
       "      <td>286430.933333</td>\n",
       "      <td>44381.125489</td>\n",
       "      <td>164795.400000</td>\n",
       "      <td>21734.733333</td>\n",
       "    </tr>\n",
       "    <tr>\n",
       "      <th>4</th>\n",
       "      <td>841</td>\n",
       "      <td>5</td>\n",
       "      <td>24865</td>\n",
       "      <td>24865</td>\n",
       "      <td>24865.00</td>\n",
       "      <td>0.000000</td>\n",
       "      <td>1</td>\n",
       "      <td>1</td>\n",
       "      <td>17</td>\n",
       "      <td>17</td>\n",
       "      <td>17.0</td>\n",
       "      <td>0.000000</td>\n",
       "      <td>85900.376467</td>\n",
       "      <td>85900.376467</td>\n",
       "      <td>211911.530612</td>\n",
       "      <td>22621.554348</td>\n",
       "      <td>85900.376467</td>\n",
       "      <td>85900.376467</td>\n",
       "      <td>383683.600000</td>\n",
       "      <td>21311.800000</td>\n",
       "    </tr>\n",
       "    <tr>\n",
       "      <th>...</th>\n",
       "      <td>...</td>\n",
       "      <td>...</td>\n",
       "      <td>...</td>\n",
       "      <td>...</td>\n",
       "      <td>...</td>\n",
       "      <td>...</td>\n",
       "      <td>...</td>\n",
       "      <td>...</td>\n",
       "      <td>...</td>\n",
       "      <td>...</td>\n",
       "      <td>...</td>\n",
       "      <td>...</td>\n",
       "      <td>...</td>\n",
       "      <td>...</td>\n",
       "      <td>...</td>\n",
       "      <td>...</td>\n",
       "      <td>...</td>\n",
       "      <td>...</td>\n",
       "      <td>...</td>\n",
       "      <td>...</td>\n",
       "    </tr>\n",
       "    <tr>\n",
       "      <th>5513</th>\n",
       "      <td>1141</td>\n",
       "      <td>855</td>\n",
       "      <td>25248</td>\n",
       "      <td>1283154</td>\n",
       "      <td>351002.75</td>\n",
       "      <td>621755.727877</td>\n",
       "      <td>4</td>\n",
       "      <td>4</td>\n",
       "      <td>27</td>\n",
       "      <td>32</td>\n",
       "      <td>29.5</td>\n",
       "      <td>2.380476</td>\n",
       "      <td>141160.472818</td>\n",
       "      <td>54843.177056</td>\n",
       "      <td>168818.866383</td>\n",
       "      <td>146276.850711</td>\n",
       "      <td>88221.200000</td>\n",
       "      <td>88221.200000</td>\n",
       "      <td>88892.600000</td>\n",
       "      <td>88221.200000</td>\n",
       "    </tr>\n",
       "    <tr>\n",
       "      <th>5514</th>\n",
       "      <td>1141</td>\n",
       "      <td>857</td>\n",
       "      <td>26050</td>\n",
       "      <td>1420270</td>\n",
       "      <td>723160.00</td>\n",
       "      <td>985862.416466</td>\n",
       "      <td>2</td>\n",
       "      <td>2</td>\n",
       "      <td>27</td>\n",
       "      <td>32</td>\n",
       "      <td>29.5</td>\n",
       "      <td>3.535534</td>\n",
       "      <td>213989.961859</td>\n",
       "      <td>90581.648408</td>\n",
       "      <td>172042.076772</td>\n",
       "      <td>146860.318743</td>\n",
       "      <td>338705.200000</td>\n",
       "      <td>338705.200000</td>\n",
       "      <td>338874.300000</td>\n",
       "      <td>24735.700000</td>\n",
       "    </tr>\n",
       "    <tr>\n",
       "      <th>5515</th>\n",
       "      <td>1141</td>\n",
       "      <td>859</td>\n",
       "      <td>28167</td>\n",
       "      <td>1422722</td>\n",
       "      <td>725444.50</td>\n",
       "      <td>986099.297238</td>\n",
       "      <td>2</td>\n",
       "      <td>2</td>\n",
       "      <td>28</td>\n",
       "      <td>32</td>\n",
       "      <td>30.0</td>\n",
       "      <td>2.828427</td>\n",
       "      <td>179972.127083</td>\n",
       "      <td>158097.276770</td>\n",
       "      <td>174791.622149</td>\n",
       "      <td>149409.257013</td>\n",
       "      <td>265945.100000</td>\n",
       "      <td>22584.300000</td>\n",
       "      <td>444280.300000</td>\n",
       "      <td>24159.100000</td>\n",
       "    </tr>\n",
       "    <tr>\n",
       "      <th>5516</th>\n",
       "      <td>1141</td>\n",
       "      <td>860</td>\n",
       "      <td>35755</td>\n",
       "      <td>1424737</td>\n",
       "      <td>730246.00</td>\n",
       "      <td>982158.591146</td>\n",
       "      <td>2</td>\n",
       "      <td>2</td>\n",
       "      <td>27</td>\n",
       "      <td>32</td>\n",
       "      <td>29.5</td>\n",
       "      <td>3.535534</td>\n",
       "      <td>25781.500000</td>\n",
       "      <td>102995.673543</td>\n",
       "      <td>176375.991257</td>\n",
       "      <td>150364.094576</td>\n",
       "      <td>25781.500000</td>\n",
       "      <td>26904.900000</td>\n",
       "      <td>445574.800000</td>\n",
       "      <td>165683.900000</td>\n",
       "    </tr>\n",
       "    <tr>\n",
       "      <th>5517</th>\n",
       "      <td>1141</td>\n",
       "      <td>861</td>\n",
       "      <td>25239</td>\n",
       "      <td>25287</td>\n",
       "      <td>25263.00</td>\n",
       "      <td>33.941125</td>\n",
       "      <td>2</td>\n",
       "      <td>2</td>\n",
       "      <td>26</td>\n",
       "      <td>30</td>\n",
       "      <td>28.0</td>\n",
       "      <td>2.828427</td>\n",
       "      <td>27097.416667</td>\n",
       "      <td>77396.569431</td>\n",
       "      <td>177952.131611</td>\n",
       "      <td>151488.299920</td>\n",
       "      <td>27097.416667</td>\n",
       "      <td>27201.900000</td>\n",
       "      <td>587218.600000</td>\n",
       "      <td>306290.600000</td>\n",
       "    </tr>\n",
       "  </tbody>\n",
       "</table>\n",
       "<p>5518 rows × 20 columns</p>\n",
       "</div>"
      ]
     },
     "execution_count": 21,
     "metadata": {},
     "output_type": "execute_result"
    }
   ],
   "execution_count": 21
  },
  {
   "metadata": {
    "ExecuteTime": {
     "end_time": "2024-11-18T13:48:28.190145Z",
     "start_time": "2024-11-18T13:48:28.178461Z"
    }
   },
   "cell_type": "code",
   "source": "df_results_races_circuits_qualifying_drivers",
   "id": "8bf2d08c40615bf1",
   "outputs": [
    {
     "data": {
      "text/plain": [
       "       resultId  raceId  driverId  constructorId number  grid  year  round  \\\n",
       "0             1      18         1              1     22     1  2008      1   \n",
       "1             2      18         2              2      3     5  2008      1   \n",
       "2             3      18         3              3      7     7  2008      1   \n",
       "3             4      18         4              4      5    11  2008      1   \n",
       "4             5      18         5              1     23     3  2008      1   \n",
       "...         ...     ...       ...            ...    ...   ...   ...    ...   \n",
       "26694     26700    1141       832              6     55     0  2024     21   \n",
       "26695     26701    1141       861              3     43    16  2024     21   \n",
       "26696     26702    1141       848              3     23     7  2024     21   \n",
       "26697     26703    1141       840            117     18    10  2024     21   \n",
       "26698     26704    1141       807            210     27    17  2024     21   \n",
       "\n",
       "       circuitId              race_name  ...  fp1_time  fp2_time fp3_time  \\\n",
       "0              1  Australian Grand Prix  ...        \\N        \\N       \\N   \n",
       "1              1  Australian Grand Prix  ...        \\N        \\N       \\N   \n",
       "2              1  Australian Grand Prix  ...        \\N        \\N       \\N   \n",
       "3              1  Australian Grand Prix  ...        \\N        \\N       \\N   \n",
       "4              1  Australian Grand Prix  ...        \\N        \\N       \\N   \n",
       "...          ...                    ...  ...       ...       ...      ...   \n",
       "26694         18   São Paulo Grand Prix  ...  14:30:00  18:30:00       \\N   \n",
       "26695         18   São Paulo Grand Prix  ...  14:30:00  18:30:00       \\N   \n",
       "26696         18   São Paulo Grand Prix  ...  14:30:00  18:30:00       \\N   \n",
       "26697         18   São Paulo Grand Prix  ...  14:30:00  18:30:00       \\N   \n",
       "26698         18   São Paulo Grand Prix  ...  14:30:00  18:30:00       \\N   \n",
       "\n",
       "      quali_time  quali_date race_location race_country race_lat  race_lng  \\\n",
       "0             \\N          \\N     Melbourne    Australia -37.8497  144.9680   \n",
       "1             \\N          \\N     Melbourne    Australia -37.8497  144.9680   \n",
       "2             \\N          \\N     Melbourne    Australia -37.8497  144.9680   \n",
       "3             \\N          \\N     Melbourne    Australia -37.8497  144.9680   \n",
       "4             \\N          \\N     Melbourne    Australia -37.8497  144.9680   \n",
       "...          ...         ...           ...          ...      ...       ...   \n",
       "26694   18:00:00  2024-11-02     São Paulo       Brazil -23.7036  -46.6997   \n",
       "26695   18:00:00  2024-11-02     São Paulo       Brazil -23.7036  -46.6997   \n",
       "26696   18:00:00  2024-11-02     São Paulo       Brazil -23.7036  -46.6997   \n",
       "26697   18:00:00  2024-11-02     São Paulo       Brazil -23.7036  -46.6997   \n",
       "26698   18:00:00  2024-11-02     São Paulo       Brazil -23.7036  -46.6997   \n",
       "\n",
       "      race_alt  \n",
       "0           10  \n",
       "1           10  \n",
       "2           10  \n",
       "3           10  \n",
       "4           10  \n",
       "...        ...  \n",
       "26694      785  \n",
       "26695      785  \n",
       "26696      785  \n",
       "26697      785  \n",
       "26698      785  \n",
       "\n",
       "[26699 rows x 25 columns]"
      ],
      "text/html": [
       "<div>\n",
       "<style scoped>\n",
       "    .dataframe tbody tr th:only-of-type {\n",
       "        vertical-align: middle;\n",
       "    }\n",
       "\n",
       "    .dataframe tbody tr th {\n",
       "        vertical-align: top;\n",
       "    }\n",
       "\n",
       "    .dataframe thead th {\n",
       "        text-align: right;\n",
       "    }\n",
       "</style>\n",
       "<table border=\"1\" class=\"dataframe\">\n",
       "  <thead>\n",
       "    <tr style=\"text-align: right;\">\n",
       "      <th></th>\n",
       "      <th>resultId</th>\n",
       "      <th>raceId</th>\n",
       "      <th>driverId</th>\n",
       "      <th>constructorId</th>\n",
       "      <th>number</th>\n",
       "      <th>grid</th>\n",
       "      <th>year</th>\n",
       "      <th>round</th>\n",
       "      <th>circuitId</th>\n",
       "      <th>race_name</th>\n",
       "      <th>...</th>\n",
       "      <th>fp1_time</th>\n",
       "      <th>fp2_time</th>\n",
       "      <th>fp3_time</th>\n",
       "      <th>quali_time</th>\n",
       "      <th>quali_date</th>\n",
       "      <th>race_location</th>\n",
       "      <th>race_country</th>\n",
       "      <th>race_lat</th>\n",
       "      <th>race_lng</th>\n",
       "      <th>race_alt</th>\n",
       "    </tr>\n",
       "  </thead>\n",
       "  <tbody>\n",
       "    <tr>\n",
       "      <th>0</th>\n",
       "      <td>1</td>\n",
       "      <td>18</td>\n",
       "      <td>1</td>\n",
       "      <td>1</td>\n",
       "      <td>22</td>\n",
       "      <td>1</td>\n",
       "      <td>2008</td>\n",
       "      <td>1</td>\n",
       "      <td>1</td>\n",
       "      <td>Australian Grand Prix</td>\n",
       "      <td>...</td>\n",
       "      <td>\\N</td>\n",
       "      <td>\\N</td>\n",
       "      <td>\\N</td>\n",
       "      <td>\\N</td>\n",
       "      <td>\\N</td>\n",
       "      <td>Melbourne</td>\n",
       "      <td>Australia</td>\n",
       "      <td>-37.8497</td>\n",
       "      <td>144.9680</td>\n",
       "      <td>10</td>\n",
       "    </tr>\n",
       "    <tr>\n",
       "      <th>1</th>\n",
       "      <td>2</td>\n",
       "      <td>18</td>\n",
       "      <td>2</td>\n",
       "      <td>2</td>\n",
       "      <td>3</td>\n",
       "      <td>5</td>\n",
       "      <td>2008</td>\n",
       "      <td>1</td>\n",
       "      <td>1</td>\n",
       "      <td>Australian Grand Prix</td>\n",
       "      <td>...</td>\n",
       "      <td>\\N</td>\n",
       "      <td>\\N</td>\n",
       "      <td>\\N</td>\n",
       "      <td>\\N</td>\n",
       "      <td>\\N</td>\n",
       "      <td>Melbourne</td>\n",
       "      <td>Australia</td>\n",
       "      <td>-37.8497</td>\n",
       "      <td>144.9680</td>\n",
       "      <td>10</td>\n",
       "    </tr>\n",
       "    <tr>\n",
       "      <th>2</th>\n",
       "      <td>3</td>\n",
       "      <td>18</td>\n",
       "      <td>3</td>\n",
       "      <td>3</td>\n",
       "      <td>7</td>\n",
       "      <td>7</td>\n",
       "      <td>2008</td>\n",
       "      <td>1</td>\n",
       "      <td>1</td>\n",
       "      <td>Australian Grand Prix</td>\n",
       "      <td>...</td>\n",
       "      <td>\\N</td>\n",
       "      <td>\\N</td>\n",
       "      <td>\\N</td>\n",
       "      <td>\\N</td>\n",
       "      <td>\\N</td>\n",
       "      <td>Melbourne</td>\n",
       "      <td>Australia</td>\n",
       "      <td>-37.8497</td>\n",
       "      <td>144.9680</td>\n",
       "      <td>10</td>\n",
       "    </tr>\n",
       "    <tr>\n",
       "      <th>3</th>\n",
       "      <td>4</td>\n",
       "      <td>18</td>\n",
       "      <td>4</td>\n",
       "      <td>4</td>\n",
       "      <td>5</td>\n",
       "      <td>11</td>\n",
       "      <td>2008</td>\n",
       "      <td>1</td>\n",
       "      <td>1</td>\n",
       "      <td>Australian Grand Prix</td>\n",
       "      <td>...</td>\n",
       "      <td>\\N</td>\n",
       "      <td>\\N</td>\n",
       "      <td>\\N</td>\n",
       "      <td>\\N</td>\n",
       "      <td>\\N</td>\n",
       "      <td>Melbourne</td>\n",
       "      <td>Australia</td>\n",
       "      <td>-37.8497</td>\n",
       "      <td>144.9680</td>\n",
       "      <td>10</td>\n",
       "    </tr>\n",
       "    <tr>\n",
       "      <th>4</th>\n",
       "      <td>5</td>\n",
       "      <td>18</td>\n",
       "      <td>5</td>\n",
       "      <td>1</td>\n",
       "      <td>23</td>\n",
       "      <td>3</td>\n",
       "      <td>2008</td>\n",
       "      <td>1</td>\n",
       "      <td>1</td>\n",
       "      <td>Australian Grand Prix</td>\n",
       "      <td>...</td>\n",
       "      <td>\\N</td>\n",
       "      <td>\\N</td>\n",
       "      <td>\\N</td>\n",
       "      <td>\\N</td>\n",
       "      <td>\\N</td>\n",
       "      <td>Melbourne</td>\n",
       "      <td>Australia</td>\n",
       "      <td>-37.8497</td>\n",
       "      <td>144.9680</td>\n",
       "      <td>10</td>\n",
       "    </tr>\n",
       "    <tr>\n",
       "      <th>...</th>\n",
       "      <td>...</td>\n",
       "      <td>...</td>\n",
       "      <td>...</td>\n",
       "      <td>...</td>\n",
       "      <td>...</td>\n",
       "      <td>...</td>\n",
       "      <td>...</td>\n",
       "      <td>...</td>\n",
       "      <td>...</td>\n",
       "      <td>...</td>\n",
       "      <td>...</td>\n",
       "      <td>...</td>\n",
       "      <td>...</td>\n",
       "      <td>...</td>\n",
       "      <td>...</td>\n",
       "      <td>...</td>\n",
       "      <td>...</td>\n",
       "      <td>...</td>\n",
       "      <td>...</td>\n",
       "      <td>...</td>\n",
       "      <td>...</td>\n",
       "    </tr>\n",
       "    <tr>\n",
       "      <th>26694</th>\n",
       "      <td>26700</td>\n",
       "      <td>1141</td>\n",
       "      <td>832</td>\n",
       "      <td>6</td>\n",
       "      <td>55</td>\n",
       "      <td>0</td>\n",
       "      <td>2024</td>\n",
       "      <td>21</td>\n",
       "      <td>18</td>\n",
       "      <td>São Paulo Grand Prix</td>\n",
       "      <td>...</td>\n",
       "      <td>14:30:00</td>\n",
       "      <td>18:30:00</td>\n",
       "      <td>\\N</td>\n",
       "      <td>18:00:00</td>\n",
       "      <td>2024-11-02</td>\n",
       "      <td>São Paulo</td>\n",
       "      <td>Brazil</td>\n",
       "      <td>-23.7036</td>\n",
       "      <td>-46.6997</td>\n",
       "      <td>785</td>\n",
       "    </tr>\n",
       "    <tr>\n",
       "      <th>26695</th>\n",
       "      <td>26701</td>\n",
       "      <td>1141</td>\n",
       "      <td>861</td>\n",
       "      <td>3</td>\n",
       "      <td>43</td>\n",
       "      <td>16</td>\n",
       "      <td>2024</td>\n",
       "      <td>21</td>\n",
       "      <td>18</td>\n",
       "      <td>São Paulo Grand Prix</td>\n",
       "      <td>...</td>\n",
       "      <td>14:30:00</td>\n",
       "      <td>18:30:00</td>\n",
       "      <td>\\N</td>\n",
       "      <td>18:00:00</td>\n",
       "      <td>2024-11-02</td>\n",
       "      <td>São Paulo</td>\n",
       "      <td>Brazil</td>\n",
       "      <td>-23.7036</td>\n",
       "      <td>-46.6997</td>\n",
       "      <td>785</td>\n",
       "    </tr>\n",
       "    <tr>\n",
       "      <th>26696</th>\n",
       "      <td>26702</td>\n",
       "      <td>1141</td>\n",
       "      <td>848</td>\n",
       "      <td>3</td>\n",
       "      <td>23</td>\n",
       "      <td>7</td>\n",
       "      <td>2024</td>\n",
       "      <td>21</td>\n",
       "      <td>18</td>\n",
       "      <td>São Paulo Grand Prix</td>\n",
       "      <td>...</td>\n",
       "      <td>14:30:00</td>\n",
       "      <td>18:30:00</td>\n",
       "      <td>\\N</td>\n",
       "      <td>18:00:00</td>\n",
       "      <td>2024-11-02</td>\n",
       "      <td>São Paulo</td>\n",
       "      <td>Brazil</td>\n",
       "      <td>-23.7036</td>\n",
       "      <td>-46.6997</td>\n",
       "      <td>785</td>\n",
       "    </tr>\n",
       "    <tr>\n",
       "      <th>26697</th>\n",
       "      <td>26703</td>\n",
       "      <td>1141</td>\n",
       "      <td>840</td>\n",
       "      <td>117</td>\n",
       "      <td>18</td>\n",
       "      <td>10</td>\n",
       "      <td>2024</td>\n",
       "      <td>21</td>\n",
       "      <td>18</td>\n",
       "      <td>São Paulo Grand Prix</td>\n",
       "      <td>...</td>\n",
       "      <td>14:30:00</td>\n",
       "      <td>18:30:00</td>\n",
       "      <td>\\N</td>\n",
       "      <td>18:00:00</td>\n",
       "      <td>2024-11-02</td>\n",
       "      <td>São Paulo</td>\n",
       "      <td>Brazil</td>\n",
       "      <td>-23.7036</td>\n",
       "      <td>-46.6997</td>\n",
       "      <td>785</td>\n",
       "    </tr>\n",
       "    <tr>\n",
       "      <th>26698</th>\n",
       "      <td>26704</td>\n",
       "      <td>1141</td>\n",
       "      <td>807</td>\n",
       "      <td>210</td>\n",
       "      <td>27</td>\n",
       "      <td>17</td>\n",
       "      <td>2024</td>\n",
       "      <td>21</td>\n",
       "      <td>18</td>\n",
       "      <td>São Paulo Grand Prix</td>\n",
       "      <td>...</td>\n",
       "      <td>14:30:00</td>\n",
       "      <td>18:30:00</td>\n",
       "      <td>\\N</td>\n",
       "      <td>18:00:00</td>\n",
       "      <td>2024-11-02</td>\n",
       "      <td>São Paulo</td>\n",
       "      <td>Brazil</td>\n",
       "      <td>-23.7036</td>\n",
       "      <td>-46.6997</td>\n",
       "      <td>785</td>\n",
       "    </tr>\n",
       "  </tbody>\n",
       "</table>\n",
       "<p>26699 rows × 25 columns</p>\n",
       "</div>"
      ]
     },
     "execution_count": 22,
     "metadata": {},
     "output_type": "execute_result"
    }
   ],
   "execution_count": 22
  },
  {
   "metadata": {
    "ExecuteTime": {
     "end_time": "2024-11-18T13:48:28.225092Z",
     "start_time": "2024-11-18T13:48:28.220983Z"
>>>>>>> Stashed changes
    }
   },
   "cell_type": "code",
   "source": "aggregated_pitstops.info()",
   "id": "77b43ef648c43cf1",
   "outputs": [
    {
     "name": "stdout",
     "output_type": "stream",
     "text": [
      "<class 'pandas.core.frame.DataFrame'>\n",
      "RangeIndex: 5518 entries, 0 to 5517\n",
      "Data columns (total 20 columns):\n",
      " #   Column                       Non-Null Count  Dtype  \n",
      "---  ------                       --------------  -----  \n",
      " 0   raceId                       5518 non-null   int64  \n",
      " 1   driverId                     5518 non-null   int64  \n",
      " 2   min_pit_stop_duration        5518 non-null   int64  \n",
      " 3   max_pit_stop_duration        5518 non-null   int64  \n",
      " 4   avg_pit_stop_duration        5518 non-null   float64\n",
      " 5   std_pit_stop_duration        5518 non-null   float64\n",
      " 6   milliseconds_count           5518 non-null   int64  \n",
      " 7   pit_stop_count               5518 non-null   int64  \n",
      " 8   min_pit_stop_lap             5518 non-null   int64  \n",
      " 9   max_pit_stop_lap             5518 non-null   int64  \n",
      " 10  avg_pit_stop_lap             5518 non-null   float64\n",
      " 11  std_pit_stop_lap             5518 non-null   float64\n",
      " 12  avg_pit_stop_driver          5518 non-null   float64\n",
      " 13  avg_pit_stop_team            5518 non-null   float64\n",
      " 14  avg_pit_stop_track           5518 non-null   float64\n",
      " 15  avg_pit_stop_season          5518 non-null   float64\n",
      " 16  rolling_avg_pit_stop_driver  5518 non-null   float64\n",
      " 17  rolling_avg_pit_stop_team    5518 non-null   float64\n",
      " 18  rolling_avg_pit_stop_track   5518 non-null   float64\n",
      " 19  rolling_avg_pit_stop_season  5518 non-null   float64\n",
      "dtypes: float64(12), int64(8)\n",
      "memory usage: 862.3 KB\n"
     ]
    }
   ],
<<<<<<< Updated upstream
   "execution_count": 168
=======
   "execution_count": 23
>>>>>>> Stashed changes
  },
  {
   "metadata": {
    "ExecuteTime": {
<<<<<<< Updated upstream
     "end_time": "2024-11-18T20:21:57.026012Z",
     "start_time": "2024-11-18T20:21:57.009503Z"
=======
     "end_time": "2024-11-18T13:48:28.341510Z",
     "start_time": "2024-11-18T13:48:28.334547Z"
>>>>>>> Stashed changes
    }
   },
   "cell_type": "code",
   "source": [
    "df_results_races_circuits_qualifying_drivers_pitstops = pd.merge(df_results_races_circuits_qualifying_drivers, aggregated_pitstops, on=['raceId', 'driverId'], how='left')\n",
    "df_results_races_circuits_qualifying_drivers_pitstops.shape\n"
   ],
<<<<<<< Updated upstream
   "id": "e43aa2f68f4bb56d",
=======
   "id": "3d52f8f246c230aa",
>>>>>>> Stashed changes
   "outputs": [
    {
     "data": {
      "text/plain": [
<<<<<<< Updated upstream
       "(26699, 50)"
      ]
     },
     "execution_count": 169,
=======
       "(26699, 43)"
      ]
     },
     "execution_count": 24,
>>>>>>> Stashed changes
     "metadata": {},
     "output_type": "execute_result"
    }
   ],
<<<<<<< Updated upstream
   "execution_count": 169
=======
   "execution_count": 24
>>>>>>> Stashed changes
  },
  {
   "metadata": {
    "ExecuteTime": {
<<<<<<< Updated upstream
     "end_time": "2024-11-18T20:21:57.296205Z",
     "start_time": "2024-11-18T20:21:57.046303Z"
=======
     "end_time": "2024-11-18T13:48:28.683038Z",
     "start_time": "2024-11-18T13:48:28.460225Z"
>>>>>>> Stashed changes
    }
   },
   "cell_type": "code",
   "source": "df_results_races_circuits_qualifying_drivers_pitstops.to_csv('../data/processed/export_v1.csv', index=False)",
   "id": "112d7190f7767016",
   "outputs": [],
<<<<<<< Updated upstream
   "execution_count": 170
=======
   "execution_count": 25
>>>>>>> Stashed changes
  }
 ],
 "metadata": {
  "kernelspec": {
   "display_name": "Python 3",
   "language": "python",
   "name": "python3"
  },
  "language_info": {
   "codemirror_mode": {
    "name": "ipython",
    "version": 2
   },
   "file_extension": ".py",
   "mimetype": "text/x-python",
   "name": "python",
   "nbconvert_exporter": "python",
   "pygments_lexer": "ipython2",
   "version": "2.7.6"
  }
 },
 "nbformat": 4,
 "nbformat_minor": 5
}
