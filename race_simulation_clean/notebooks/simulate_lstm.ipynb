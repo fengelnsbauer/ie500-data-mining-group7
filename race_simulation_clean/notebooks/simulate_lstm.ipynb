{
 "cells": [
  {
   "cell_type": "code",
   "execution_count": null,
   "metadata": {},
   "outputs": [],
   "source": [
    "import sys\n",
    "import pickle\n",
    "sys.path.append('../')\n",
    "from models.LSTM.LSTMRaceSimulator import LSTMRaceSimulator \n",
    "from common.race_initializer import RaceInitializer"
   ]
  },
  {
   "cell_type": "code",
   "execution_count": null,
   "metadata": {},
   "outputs": [],
   "source": [
    "# Initialize the race\n",
    "initializer = RaceInitializer()\n",
    "race = initializer.initialize_race(\n",
    "    race_id=989,\n",
    "    lap_times_df=lap_times_df,\n",
    "    circuit_attributes_df=circuit_attributes_df,\n",
    "    drivers_attributes_df=drivers_attributes_df,\n",
    "    race_attributes_df=race_attributes_df,\n",
    "    weather_data_df=weather_data_df\n",
    ")\n",
    "\n",
    "# Use the initialized race in any simulator\n",
    "lstm_simulator = LSTMRaceSimulator(model_path='path_to_model.pth')\n",
    "simulation_results = lstm_simulator.simulate_race(race)"
   ]
  }
 ],
 "metadata": {
  "language_info": {
   "name": "python"
  }
 },
 "nbformat": 4,
 "nbformat_minor": 2
}
