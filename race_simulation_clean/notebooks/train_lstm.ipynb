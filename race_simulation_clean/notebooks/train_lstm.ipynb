{
 "cells": [
  {
   "cell_type": "code",
   "execution_count": null,
   "metadata": {},
   "outputs": [],
   "source": [
    "import sys\n",
    "sys.path.append('../')\n",
    "from models.LSTM.lstm import F1LapTimePredictor"
   ]
  },
  {
   "cell_type": "code",
   "execution_count": null,
   "metadata": {},
   "outputs": [],
   "source": [
    "# Initialize the predictor\n",
    "predictor = F1LapTimePredictor(\n",
    "    processed_data=your_processed_data,\n",
    "    static_features=your_static_features,\n",
    "    dynamic_features=your_dynamic_features\n",
    ")\n",
    "\n",
    "# Run optimization\n",
    "study = predictor.optimize(n_trials=100)\n",
    "\n",
    "# Print results\n",
    "print(\"Best trial:\")\n",
    "print(f\"  Value: {study.best_trial.value}\")\n",
    "print(f\"  Params: {study.best_trial.params}\")\n",
    "\n",
    "# Create the best model\n",
    "best_model = predictor.create_best_model(study)"
   ]
  }
 ],
 "metadata": {
  "language_info": {
   "name": "python"
  }
 },
 "nbformat": 4,
 "nbformat_minor": 2
}
