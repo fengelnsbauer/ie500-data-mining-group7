{
 "cells": [
  {
   "cell_type": "code",
   "execution_count": 1,
   "metadata": {},
   "outputs": [],
   "source": [
    "import sys, os\n",
    "import pickle\n",
    "\n",
    "sys.path.append('../')\n",
    "import datetime\n",
    "from models.Regression.polyRegression import F1PolyPredictor\n"
   ]
  },
  {
   "cell_type": "code",
   "execution_count": null,
   "metadata": {},
   "outputs": [],
   "source": [
    "import logging\n",
    "logging.basicConfig(level=logging.INFO)\n",
    "\n",
    "# Load your processed data\n",
    "with open('processed_race_data.pkl', 'rb') as f:\n",
    "    processed_data = pickle.load(f)\n",
    "\n",
    "# Initialize and optimize\n",
    "predictor = F1PolyPredictor(processed_data)\n",
    "study = predictor.optimize(n_trials=100)\n",
    "\n",
    "# Train the model with best parameters\n",
    "predictor.train(study)\n",
    "\n",
    "# Evaluate performance\n",
    "metrics = predictor.evaluate()\n",
    "print(f\"Test RMSE: {metrics['rmse']:.2f} ms\")\n",
    "print(f\"Test MAE: {metrics['mae']:.2f} ms\")\n",
    "\n",
    "# Save the model\n",
    "predictor.save_model('f1_poly_model.pkl')"
   ]
  }
 ],
 "metadata": {
  "kernelspec": {
   "display_name": "ie500-data-mining-group7-LKR-OXJO-py3.12",
   "language": "python",
   "name": "python3"
  },
  "language_info": {
   "codemirror_mode": {
    "name": "ipython",
    "version": 3
   },
   "file_extension": ".py",
   "mimetype": "text/x-python",
   "name": "python",
   "nbconvert_exporter": "python",
   "pygments_lexer": "ipython3",
   "version": "3.12.6"
  }
 },
 "nbformat": 4,
 "nbformat_minor": 2
}
