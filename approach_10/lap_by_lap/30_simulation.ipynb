{
 "cells": [
  {
   "cell_type": "markdown",
   "metadata": {},
   "source": [
    "# Race Simulation\n",
    "\n",
    "This notebook loads the best-performing model and simulates a race using drivers' skills, weather data, and practice data."
   ]
  },
  {
   "cell_type": "code",
   "execution_count": 1,
   "metadata": {},
   "outputs": [],
   "source": [
    "# Import necessary libraries\n",
    "import pandas as pd\n",
    "import numpy as np\n",
    "import joblib\n",
    "import matplotlib.pyplot as plt\n",
    "import warnings\n",
    "warnings.filterwarnings('ignore')"
   ]
  },
  {
   "cell_type": "markdown",
   "metadata": {},
   "source": [
    "## Load the Best Model"
   ]
  },
  {
   "cell_type": "code",
   "execution_count": 2,
   "metadata": {},
   "outputs": [
    {
     "ename": "FileNotFoundError",
     "evalue": "[Errno 2] No such file or directory: 'Random_Forest_model.pkl'",
     "output_type": "error",
     "traceback": [
      "\u001b[0;31m---------------------------------------------------------------------------\u001b[0m",
      "\u001b[0;31mFileNotFoundError\u001b[0m                         Traceback (most recent call last)",
      "Cell \u001b[0;32mIn[2], line 2\u001b[0m\n\u001b[1;32m      1\u001b[0m \u001b[38;5;66;03m# Load the best model (assuming Random Forest performed best)\u001b[39;00m\n\u001b[0;32m----> 2\u001b[0m best_model \u001b[38;5;241m=\u001b[39m \u001b[43mjoblib\u001b[49m\u001b[38;5;241;43m.\u001b[39;49m\u001b[43mload\u001b[49m\u001b[43m(\u001b[49m\u001b[38;5;124;43m'\u001b[39;49m\u001b[38;5;124;43mRandom_Forest_model.pkl\u001b[39;49m\u001b[38;5;124;43m'\u001b[39;49m\u001b[43m)\u001b[49m\n\u001b[1;32m      4\u001b[0m \u001b[38;5;66;03m# Load the preprocessor\u001b[39;00m\n\u001b[1;32m      5\u001b[0m preprocessor \u001b[38;5;241m=\u001b[39m joblib\u001b[38;5;241m.\u001b[39mload(\u001b[38;5;124m'\u001b[39m\u001b[38;5;124mpreprocessor.pkl\u001b[39m\u001b[38;5;124m'\u001b[39m)  \u001b[38;5;66;03m# Save this during training\u001b[39;00m\n",
      "File \u001b[0;32m~/Library/Caches/pypoetry/virtualenvs/ie500-data-mining-group7-LKR-OXJO-py3.12/lib/python3.12/site-packages/joblib/numpy_pickle.py:650\u001b[0m, in \u001b[0;36mload\u001b[0;34m(filename, mmap_mode)\u001b[0m\n\u001b[1;32m    648\u001b[0m         obj \u001b[38;5;241m=\u001b[39m _unpickle(fobj)\n\u001b[1;32m    649\u001b[0m \u001b[38;5;28;01melse\u001b[39;00m:\n\u001b[0;32m--> 650\u001b[0m     \u001b[38;5;28;01mwith\u001b[39;00m \u001b[38;5;28;43mopen\u001b[39;49m\u001b[43m(\u001b[49m\u001b[43mfilename\u001b[49m\u001b[43m,\u001b[49m\u001b[43m \u001b[49m\u001b[38;5;124;43m'\u001b[39;49m\u001b[38;5;124;43mrb\u001b[39;49m\u001b[38;5;124;43m'\u001b[39;49m\u001b[43m)\u001b[49m \u001b[38;5;28;01mas\u001b[39;00m f:\n\u001b[1;32m    651\u001b[0m         \u001b[38;5;28;01mwith\u001b[39;00m _read_fileobject(f, filename, mmap_mode) \u001b[38;5;28;01mas\u001b[39;00m fobj:\n\u001b[1;32m    652\u001b[0m             \u001b[38;5;28;01mif\u001b[39;00m \u001b[38;5;28misinstance\u001b[39m(fobj, \u001b[38;5;28mstr\u001b[39m):\n\u001b[1;32m    653\u001b[0m                 \u001b[38;5;66;03m# if the returned file object is a string, this means we\u001b[39;00m\n\u001b[1;32m    654\u001b[0m                 \u001b[38;5;66;03m# try to load a pickle file generated with an version of\u001b[39;00m\n\u001b[1;32m    655\u001b[0m                 \u001b[38;5;66;03m# Joblib so we load it with joblib compatibility function.\u001b[39;00m\n",
      "\u001b[0;31mFileNotFoundError\u001b[0m: [Errno 2] No such file or directory: 'Random_Forest_model.pkl'"
     ]
    }
   ],
   "source": [
    "# Load the best model (assuming Random Forest performed best)\n",
    "best_model = joblib.load('Random_Forest_model.pkl')\n",
    "\n",
    "# Load the preprocessor\n",
    "preprocessor = joblib.load('preprocessor.pkl')  # Save this during training"
   ]
  },
  {
   "cell_type": "markdown",
   "metadata": {},
   "source": [
    "## Define Race Simulation Functions"
   ]
  },
  {
   "cell_type": "code",
   "execution_count": null,
   "metadata": {},
   "outputs": [],
   "source": [
    "def simulate_race(drivers, total_laps, weather_conditions):\n",
    "    race_results = []\n",
    "    for lap in range(1, total_laps + 1):\n",
    "        lap_data = []\n",
    "        for driver in drivers:\n",
    "            # Update dynamic features\n",
    "            driver['tire_age'] += 1\n",
    "            driver['fuel_load'] -= 1.5  # Example consumption per lap\n",
    "            \n",
    "            # Prepare input features\n",
    "            features = pd.DataFrame({\n",
    "                'driver_overall_skill': [driver['driver_overall_skill']],\n",
    "                'driver_circuit_skill': [driver['driver_circuit_skill']],\n",
    "                'driver_consistency': [driver['driver_consistency']],\n",
    "                'driver_reliability': [driver['driver_reliability']],\n",
    "                'driver_aggression': [driver['driver_aggression']],\n",
    "                'driver_risk_taking': [driver['driver_risk_taking']],\n",
    "                'fp1_median_time': [driver['fp1_median_time']],\n",
    "                'fp2_median_time': [driver['fp2_median_time']],\n",
    "                'fp3_median_time': [driver['fp3_median_time']],\n",
    "                'quali_time': [driver['quali_time']],\n",
    "                'tire_age': [driver['tire_age']],\n",
    "                'fuel_load': [driver['fuel_load']],\n",
    "                'track_position': [driver['track_position']],\n",
    "                'track_temp': [weather_conditions['track_temp']],\n",
    "                'air_temp': [weather_conditions['air_temp']],\n",
    "                'humidity': [weather_conditions['humidity']],\n",
    "                'tire_compound': [driver['tire_compound']],\n",
    "                'TrackStatus': [weather_conditions['TrackStatus']],\n",
    "                'is_pit_lap': [0]\n",
    "            })\n",
    "            \n",
    "            # Transform features\n",
    "            X = preprocessor.transform(features)\n",
    "            \n",
    "            # Predict lap time\n",
    "            lap_time = best_model.predict(X)[0]\n",
    "            \n",
    "            # Store lap data\n",
    "            lap_data.append({'driver': driver['name'], 'lap_time': lap_time})\n",
    "        \n",
    "        # Update positions based on lap times\n",
    "        lap_data.sort(key=lambda x: x['lap_time'])\n",
    "        for position, data in enumerate(lap_data, start=1):\n",
    "            for driver in drivers:\n",
    "                if driver['name'] == data['driver']:\n",
    "                    driver['track_position'] = position\n",
    "                    break\n",
    "        \n",
    "        # Store race results\n",
    "        race_results.append(lap_data)\n",
    "    return race_results"
   ]
  },
  {
   "cell_type": "markdown",
   "metadata": {},
   "source": [
    "## Simulate the Race"
   ]
  },
  {
   "cell_type": "code",
   "execution_count": null,
   "metadata": {},
   "outputs": [],
   "source": [
    "# Define drivers\n",
    "drivers = [\n",
    "    {\n",
    "        'name': 'Driver A',\n",
    "        'driver_overall_skill': 0.85,\n",
    "        'driver_circuit_skill': 0.80,\n",
    "        'driver_consistency': 0.75,\n",
    "        'driver_reliability': 0.90,\n",
    "        'driver_aggression': 0.60,\n",
    "        'driver_risk_taking': 0.55,\n",
    "        'fp1_median_time': 88000,\n",
    "        'fp2_median_time': 87500,\n",
    "        'fp3_median_time': 87000,\n",
    "        'quali_time': 86000,\n",
    "        'tire_age': 0,\n",
    "        'fuel_load': 100.0,\n",
    "        'track_position': 1,\n",
    "        'tire_compound': 1  # Hard\n",
    "    },\n",
    "    # Add more drivers as needed\n",
    "]\n",
    "\n",
    "# Define weather conditions\n",
    "weather_conditions = {\n",
    "    'track_temp': 35.0,\n",
    "    'air_temp': 25.0,\n",
    "    'humidity': 50.0,\n",
    "    'TrackStatus': 1\n",
    "}\n",
    "\n",
    "# Simulate the race\n",
    "total_laps = 50\n",
    "race_results = simulate_race(drivers, total_laps, weather_conditions)"
   ]
  },
  {
   "cell_type": "markdown",
   "metadata": {},
   "source": [
    "## Analyze Results"
   ]
  },
  {
   "cell_type": "code",
   "execution_count": null,
   "metadata": {},
   "outputs": [],
   "source": [
    "# Convert race results to DataFrame\n",
    "race_df = pd.DataFrame()\n",
    "for lap_num, lap_data in enumerate(race_results, start=1):\n",
    "    for data in lap_data:\n",
    "        race_df = race_df.append({\n",
    "            'Lap': lap_num,\n",
    "            'Driver': data['driver'],\n",
    "            'LapTime': data['lap_time']\n",
    "        }, ignore_index=True)\n",
    "\n",
    "# Display race DataFrame\n",
    "race_df.head()"
   ]
  },
  {
   "cell_type": "markdown",
   "metadata": {},
   "source": [
    "## Plot Lap Times"
   ]
  },
  {
   "cell_type": "code",
   "execution_count": null,
   "metadata": {},
   "outputs": [],
   "source": [
    "# Plot lap times for each driver\n",
    "plt.figure(figsize=(12, 6))\n",
    "for driver in race_df['Driver'].unique():\n",
    "    driver_data = race_df[race_df['Driver'] == driver]\n",
    "    plt.plot(driver_data['Lap'], driver_data['LapTime'], label=driver)\n",
    "plt.xlabel('Lap')\n",
    "plt.ylabel('Lap Time (ms)')\n",
    "plt.title('Lap Times by Driver')\n",
    "plt.legend()\n",
    "plt.show()"
   ]
  }
 ],
 "metadata": {
  "kernelspec": {
   "display_name": "Python 3",
   "language": "python",
   "name": "python3"
  },
  "language_info": {
   "codemirror_mode": {
    "name": "ipython",
    "version": 3
   },
   "file_extension": ".py",
   "mimetype": "text/x-python",
   "name": "python",
   "nbconvert_exporter": "python",
   "pygments_lexer": "ipython3",
   "version": "3.12.6"
  }
 },
 "nbformat": 4,
 "nbformat_minor": 2
}
