{
 "cells": [
  {
   "metadata": {
    "ExecuteTime": {
     "end_time": "2024-11-18T20:21:56.080068Z",
     "start_time": "2024-11-18T20:21:56.075481Z"
    }
   },
   "cell_type": "code",
   "source": "import pandas as pd",
   "id": "e9f61c6188484a6",
   "outputs": [],
   "execution_count": 148
  },
  {
   "metadata": {
    "ExecuteTime": {
     "end_time": "2024-11-18T20:21:56.122335Z",
     "start_time": "2024-11-18T20:21:56.086168Z"
    }
   },
   "cell_type": "code",
   "source": [
    "results_data_path = '../data/raw_data/results.csv'  # Use your preprocessed data path\n",
    "df_results = pd.read_csv(results_data_path)\n",
    "\n",
    "# Display the first few rows\n",
    "df_results.head()"
   ],
   "id": "4fe1afb1a498a45",
   "outputs": [
    {
     "data": {
      "text/plain": [
       "   resultId  raceId  driverId  constructorId number  grid position  \\\n",
       "0         1      18         1              1     22     1        1   \n",
       "1         2      18         2              2      3     5        2   \n",
       "2         3      18         3              3      7     7        3   \n",
       "3         4      18         4              4      5    11        4   \n",
       "4         5      18         5              1     23     3        5   \n",
       "\n",
       "  positionText  positionOrder  points  laps         time milliseconds  \\\n",
       "0            1              1    10.0    58  1:34:50.616      5690616   \n",
       "1            2              2     8.0    58       +5.478      5696094   \n",
       "2            3              3     6.0    58       +8.163      5698779   \n",
       "3            4              4     5.0    58      +17.181      5707797   \n",
       "4            5              5     4.0    58      +18.014      5708630   \n",
       "\n",
       "  fastestLap rank fastestLapTime fastestLapSpeed  statusId  \n",
       "0         39    2       1:27.452         218.300         1  \n",
       "1         41    3       1:27.739         217.586         1  \n",
       "2         41    5       1:28.090         216.719         1  \n",
       "3         58    7       1:28.603         215.464         1  \n",
       "4         43    1       1:27.418         218.385         1  "
      ],
      "text/html": [
       "<div>\n",
       "<style scoped>\n",
       "    .dataframe tbody tr th:only-of-type {\n",
       "        vertical-align: middle;\n",
       "    }\n",
       "\n",
       "    .dataframe tbody tr th {\n",
       "        vertical-align: top;\n",
       "    }\n",
       "\n",
       "    .dataframe thead th {\n",
       "        text-align: right;\n",
       "    }\n",
       "</style>\n",
       "<table border=\"1\" class=\"dataframe\">\n",
       "  <thead>\n",
       "    <tr style=\"text-align: right;\">\n",
       "      <th></th>\n",
       "      <th>resultId</th>\n",
       "      <th>raceId</th>\n",
       "      <th>driverId</th>\n",
       "      <th>constructorId</th>\n",
       "      <th>number</th>\n",
       "      <th>grid</th>\n",
       "      <th>position</th>\n",
       "      <th>positionText</th>\n",
       "      <th>positionOrder</th>\n",
       "      <th>points</th>\n",
       "      <th>laps</th>\n",
       "      <th>time</th>\n",
       "      <th>milliseconds</th>\n",
       "      <th>fastestLap</th>\n",
       "      <th>rank</th>\n",
       "      <th>fastestLapTime</th>\n",
       "      <th>fastestLapSpeed</th>\n",
       "      <th>statusId</th>\n",
       "    </tr>\n",
       "  </thead>\n",
       "  <tbody>\n",
       "    <tr>\n",
       "      <th>0</th>\n",
       "      <td>1</td>\n",
       "      <td>18</td>\n",
       "      <td>1</td>\n",
       "      <td>1</td>\n",
       "      <td>22</td>\n",
       "      <td>1</td>\n",
       "      <td>1</td>\n",
       "      <td>1</td>\n",
       "      <td>1</td>\n",
       "      <td>10.0</td>\n",
       "      <td>58</td>\n",
       "      <td>1:34:50.616</td>\n",
       "      <td>5690616</td>\n",
       "      <td>39</td>\n",
       "      <td>2</td>\n",
       "      <td>1:27.452</td>\n",
       "      <td>218.300</td>\n",
       "      <td>1</td>\n",
       "    </tr>\n",
       "    <tr>\n",
       "      <th>1</th>\n",
       "      <td>2</td>\n",
       "      <td>18</td>\n",
       "      <td>2</td>\n",
       "      <td>2</td>\n",
       "      <td>3</td>\n",
       "      <td>5</td>\n",
       "      <td>2</td>\n",
       "      <td>2</td>\n",
       "      <td>2</td>\n",
       "      <td>8.0</td>\n",
       "      <td>58</td>\n",
       "      <td>+5.478</td>\n",
       "      <td>5696094</td>\n",
       "      <td>41</td>\n",
       "      <td>3</td>\n",
       "      <td>1:27.739</td>\n",
       "      <td>217.586</td>\n",
       "      <td>1</td>\n",
       "    </tr>\n",
       "    <tr>\n",
       "      <th>2</th>\n",
       "      <td>3</td>\n",
       "      <td>18</td>\n",
       "      <td>3</td>\n",
       "      <td>3</td>\n",
       "      <td>7</td>\n",
       "      <td>7</td>\n",
       "      <td>3</td>\n",
       "      <td>3</td>\n",
       "      <td>3</td>\n",
       "      <td>6.0</td>\n",
       "      <td>58</td>\n",
       "      <td>+8.163</td>\n",
       "      <td>5698779</td>\n",
       "      <td>41</td>\n",
       "      <td>5</td>\n",
       "      <td>1:28.090</td>\n",
       "      <td>216.719</td>\n",
       "      <td>1</td>\n",
       "    </tr>\n",
       "    <tr>\n",
       "      <th>3</th>\n",
       "      <td>4</td>\n",
       "      <td>18</td>\n",
       "      <td>4</td>\n",
       "      <td>4</td>\n",
       "      <td>5</td>\n",
       "      <td>11</td>\n",
       "      <td>4</td>\n",
       "      <td>4</td>\n",
       "      <td>4</td>\n",
       "      <td>5.0</td>\n",
       "      <td>58</td>\n",
       "      <td>+17.181</td>\n",
       "      <td>5707797</td>\n",
       "      <td>58</td>\n",
       "      <td>7</td>\n",
       "      <td>1:28.603</td>\n",
       "      <td>215.464</td>\n",
       "      <td>1</td>\n",
       "    </tr>\n",
       "    <tr>\n",
       "      <th>4</th>\n",
       "      <td>5</td>\n",
       "      <td>18</td>\n",
       "      <td>5</td>\n",
       "      <td>1</td>\n",
       "      <td>23</td>\n",
       "      <td>3</td>\n",
       "      <td>5</td>\n",
       "      <td>5</td>\n",
       "      <td>5</td>\n",
       "      <td>4.0</td>\n",
       "      <td>58</td>\n",
       "      <td>+18.014</td>\n",
       "      <td>5708630</td>\n",
       "      <td>43</td>\n",
       "      <td>1</td>\n",
       "      <td>1:27.418</td>\n",
       "      <td>218.385</td>\n",
       "      <td>1</td>\n",
       "    </tr>\n",
       "  </tbody>\n",
       "</table>\n",
       "</div>"
      ]
     },
     "execution_count": 149,
     "metadata": {},
     "output_type": "execute_result"
    }
   ],
   "execution_count": 149
  },
  {
   "metadata": {
    "ExecuteTime": {
     "end_time": "2024-11-18T20:21:56.162419Z",
     "start_time": "2024-11-18T20:21:56.160264Z"
    }
   },
   "cell_type": "code",
   "source": "df_results.shape",
   "id": "fb1a5a3efd5b1ed4",
   "outputs": [
    {
     "data": {
      "text/plain": [
       "(26699, 18)"
      ]
     },
     "execution_count": 150,
     "metadata": {},
     "output_type": "execute_result"
    }
   ],
   "execution_count": 150
  },
  {
   "metadata": {
    "ExecuteTime": {
     "end_time": "2024-11-18T20:21:56.201776Z",
     "start_time": "2024-11-18T20:21:56.188891Z"
    }
   },
   "cell_type": "code",
   "source": [
    "df = df_results.reindex(sorted(df_results.columns), axis=1)\n",
    "\n",
    "# Display DataFrame info\n",
    "df.info()\n",
    "\n",
    "# Check the shape of the DataFrame\n",
    "print(f\"DataFrame shape: {df_results.shape}\")\n"
   ],
   "id": "a86207f3555144ae",
   "outputs": [
    {
     "name": "stdout",
     "output_type": "stream",
     "text": [
      "<class 'pandas.core.frame.DataFrame'>\n",
      "RangeIndex: 26699 entries, 0 to 26698\n",
      "Data columns (total 18 columns):\n",
      " #   Column           Non-Null Count  Dtype  \n",
      "---  ------           --------------  -----  \n",
      " 0   constructorId    26699 non-null  int64  \n",
      " 1   driverId         26699 non-null  int64  \n",
      " 2   fastestLap       26699 non-null  object \n",
      " 3   fastestLapSpeed  26699 non-null  object \n",
      " 4   fastestLapTime   26699 non-null  object \n",
      " 5   grid             26699 non-null  int64  \n",
      " 6   laps             26699 non-null  int64  \n",
      " 7   milliseconds     26699 non-null  object \n",
      " 8   number           26699 non-null  object \n",
      " 9   points           26699 non-null  float64\n",
      " 10  position         26699 non-null  object \n",
      " 11  positionOrder    26699 non-null  int64  \n",
      " 12  positionText     26699 non-null  object \n",
      " 13  raceId           26699 non-null  int64  \n",
      " 14  rank             26699 non-null  object \n",
      " 15  resultId         26699 non-null  int64  \n",
      " 16  statusId         26699 non-null  int64  \n",
      " 17  time             26699 non-null  object \n",
      "dtypes: float64(1), int64(8), object(9)\n",
      "memory usage: 3.7+ MB\n",
      "DataFrame shape: (26699, 18)\n"
     ]
    }
   ],
   "execution_count": 151
  },
  {
   "metadata": {
    "ExecuteTime": {
     "end_time": "2024-11-18T20:21:56.252886Z",
     "start_time": "2024-11-18T20:21:56.245364Z"
    }
   },
   "cell_type": "code",
   "source": [
    "irrelevant_columns = [\n",
    "    'position', 'positionText', 'positionOrder', 'fastestLapTime', 'fastestLapTime', 'fastestLapSpeed', 'fastestLap', 'points', 'time', 'laps', 'milliseconds', 'rank', 'statusId'\n",
    "]\n",
    "\n",
    "df_other = df[['driverId', 'constructorId', 'raceId', 'statusId', 'points']].copy()\n",
    "\n",
    "# Drop the columns if they exist in the DataFrame\n",
    "df_dropped= df_results.drop(columns=[col for col in irrelevant_columns if col in df_results.columns])\n",
    "df_noDuplicates = df_dropped.drop_duplicates()\n",
    "df_noDuplicates.shape"
   ],
   "id": "cf121ce776165fd7",
   "outputs": [
    {
     "data": {
      "text/plain": [
       "(26699, 6)"
      ]
     },
     "execution_count": 152,
     "metadata": {},
     "output_type": "execute_result"
    }
   ],
   "execution_count": 152
  },
  {
   "metadata": {
    "ExecuteTime": {
     "end_time": "2024-11-18T20:21:56.298482Z",
     "start_time": "2024-11-18T20:21:56.294313Z"
    }
   },
   "cell_type": "code",
   "source": "df_noDuplicates.info()",
   "id": "3810b5edad1d082e",
   "outputs": [
    {
     "name": "stdout",
     "output_type": "stream",
     "text": [
      "<class 'pandas.core.frame.DataFrame'>\n",
      "RangeIndex: 26699 entries, 0 to 26698\n",
      "Data columns (total 6 columns):\n",
      " #   Column         Non-Null Count  Dtype \n",
      "---  ------         --------------  ----- \n",
      " 0   resultId       26699 non-null  int64 \n",
      " 1   raceId         26699 non-null  int64 \n",
      " 2   driverId       26699 non-null  int64 \n",
      " 3   constructorId  26699 non-null  int64 \n",
      " 4   number         26699 non-null  object\n",
      " 5   grid           26699 non-null  int64 \n",
      "dtypes: int64(5), object(1)\n",
      "memory usage: 1.2+ MB\n"
     ]
    }
   ],
   "execution_count": 153
  },
  {
   "metadata": {},
   "cell_type": "markdown",
   "source": "### Add new features from other tables",
   "id": "a351ab685d1876cc"
  },
  {
   "metadata": {},
   "cell_type": "markdown",
   "source": "### Add Race Info",
   "id": "283c08be4711334f"
  },
  {
   "metadata": {
    "ExecuteTime": {
     "end_time": "2024-11-18T20:21:56.325826Z",
     "start_time": "2024-11-18T20:21:56.320740Z"
    }
   },
   "cell_type": "code",
   "source": [
    "races_data_path = '../data/raw_data/races.csv' \n",
    "df_races = pd.read_csv(races_data_path)"
   ],
   "id": "84066e3374f112eb",
   "outputs": [],
   "execution_count": 154
  },
  {
   "metadata": {
    "ExecuteTime": {
     "end_time": "2024-11-18T20:21:56.350543Z",
     "start_time": "2024-11-18T20:21:56.346932Z"
    }
   },
   "cell_type": "code",
   "source": "df_races.info()",
   "id": "9c136704ae88bdaa",
   "outputs": [
    {
     "name": "stdout",
     "output_type": "stream",
     "text": [
      "<class 'pandas.core.frame.DataFrame'>\n",
      "RangeIndex: 1125 entries, 0 to 1124\n",
      "Data columns (total 18 columns):\n",
      " #   Column       Non-Null Count  Dtype \n",
      "---  ------       --------------  ----- \n",
      " 0   raceId       1125 non-null   int64 \n",
      " 1   year         1125 non-null   int64 \n",
      " 2   round        1125 non-null   int64 \n",
      " 3   circuitId    1125 non-null   int64 \n",
      " 4   name         1125 non-null   object\n",
      " 5   date         1125 non-null   object\n",
      " 6   time         1125 non-null   object\n",
      " 7   url          1125 non-null   object\n",
      " 8   fp1_date     1125 non-null   object\n",
      " 9   fp1_time     1125 non-null   object\n",
      " 10  fp2_date     1125 non-null   object\n",
      " 11  fp2_time     1125 non-null   object\n",
      " 12  fp3_date     1125 non-null   object\n",
      " 13  fp3_time     1125 non-null   object\n",
      " 14  quali_date   1125 non-null   object\n",
      " 15  quali_time   1125 non-null   object\n",
      " 16  sprint_date  1125 non-null   object\n",
      " 17  sprint_time  1125 non-null   object\n",
      "dtypes: int64(4), object(14)\n",
      "memory usage: 158.3+ KB\n"
     ]
    }
   ],
   "execution_count": 155
  },
  {
   "metadata": {
    "ExecuteTime": {
     "end_time": "2024-11-18T20:21:56.386969Z",
     "start_time": "2024-11-18T20:21:56.371798Z"
    }
   },
   "cell_type": "code",
   "source": [
    "df_results_races = pd.merge(df_noDuplicates, df_races[['raceId', 'year','round' ,'circuitId', 'name', 'date', 'time', 'fp1_date', 'fp2_date', 'fp3_date', 'fp1_time', 'fp2_time', 'fp3_time', 'quali_time', 'quali_date']], on=['raceId'], how='left')\n",
    "df_results_races = df_results_races.rename(columns={'name': 'race_name', 'date': 'race_date', 'time': 'race_time'})\n",
    "df_results_races.shape"
   ],
   "id": "278ba8c8cb509e57",
   "outputs": [
    {
     "data": {
      "text/plain": [
       "(26699, 20)"
      ]
     },
     "execution_count": 156,
     "metadata": {},
     "output_type": "execute_result"
    }
   ],
   "execution_count": 156
  },
  {
   "metadata": {},
   "cell_type": "markdown",
   "source": "### Add Circuit Info",
   "id": "ccd747a8e2ff3071"
  },
  {
   "metadata": {
    "ExecuteTime": {
     "end_time": "2024-11-18T20:21:56.410436Z",
     "start_time": "2024-11-18T20:21:56.407698Z"
    }
   },
   "cell_type": "code",
   "source": [
    "circuits_data_path = '../data/raw_data/circuits.csv' \n",
    "df_circuits = pd.read_csv(circuits_data_path)"
   ],
   "id": "aaabae4a9baabedf",
   "outputs": [],
   "execution_count": 157
  },
  {
   "metadata": {
    "ExecuteTime": {
     "end_time": "2024-11-18T20:21:56.434648Z",
     "start_time": "2024-11-18T20:21:56.431337Z"
    }
   },
   "cell_type": "code",
   "source": "df_circuits.info()",
   "id": "25d923459dfd099f",
   "outputs": [
    {
     "name": "stdout",
     "output_type": "stream",
     "text": [
      "<class 'pandas.core.frame.DataFrame'>\n",
      "RangeIndex: 77 entries, 0 to 76\n",
      "Data columns (total 9 columns):\n",
      " #   Column      Non-Null Count  Dtype  \n",
      "---  ------      --------------  -----  \n",
      " 0   circuitId   77 non-null     int64  \n",
      " 1   circuitRef  77 non-null     object \n",
      " 2   name        77 non-null     object \n",
      " 3   location    77 non-null     object \n",
      " 4   country     77 non-null     object \n",
      " 5   lat         77 non-null     float64\n",
      " 6   lng         77 non-null     float64\n",
      " 7   alt         77 non-null     int64  \n",
      " 8   url         77 non-null     object \n",
      "dtypes: float64(2), int64(2), object(5)\n",
      "memory usage: 5.5+ KB\n"
     ]
    }
   ],
   "execution_count": 158
  },
  {
   "metadata": {
    "ExecuteTime": {
     "end_time": "2024-11-18T20:21:56.472479Z",
     "start_time": "2024-11-18T20:21:56.456218Z"
    }
   },
   "cell_type": "code",
   "source": [
    "df_results_races_circuits = pd.merge(df_results_races, df_circuits[['circuitId', 'location', 'country','lat' ,'lng', 'alt']], on=['circuitId'], how='left')\n",
    "df_results_races_circuits = df_results_races_circuits.rename(columns={'location': 'race_location', 'country': 'race_country', 'lat': 'race_lat', 'lng': 'race_lng', 'alt': 'race_alt'})\n",
    "df_results_races_circuits.shape"
   ],
   "id": "6d97c4e07baccdde",
   "outputs": [
    {
     "data": {
      "text/plain": [
       "(26699, 25)"
      ]
     },
     "execution_count": 159,
     "metadata": {},
     "output_type": "execute_result"
    }
   ],
   "execution_count": 159
  },
  {
   "metadata": {},
   "cell_type": "markdown",
   "source": [
    "### Grid vs. Position\n",
    "* Grid is the actual starting position on race day\n",
    "* position is the position in at the end of qualifying, not including penalties"
   ],
   "id": "b199283838b8de39"
  },
  {
   "metadata": {
    "ExecuteTime": {
     "end_time": "2024-11-18T20:21:56.503444Z",
     "start_time": "2024-11-18T20:21:56.493852Z"
    }
   },
   "cell_type": "code",
   "source": [
    "qualifying_data_path = '../data/raw_data/qualifying.csv' \n",
    "df_qualifying = pd.read_csv(qualifying_data_path)"
   ],
   "id": "606155374388ecdc",
   "outputs": [],
   "execution_count": 160
  },
  {
   "metadata": {
    "ExecuteTime": {
     "end_time": "2024-11-18T20:21:56.530237Z",
     "start_time": "2024-11-18T20:21:56.525412Z"
    }
   },
   "cell_type": "code",
   "source": "df_qualifying.info()",
   "id": "e0de0e961a368dfc",
   "outputs": [
    {
     "name": "stdout",
     "output_type": "stream",
     "text": [
      "<class 'pandas.core.frame.DataFrame'>\n",
      "RangeIndex: 10434 entries, 0 to 10433\n",
      "Data columns (total 9 columns):\n",
      " #   Column         Non-Null Count  Dtype \n",
      "---  ------         --------------  ----- \n",
      " 0   qualifyId      10434 non-null  int64 \n",
      " 1   raceId         10434 non-null  int64 \n",
      " 2   driverId       10434 non-null  int64 \n",
      " 3   constructorId  10434 non-null  int64 \n",
      " 4   number         10434 non-null  int64 \n",
      " 5   position       10434 non-null  int64 \n",
      " 6   q1             10434 non-null  object\n",
      " 7   q2             10412 non-null  object\n",
      " 8   q3             10388 non-null  object\n",
      "dtypes: int64(6), object(3)\n",
      "memory usage: 733.8+ KB\n"
     ]
    }
   ],
   "execution_count": 161
  },
  {
   "metadata": {
    "ExecuteTime": {
     "end_time": "2024-11-18T20:21:56.583436Z",
     "start_time": "2024-11-18T20:21:56.572851Z"
    }
   },
   "cell_type": "code",
   "source": [
    "df_results_races_circuits_qualifying = pd.merge(df_results_races_circuits, df_qualifying[['raceId', 'driverId','q1' ,'q2', 'q3', 'position']], on=['raceId', 'driverId'], how='left')\n",
    "df_results_races_circuits_qualifying.shape"
   ],
   "id": "374554cb30530467",
   "outputs": [
    {
     "data": {
      "text/plain": [
       "(26699, 29)"
      ]
     },
     "execution_count": 162,
     "metadata": {},
     "output_type": "execute_result"
    }
   ],
   "execution_count": 162
  },
  {
   "metadata": {},
   "cell_type": "markdown",
   "source": "### Adding Driver Info",
   "id": "9d186b266a669449"
  },
  {
   "metadata": {
    "ExecuteTime": {
     "end_time": "2024-11-18T20:21:56.592263Z",
     "start_time": "2024-11-18T20:21:56.588020Z"
    }
   },
   "cell_type": "code",
   "source": [
    "drivers_data_path = '../data/raw_data/drivers.csv'\n",
    "df_drivers = pd.read_csv(drivers_data_path)"
   ],
   "id": "25924b8d236ddd93",
   "outputs": [],
   "execution_count": 163
  },
  {
   "metadata": {
    "ExecuteTime": {
     "end_time": "2024-11-18T20:21:56.715138Z",
     "start_time": "2024-11-18T20:21:56.710826Z"
    }
   },
   "cell_type": "code",
   "source": "df_drivers.info()",
   "id": "c72d80a810ccb510",
   "outputs": [
    {
     "name": "stdout",
     "output_type": "stream",
     "text": [
      "<class 'pandas.core.frame.DataFrame'>\n",
      "RangeIndex: 860 entries, 0 to 859\n",
      "Data columns (total 9 columns):\n",
      " #   Column       Non-Null Count  Dtype \n",
      "---  ------       --------------  ----- \n",
      " 0   driverId     860 non-null    int64 \n",
      " 1   driverRef    860 non-null    object\n",
      " 2   number       860 non-null    object\n",
      " 3   code         860 non-null    object\n",
      " 4   forename     860 non-null    object\n",
      " 5   surname      860 non-null    object\n",
      " 6   dob          860 non-null    object\n",
      " 7   nationality  860 non-null    object\n",
      " 8   url          860 non-null    object\n",
      "dtypes: int64(1), object(8)\n",
      "memory usage: 60.6+ KB\n"
     ]
    }
   ],
   "execution_count": 164
  },
  {
   "metadata": {
    "ExecuteTime": {
     "end_time": "2024-11-18T20:21:56.792225Z",
     "start_time": "2024-11-18T20:21:56.777969Z"
    }
   },
   "cell_type": "code",
   "source": [
    "df_results_races_circuits_qualifying_drivers = pd.merge(df_results_races_circuits_qualifying, df_drivers[['driverId', 'dob','nationality', 'code',]], on=['driverId'], how='left')\n",
    "df_results_races_circuits_qualifying_drivers.rename(columns={'dob': 'driver_dob', 'nationality': 'driver_nationality', 'code': 'driver_code'}, inplace=True)\n",
    "df_results_races_circuits_qualifying_drivers.shape"
   ],
   "id": "57ef949afd15000c",
   "outputs": [
    {
     "data": {
      "text/plain": [
       "(26699, 32)"
      ]
     },
     "execution_count": 165,
     "metadata": {},
     "output_type": "execute_result"
    }
   ],
   "execution_count": 165
  },
  {
   "metadata": {},
   "cell_type": "markdown",
   "source": "### Adding PitStop Data",
   "id": "7def8a703a44a675"
  },
  {
   "metadata": {
    "ExecuteTime": {
     "end_time": "2024-11-18T20:21:56.897370Z",
     "start_time": "2024-11-18T20:21:56.812754Z"
    }
   },
   "cell_type": "code",
   "source": [
    "# Define file paths (update these paths as needed)\n",
    "pitstop_data_path = '../data/raw_data/pit_stops.csv'\n",
    "results_data_path = '../data/raw_data/results.csv'  # Replace with actual path\n",
    "races_data_path = '../data/raw_data/races.csv'      # Replace with actual path\n",
    "\n",
    "# Load pit stop data\n",
    "df_pitstops = pd.read_csv(pitstop_data_path)\n",
    "\n",
    "# Load race results data\n",
    "df_results = pd.read_csv(results_data_path)\n",
    "\n",
    "# Load races data\n",
    "df_races = pd.read_csv(races_data_path)\n",
    "\n",
    "# Merge pit stops with race results to get 'constructorId'\n",
    "df_pitstops = pd.merge(\n",
    "    df_pitstops,\n",
    "    df_results[['raceId', 'driverId', 'constructorId']],\n",
    "    on=['raceId', 'driverId'],\n",
    "    how='left'\n",
    ")\n",
    "\n",
    "# Merge with races to get 'date', 'circuitId', and 'year'\n",
    "df_pitstops = pd.merge(\n",
    "    df_pitstops,\n",
    "    df_races[['raceId', 'date', 'circuitId', 'year']],\n",
    "    on='raceId',\n",
    "    how='left'\n",
    ")\n",
    "\n",
    "# Rename 'date' to 'race_date' for clarity\n",
    "df_pitstops = df_pitstops.rename(columns={'date': 'race_date'})\n",
    "\n",
    "# Convert 'race_date' to datetime\n",
    "df_pitstops['race_date'] = pd.to_datetime(df_pitstops['race_date'])\n",
    "\n",
    "# Sort the DataFrame chronologically within each group to maintain temporal order\n",
    "df_pitstops = df_pitstops.sort_values(\n",
    "    ['driverId', 'constructorId', 'circuitId', 'year', 'race_date']\n",
    ").reset_index(drop=True)\n",
    "\n",
    "# Define function to calculate historical average pit stop time per group\n",
    "def calculate_historical_average(df, group_col, new_col):\n",
    "    df[new_col] = df.groupby(group_col)['milliseconds'].transform(\n",
    "        lambda x: x.expanding().mean().shift(1)\n",
    "    )\n",
    "    return df\n",
    "\n",
    "# Define function to calculate rolling average pit stop time per group\n",
    "def calculate_rolling_average(df, group_col, new_col, window=5):\n",
    "    df[new_col] = df.groupby(group_col)['milliseconds'].transform(\n",
    "        lambda x: x.rolling(window=window, min_periods=1).mean().shift(1)\n",
    "    )\n",
    "    return df\n",
    "\n",
    "# Calculate Historical Averages\n",
    "df_pitstops = calculate_historical_average(df_pitstops, 'driverId', 'avg_pit_stop_driver')\n",
    "df_pitstops = calculate_historical_average(df_pitstops, 'constructorId', 'avg_pit_stop_team')\n",
    "df_pitstops = calculate_historical_average(df_pitstops, 'circuitId', 'avg_pit_stop_track')\n",
    "df_pitstops = calculate_historical_average(df_pitstops, 'year', 'avg_pit_stop_season')\n",
    "\n",
    "# Calculate Rolling Averages (Last 5 Races)\n",
    "df_pitstops = calculate_rolling_average(df_pitstops, 'driverId', 'rolling_avg_pit_stop_driver', window=5)\n",
    "df_pitstops = calculate_rolling_average(df_pitstops, 'constructorId', 'rolling_avg_pit_stop_team', window=5)\n",
    "df_pitstops = calculate_rolling_average(df_pitstops, 'circuitId', 'rolling_avg_pit_stop_track', window=5)\n",
    "df_pitstops = calculate_rolling_average(df_pitstops, 'year', 'rolling_avg_pit_stop_season', window=5)\n",
    "\n",
    "# Calculate overall mean of 'milliseconds' to use for imputation\n",
    "overall_mean = df_pitstops['milliseconds'].mean()\n",
    "\n",
    "# Fill NaN values in the engineered features with the overall mean\n",
    "df_pitstops.fillna({\n",
    "    'avg_pit_stop_driver': overall_mean,\n",
    "    'avg_pit_stop_team': overall_mean,\n",
    "    'avg_pit_stop_track': overall_mean,\n",
    "    'avg_pit_stop_season': overall_mean,\n",
    "    'rolling_avg_pit_stop_driver': overall_mean,\n",
    "    'rolling_avg_pit_stop_team': overall_mean,\n",
    "    'rolling_avg_pit_stop_track': overall_mean,\n",
    "    'rolling_avg_pit_stop_season': overall_mean\n",
    "}, inplace=True)\n",
    "\n",
    "# Define aggregation functions for pit stop metrics\n",
    "aggregation_functions = {\n",
    "    'milliseconds': ['min', 'max', 'mean', 'std', 'count'],\n",
    "    'stop': 'count',\n",
    "    'lap': ['min', 'max', 'mean', 'std'],\n",
    "    'avg_pit_stop_driver': 'mean',\n",
    "    'avg_pit_stop_team': 'mean',\n",
    "    'avg_pit_stop_track': 'mean',\n",
    "    'avg_pit_stop_season': 'mean',\n",
    "    'rolling_avg_pit_stop_driver': 'mean',\n",
    "    'rolling_avg_pit_stop_team': 'mean',\n",
    "    'rolling_avg_pit_stop_track': 'mean',\n",
    "    'rolling_avg_pit_stop_season': 'mean'\n",
    "}\n",
    "\n",
    "# Perform aggregation to create one row per driver per race\n",
    "aggregated_pitstops = df_pitstops.groupby(['raceId', 'driverId']).agg(aggregation_functions).reset_index()\n",
    "\n",
    "# Flatten MultiIndex columns\n",
    "aggregated_pitstops.columns = [\n",
    "    'raceId', 'driverId',\n",
    "    'min_pit_stop_duration', 'max_pit_stop_duration',\n",
    "    'avg_pit_stop_duration', 'std_pit_stop_duration',\n",
    "    'milliseconds_count',  # Newly added\n",
    "    'pit_stop_count',\n",
    "    'min_pit_stop_lap', 'max_pit_stop_lap',\n",
    "    'avg_pit_stop_lap', 'std_pit_stop_lap',\n",
    "    'avg_pit_stop_driver',\n",
    "    'avg_pit_stop_team',\n",
    "    'avg_pit_stop_track',\n",
    "    'avg_pit_stop_season',\n",
    "    'rolling_avg_pit_stop_driver',\n",
    "    'rolling_avg_pit_stop_team',\n",
    "    'rolling_avg_pit_stop_track',\n",
    "    'rolling_avg_pit_stop_season'\n",
    "]\n",
    "\n",
    "# Handle NaNs in standard deviation columns by filling them with 0\n",
    "aggregated_pitstops['std_pit_stop_duration'] = aggregated_pitstops['std_pit_stop_duration'].fillna(0)\n",
    "aggregated_pitstops['std_pit_stop_lap'] = aggregated_pitstops['std_pit_stop_lap'].fillna(0)"
   ],
   "id": "11b0a29a65b140c2",
   "outputs": [],
   "execution_count": 166
  },
  {
   "metadata": {
    "ExecuteTime": {
     "end_time": "2024-11-18T20:21:56.963691Z",
     "start_time": "2024-11-18T20:21:56.917634Z"
    }
   },
   "cell_type": "code",
   "source": [
    "# Optional: Save the aggregated DataFrame to a CSV for future use\n",
    "aggregated_pitstops.to_csv('../data/processed/aggregated_pitstops.csv', index=False)"
   ],
   "id": "c53b68d5ddc45be1",
   "outputs": [],
   "execution_count": 167
  },
  {
   "metadata": {
    "ExecuteTime": {
     "end_time": "2024-11-18T20:21:56.988319Z",
     "start_time": "2024-11-18T20:21:56.984038Z"
    }
   },
   "cell_type": "code",
   "source": "aggregated_pitstops.info()",
   "id": "77b43ef648c43cf1",
   "outputs": [
    {
     "name": "stdout",
     "output_type": "stream",
     "text": [
      "<class 'pandas.core.frame.DataFrame'>\n",
      "RangeIndex: 5518 entries, 0 to 5517\n",
      "Data columns (total 20 columns):\n",
      " #   Column                       Non-Null Count  Dtype  \n",
      "---  ------                       --------------  -----  \n",
      " 0   raceId                       5518 non-null   int64  \n",
      " 1   driverId                     5518 non-null   int64  \n",
      " 2   min_pit_stop_duration        5518 non-null   int64  \n",
      " 3   max_pit_stop_duration        5518 non-null   int64  \n",
      " 4   avg_pit_stop_duration        5518 non-null   float64\n",
      " 5   std_pit_stop_duration        5518 non-null   float64\n",
      " 6   milliseconds_count           5518 non-null   int64  \n",
      " 7   pit_stop_count               5518 non-null   int64  \n",
      " 8   min_pit_stop_lap             5518 non-null   int64  \n",
      " 9   max_pit_stop_lap             5518 non-null   int64  \n",
      " 10  avg_pit_stop_lap             5518 non-null   float64\n",
      " 11  std_pit_stop_lap             5518 non-null   float64\n",
      " 12  avg_pit_stop_driver          5518 non-null   float64\n",
      " 13  avg_pit_stop_team            5518 non-null   float64\n",
      " 14  avg_pit_stop_track           5518 non-null   float64\n",
      " 15  avg_pit_stop_season          5518 non-null   float64\n",
      " 16  rolling_avg_pit_stop_driver  5518 non-null   float64\n",
      " 17  rolling_avg_pit_stop_team    5518 non-null   float64\n",
      " 18  rolling_avg_pit_stop_track   5518 non-null   float64\n",
      " 19  rolling_avg_pit_stop_season  5518 non-null   float64\n",
      "dtypes: float64(12), int64(8)\n",
      "memory usage: 862.3 KB\n"
     ]
    }
   ],
   "execution_count": 168
  },
  {
   "metadata": {
    "ExecuteTime": {
     "end_time": "2024-11-18T20:21:57.026012Z",
     "start_time": "2024-11-18T20:21:57.009503Z"
    }
   },
   "cell_type": "code",
   "source": [
    "df_results_races_circuits_qualifying_drivers_pitstops = pd.merge(df_results_races_circuits_qualifying_drivers, aggregated_pitstops, on=['raceId', 'driverId'], how='left')\n",
    "df_results_races_circuits_qualifying_drivers_pitstops.shape\n"
   ],
   "id": "e43aa2f68f4bb56d",
   "outputs": [
    {
     "data": {
      "text/plain": [
       "(26699, 50)"
      ]
     },
     "execution_count": 169,
     "metadata": {},
     "output_type": "execute_result"
    }
   ],
   "execution_count": 169
  },
  {
   "metadata": {
    "ExecuteTime": {
     "end_time": "2024-11-18T20:21:57.296205Z",
     "start_time": "2024-11-18T20:21:57.046303Z"
    }
   },
   "cell_type": "code",
   "source": "df_results_races_circuits_qualifying_drivers_pitstops.to_csv('../data/processed/export_v1.csv', index=False)",
   "id": "112d7190f7767016",
   "outputs": [],
   "execution_count": 170
  }
 ],
 "metadata": {
  "kernelspec": {
   "display_name": "Python 3",
   "language": "python",
   "name": "python3"
  },
  "language_info": {
   "codemirror_mode": {
    "name": "ipython",
    "version": 2
   },
   "file_extension": ".py",
   "mimetype": "text/x-python",
   "name": "python",
   "nbconvert_exporter": "python",
   "pygments_lexer": "ipython2",
   "version": "2.7.6"
  }
 },
 "nbformat": 4,
 "nbformat_minor": 5
}
