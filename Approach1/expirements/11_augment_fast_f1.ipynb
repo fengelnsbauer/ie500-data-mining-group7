{
 "cells": [
  {
   "metadata": {},
   "cell_type": "code",
   "outputs": [],
   "execution_count": null,
   "source": [
    "import pandas as pd\n",
    "import fastf1\n",
    "\n",
    "fastf1.Cache.enable_cache(\"../../data/cache\")\n",
    "\n",
    "original_df = pd.read_csv('../../data/processed/export_v1.csv')\n",
    "\n",
    "races_df = pd.read_csv('../../data/raw_data/races.csv')\n",
    "\n",
    "original_df.head()\n"
   ],
   "id": "11f5ebf5dc8cee41"
  },
  {
   "metadata": {},
   "cell_type": "code",
   "outputs": [],
   "execution_count": null,
   "source": [
    "df = original_df[['raceId']]\n",
    "df.drop_duplicates(inplace=True)\n",
    "df.reset_index(drop=True, inplace=True)\n",
    "\n",
    "df = pd.merge(df, races_df, on='raceId', how='left')\n",
    "\n",
    "df = df[df['year'] >= 2018]\n",
    "df.head()\n"
   ],
   "id": "aadcd651354bec0c"
  },
  {
   "metadata": {},
   "cell_type": "code",
   "outputs": [],
   "execution_count": null,
   "source": [
    "races = []\n",
    "for idx, row in df.iterrows():\n",
    "    try:\n",
    "        fp1 = fastf1.get_session(year=row['year'], gp=row['name'], identifier='fp1')\n",
    "    except:\n",
    "        fp1 = None\n",
    "    try:\n",
    "        fp2 = fastf1.get_session(year=row['year'], gp=row['name'], identifier='fp2')\n",
    "    except:\n",
    "        fp2 = None\n",
    "    try:\n",
    "        fp3 = fastf1.get_session(year=row['year'], gp=row['name'], identifier='fp3')\n",
    "    except:\n",
    "        fp3 = None\n",
    "    try:\n",
    "        quali = fastf1.get_session(year=row['year'], gp=row['name'], identifier='q')\n",
    "    except:\n",
    "        quali = None\n",
    "\n",
    "    races.append({\n",
    "        'raceId': row['raceId'],\n",
    "        'fp1_session': fp1,\n",
    "        'fp2_session': fp2,\n",
    "        'fp3_session': fp3,\n",
    "        'qualifying': quali\n",
    "    })"
   ],
   "id": "24fb4c798e5b849"
  },
  {
   "metadata": {},
   "cell_type": "code",
   "outputs": [],
   "execution_count": null,
   "source": [
    "race = races[19]['fp1_session']\n",
    "race.load(laps=True, weather=False, telemetry=False, messages=False)"
   ],
   "id": "ada68114cf6df8ce"
  },
  {
   "metadata": {},
   "cell_type": "code",
   "outputs": [],
   "execution_count": null,
   "source": [
    "laps = race.laps\n",
    "laps = laps[laps['Deleted'] == False]\n",
    "quick_laps = laps.pick_quicklaps()\n",
    "\n",
    "quick_laps.head()"
   ],
   "id": "775fd4f5ecb8f9e6"
  },
  {
   "metadata": {},
   "cell_type": "code",
   "outputs": [],
   "execution_count": null,
   "source": [
    "from src.util import convert_timedelta_columns_to_millis\n",
    "\n",
    "quick_laps = quick_laps.copy()\n",
    "convert_timedelta_columns_to_millis(quick_laps, ['Sector1Time', 'Sector2Time', 'LapTime'], in_place=True)\n",
    "\n",
    "quick_laps\n"
   ],
   "id": "cbf718c8611c460f"
  },
  {
   "metadata": {},
   "cell_type": "code",
   "outputs": [],
   "execution_count": null,
   "source": [
    "maximum = laps.groupby(\"Driver\").max(numeric_only=True)\n",
    "\n",
    "laps_driven = maximum['LapNumber']\n",
    "\n",
    "maximum"
   ],
   "id": "ef9edcc8a7df2899"
  },
  {
   "metadata": {},
   "cell_type": "code",
   "outputs": [],
   "execution_count": null,
   "source": [
    "\n",
    "grp = quick_laps.groupby(\"Driver\").mean(numeric_only=True)\n",
    "\n",
    "fp1_df = pd.DataFrame({\n",
    "    'driver': grp.index,\n",
    "    'fp1_avg_sector_1': grp['Sector1Time'],\n",
    "    'fp1_avg_sector_2': grp['Sector2Time'],\n",
    "    'fp1_avg_lap_time': grp['LapTime'],\n",
    "    'fp1_avg_speedI1': grp['SpeedI1'],\n",
    "    'fp1_avg_speedI2': grp['SpeedI2'],\n",
    "    'fp1_avg_speedFL': grp['SpeedFL'],\n",
    "    'fp1_avg_speedST': grp['SpeedST'],\n",
    "    'fp1_avg_tyre_life': grp['TyreLife'],\n",
    "    'fp1_avg_is_on_fresh_tyres': grp['FreshTyre']\n",
    "})\n",
    "grp"
   ],
   "id": "1a22f8d7bb946369"
  },
  {
   "metadata": {},
   "cell_type": "code",
   "outputs": [],
   "execution_count": null,
   "source": "",
   "id": "7ccd9dbb3f2ce764"
  },
  {
   "metadata": {},
   "cell_type": "code",
   "outputs": [],
   "execution_count": null,
   "source": [
    "session = races[1]['qualifying']\n",
    "session.load()"
   ],
   "id": "88238b9697c4395f"
  },
  {
   "metadata": {},
   "cell_type": "code",
   "outputs": [],
   "execution_count": null,
   "source": [
    "results = session.results\n",
    "results.head()"
   ],
   "id": "af5f727d5e8f0455"
  },
  {
   "metadata": {},
   "cell_type": "code",
   "outputs": [],
   "execution_count": null,
   "source": [
    "\n",
    "\n",
    "convert_timedelta_columns_to_millis(results, ['Q1', 'Q2', 'Q3'], in_place=True)\n",
    "\n",
    "qualifying_positions = results['Position']\n",
    "q1_time = results['Q1']\n",
    "q2_time = results['Q2']\n",
    "q3_time = results['Q3']"
   ],
   "id": "6c2b17a6b3e8d69f"
  },
  {
   "metadata": {},
   "cell_type": "code",
   "outputs": [],
   "execution_count": null,
   "source": [
    "qualifying_df = pd.DataFrame({\n",
    "    'raceId': races[19]['raceId'],\n",
    "    'driver': results['Abbreviation'],\n",
    "    'q1_time': q1_time,\n",
    "    'q2_time': q2_time,\n",
    "    'q3_time': q3_time,\n",
    "    'q_position': qualifying_positions\n",
    "})"
   ],
   "id": "54fea74e2264b843"
  },
  {
   "metadata": {},
   "cell_type": "code",
   "outputs": [],
   "execution_count": null,
   "source": [
    "session_df = pd.merge(qualifying_df, fp1_df, on='driver', how='left')\n",
    "\n",
    "session_df"
   ],
   "id": "2e4d7354140ebeec"
  },
  {
   "metadata": {},
   "cell_type": "code",
   "outputs": [],
   "execution_count": null,
   "source": [
    "full_df = pd.merge(original_df, session_df, on='raceId', how='left')\n",
    "\n",
    "full_df"
   ],
   "id": "b66099b8be8b1f0e"
  }
 ],
 "metadata": {},
 "nbformat": 5,
 "nbformat_minor": 9
}
