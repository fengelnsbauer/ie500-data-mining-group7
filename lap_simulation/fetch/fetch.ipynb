{
 "cells": [
  {
   "cell_type": "code",
   "execution_count": 1,
   "metadata": {},
   "outputs": [],
   "source": [
    "import fastf1\n",
    "import pandas as pd\n",
    "from fastf1.req import RateLimitExceededError\n",
    "import time\n",
    "import logging\n",
    "import concurrent.futures\n",
    "from threading import Lock\n",
    "import os"
   ]
  },
  {
   "cell_type": "code",
   "execution_count": 1,
   "metadata": {},
   "outputs": [
    {
     "name": "stdout",
     "output_type": "stream",
     "text": [
      "Completed 2022 - Saudi Arabian Grand Prix - Q\n"
     ]
    },
    {
     "name": "stderr",
     "output_type": "stream",
     "text": [
      "core        WARNING \tNo lap data for driver 22\n",
      "req            INFO \tUsing cached data for session_status_data\n",
      "core        WARNING \tNo lap data for driver 47\n",
      "req            INFO \tUsing cached data for track_status_data\n",
      "req            INFO \tUsing cached data for _extended_timing_data\n",
      "core        WARNING \tFailed to perform lap accuracy check - all laps marked as inaccurate (driver 22)\n",
      "req            INFO \tUsing cached data for timing_app_data\n",
      "core        WARNING \tFailed to perform lap accuracy check - all laps marked as inaccurate (driver 47)\n",
      "core           INFO \tProcessing timing data...\n",
      "req            INFO \tUsing cached data for car_data\n",
      "req            INFO \tUsing cached data for car_data\n",
      "req            INFO \tUsing cached data for position_data\n",
      "req            INFO \tUsing cached data for position_data\n",
      "req            INFO \tUsing cached data for weather_data\n",
      "req            INFO \tUsing cached data for race_control_messages\n",
      "req            INFO \tUsing cached data for weather_data\n",
      "req            INFO \tUsing cached data for race_control_messages\n",
      "core           INFO \tFinished loading data for 19 drivers: ['1', '55', '11', '4', '16', '81', '63', '22', '18', '14', '44', '23', '77', '20', '31', '27', '10', '3', '24']\n",
      "core           INFO \tFinished loading data for 20 drivers: ['1', '44', '14', '18', '11', '4', '27', '81', '24', '22', '77', '55', '10', '31', '21', '2', '20', '63', '23', '16']\n",
      "core           INFO \tLoading data for Australian Grand Prix - Race [v3.4.4]\n",
      "core           INFO \tLoading data for Azerbaijan Grand Prix - Practice 1 [v3.4.4]\n",
      "req            INFO \tUsing cached data for session_info\n",
      "req            INFO \tUsing cached data for session_info\n",
      "req            INFO \tUsing cached data for driver_info\n",
      "req            INFO \tUsing cached data for driver_info\n",
      "req            INFO \tUsing cached data for session_status_data\n",
      "req            INFO \tUsing cached data for lap_count\n",
      "req            INFO \tUsing cached data for track_status_data\n",
      "req            INFO \tUsing cached data for _extended_timing_data\n",
      "req            INFO \tUsing cached data for timing_app_data\n",
      "core           INFO \tProcessing timing data...\n"
     ]
    },
    {
     "name": "stdout",
     "output_type": "stream",
     "text": [
      "Completed 2024 - Australian Grand Prix - Q\n",
      "Completed 2023 - Australian Grand Prix - R\n",
      "\n",
      "Processing event: Azerbaijan Grand Prix (2023)\n"
     ]
    },
    {
     "name": "stderr",
     "output_type": "stream",
     "text": [
      "req            INFO \tUsing cached data for session_status_data\n",
      "req            INFO \tUsing cached data for track_status_data\n",
      "req            INFO \tUsing cached data for _extended_timing_data\n",
      "req            INFO \tUsing cached data for timing_app_data\n",
      "core           INFO \tProcessing timing data...\n",
      "req            INFO \tUsing cached data for car_data\n",
      "req            INFO \tUsing cached data for weather_data\n",
      "req            INFO \tUsing cached data for race_control_messages\n",
      "req            INFO \tUsing cached data for car_data\n",
      "core           INFO \tFinished loading data for 20 drivers: ['1', '16', '55', '11', '63', '31', '4', '10', '20', '44', '24', '27', '18', '23', '77', '14', '3', '6', '22', '47']\n",
      "core           INFO \tLoading data for Australian Grand Prix - Practice 1 [v3.4.4]\n",
      "req            INFO \tUsing cached data for session_info\n",
      "req            INFO \tUsing cached data for driver_info\n",
      "req            INFO \tUsing cached data for position_data\n"
     ]
    },
    {
     "name": "stdout",
     "output_type": "stream",
     "text": [
      "Completed 2022 - Saudi Arabian Grand Prix - R\n",
      "\n",
      "Processing event: Australian Grand Prix (2022)\n"
     ]
    },
    {
     "name": "stderr",
     "output_type": "stream",
     "text": [
      "req            INFO \tUsing cached data for position_data\n",
      "req            INFO \tUsing cached data for weather_data\n",
      "req            INFO \tUsing cached data for race_control_messages\n",
      "core           INFO \tFinished loading data for 20 drivers: ['1', '10', '11', '14', '16', '18', '2', '20', '21', '22', '23', '24', '27', '31', '4', '44', '55', '63', '77', '81']\n",
      "core           INFO \tLoading data for Azerbaijan Grand Prix - Qualifying [v3.4.4]\n",
      "req            INFO \tUsing cached data for session_info\n",
      "req            INFO \tUsing cached data for driver_info\n",
      "req            INFO \tUsing cached data for weather_data\n",
      "req            INFO \tUsing cached data for race_control_messages\n",
      "core           INFO \tFinished loading data for 19 drivers: ['55', '16', '4', '81', '11', '18', '22', '14', '27', '20', '23', '3', '10', '77', '24', '31', '63', '44', '1']\n",
      "core           INFO \tLoading data for Japanese Grand Prix - Practice 1 [v3.4.4]\n",
      "req            INFO \tUsing cached data for session_info\n",
      "req            INFO \tUsing cached data for driver_info\n"
     ]
    },
    {
     "name": "stdout",
     "output_type": "stream",
     "text": [
      "Completed 2023 - Azerbaijan Grand Prix - FP1\n",
      "Completed 2024 - Australian Grand Prix - R\n",
      "\n",
      "Processing event: Japanese Grand Prix (2024)\n"
     ]
    },
    {
     "name": "stderr",
     "output_type": "stream",
     "text": [
      "req            INFO \tUsing cached data for session_status_data\n",
      "req            INFO \tUsing cached data for track_status_data\n",
      "req            INFO \tUsing cached data for _extended_timing_data\n",
      "req            INFO \tUsing cached data for timing_app_data\n",
      "core           INFO \tProcessing timing data...\n",
      "core        WARNING \tNo lap data for driver 3\n",
      "core        WARNING \tFailed to perform lap accuracy check - all laps marked as inaccurate (driver 3)\n",
      "req            INFO \tUsing cached data for car_data\n",
      "req            INFO \tUsing cached data for position_data\n",
      "req            INFO \tUsing cached data for weather_data\n",
      "req            INFO \tUsing cached data for race_control_messages\n",
      "core           INFO \tFinished loading data for 21 drivers: ['1', '10', '11', '14', '16', '18', '2', '20', '22', '23', '24', '27', '3', '31', '4', '40', '44', '55', '63', '77', '81']\n",
      "core           INFO \tLoading data for Japanese Grand Prix - Practice 2 [v3.4.4]\n",
      "req            INFO \tUsing cached data for session_info\n",
      "req            INFO \tUsing cached data for driver_info\n",
      "req            INFO \tUsing cached data for session_status_data\n",
      "req            INFO \tUsing cached data for track_status_data\n",
      "req            INFO \tUsing cached data for _extended_timing_data\n",
      "req            INFO \tUsing cached data for timing_app_data\n",
      "core           INFO \tProcessing timing data...\n",
      "core        WARNING \tNo lap data for driver 1\n",
      "core        WARNING \tNo lap data for driver 10\n",
      "core        WARNING \tNo lap data for driver 11\n",
      "core        WARNING \tNo lap data for driver 14\n",
      "core        WARNING \tNo lap data for driver 18\n",
      "core        WARNING \tNo lap data for driver 2\n",
      "core        WARNING \tNo lap data for driver 63\n",
      "core        WARNING \tFailed to perform lap accuracy check - all laps marked as inaccurate (driver 1)\n",
      "core        WARNING \tFailed to perform lap accuracy check - all laps marked as inaccurate (driver 10)\n",
      "core        WARNING \tFailed to perform lap accuracy check - all laps marked as inaccurate (driver 11)\n",
      "core        WARNING \tFailed to perform lap accuracy check - all laps marked as inaccurate (driver 14)\n",
      "core        WARNING \tFailed to perform lap accuracy check - all laps marked as inaccurate (driver 18)\n",
      "core        WARNING \tFailed to perform lap accuracy check - all laps marked as inaccurate (driver 2)\n",
      "core        WARNING \tFailed to perform lap accuracy check - all laps marked as inaccurate (driver 63)\n",
      "req            INFO \tUsing cached data for car_data\n",
      "req            INFO \tUsing cached data for position_data\n"
     ]
    },
    {
     "name": "stdout",
     "output_type": "stream",
     "text": [
      "Completed 2024 - Japanese Grand Prix - FP1\n"
     ]
    },
    {
     "name": "stderr",
     "output_type": "stream",
     "text": [
      "req            INFO \tUsing cached data for weather_data\n",
      "req            INFO \tUsing cached data for race_control_messages\n",
      "core           INFO \tFinished loading data for 20 drivers: ['1', '10', '11', '14', '16', '18', '2', '20', '22', '23', '24', '27', '3', '31', '4', '44', '55', '63', '77', '81']\n",
      "core           INFO \tLoading data for Japanese Grand Prix - Practice 3 [v3.4.4]\n",
      "req            INFO \tUsing cached data for session_info\n",
      "req            INFO \tUsing cached data for driver_info\n",
      "req            INFO \tUsing cached data for session_status_data\n",
      "req            INFO \tUsing cached data for track_status_data\n",
      "req            INFO \tUsing cached data for _extended_timing_data\n",
      "req            INFO \tUsing cached data for timing_app_data\n",
      "core           INFO \tProcessing timing data...\n"
     ]
    },
    {
     "name": "stdout",
     "output_type": "stream",
     "text": [
      "Completed 2024 - Japanese Grand Prix - FP2\n"
     ]
    },
    {
     "name": "stderr",
     "output_type": "stream",
     "text": [
      "req            INFO \tUsing cached data for car_data\n",
      "req            INFO \tUsing cached data for position_data\n",
      "req            INFO \tUsing cached data for weather_data\n",
      "req            INFO \tUsing cached data for race_control_messages\n",
      "core           INFO \tFinished loading data for 20 drivers: ['1', '10', '11', '14', '16', '18', '2', '20', '22', '23', '24', '27', '3', '31', '4', '44', '55', '63', '77', '81']\n",
      "core           INFO \tLoading data for Japanese Grand Prix - Qualifying [v3.4.4]\n",
      "req            INFO \tUsing cached data for session_info\n",
      "req            INFO \tUsing cached data for driver_info\n"
     ]
    },
    {
     "name": "stdout",
     "output_type": "stream",
     "text": [
      "Completed 2024 - Japanese Grand Prix - FP3\n"
     ]
    }
   ],
   "source": [
    "\n",
    "\n",
    "def process_year(year):\n",
    "    \"\"\"Process an entire year of F1 data\"\"\"\n",
    "    print(f\"\\nStarting to process year {year}\")\n",
    "    year_lap_dfs = []\n",
    "    year_weather_dfs = []\n",
    "    \n",
    "    try:\n",
    "        schedule = fastf1.get_event_schedule(year)\n",
    "        \n",
    "        for event in schedule.itertuples():\n",
    "            print(f\"\\nProcessing event: {event.EventName} ({year})\")\n",
    "            \n",
    "            # Get all session types based on event format\n",
    "            if event.EventFormat == 'conventional':\n",
    "                sessions = ['FP1', 'FP2', 'FP3', 'Q', 'R']\n",
    "            elif event.EventFormat == 'sprint':\n",
    "                sessions = ['FP1', 'Q', 'FP2', 'S', 'R']\n",
    "            elif event.EventFormat == 'sprint_shootout':\n",
    "                sessions = ['FP1', 'Q', 'SS', 'S', 'R']\n",
    "            elif event.EventFormat == 'sprint_qualifying':\n",
    "                sessions = ['FP1', 'SQ', 'S', 'Q', 'R']\n",
    "            else:\n",
    "                sessions = ['FP1', 'FP2', 'FP3']\n",
    "            \n",
    "            for session_name in sessions:\n",
    "                while True:  # Keep trying until success or non-rate-limit error\n",
    "                    try:\n",
    "                        session = fastf1.get_session(year, event.RoundNumber, session_name)\n",
    "                        session.load()\n",
    "                        \n",
    "                        # Get the laps data\n",
    "                        laps_df = session.laps.copy()\n",
    "                        laps_df['Year'] = year\n",
    "                        laps_df['EventName'] = event.EventName\n",
    "                        laps_df['SessionName'] = session_name\n",
    "                        laps_df['EventFormat'] = event.EventFormat\n",
    "                        laps_df['RoundNumber'] = event.RoundNumber\n",
    "                        \n",
    "                        # Get weather data\n",
    "                        weather_df = session.weather_data.copy()\n",
    "                        weather_df['Year'] = year\n",
    "                        weather_df['EventName'] = event.EventName\n",
    "                        weather_df['SessionName'] = session_name\n",
    "                        weather_df['EventFormat'] = event.EventFormat\n",
    "                        weather_df['RoundNumber'] = event.RoundNumber\n",
    "                        \n",
    "                        year_lap_dfs.append(laps_df)\n",
    "                        year_weather_dfs.append(weather_df)\n",
    "                        print(f\"Completed {year} - {event.EventName} - {session_name}\")\n",
    "                        break  # Success, exit the while loop\n",
    "                        \n",
    "                    except RateLimitExceededError:\n",
    "                        print(f\"\\nRate limit hit on {session_name} for {event.EventName} in {year}\")\n",
    "                        print(\"Waiting 60 seconds...\")\n",
    "                        time.sleep(60)  # Wait a minute and retry\n",
    "                        continue\n",
    "                        \n",
    "                    except Exception as e:\n",
    "                        print(f\"Error processing {session_name} for {event.EventName} in {year}: {e}\")\n",
    "                        break  # Non-rate-limit error, skip this session\n",
    "        \n",
    "        # Save year data\n",
    "        if year_lap_dfs and year_weather_dfs:\n",
    "            year_laps = pd.concat(year_lap_dfs, ignore_index=True)\n",
    "            year_weather = pd.concat(year_weather_dfs, ignore_index=True)\n",
    "            \n",
    "            # Create data directory if it doesn't exist\n",
    "            os.makedirs('data', exist_ok=True)\n",
    "            \n",
    "            year_laps.to_csv(f'data/lap_data_{year}.csv', index=False)\n",
    "            year_weather.to_csv(f'data/weather_data_{year}.csv', index=False)\n",
    "            print(f\"\\nYear {year} data saved!\")\n",
    "            \n",
    "            return {'year': year, 'laps': year_laps, 'weather': year_weather}\n",
    "            \n",
    "    except Exception as e:\n",
    "        print(f\"Error processing year {year}: {e}\")\n",
    "        return None\n",
    "\n",
    "def collect_f1_data(start_year=2018, end_year=2024, max_workers=5):\n",
    "    # Enable cache\n",
    "    fastf1.Cache.enable_cache('cache')\n",
    "    fastf1.set_log_level(logging.DEBUG)\n",
    "    \n",
    "    years = list(range(start_year, end_year))\n",
    "    all_results = []\n",
    "    \n",
    "    try:\n",
    "        with concurrent.futures.ThreadPoolExecutor(max_workers=max_workers) as executor:\n",
    "            # Submit all years to be processed in parallel\n",
    "            future_to_year = {executor.submit(process_year, year): year for year in years}\n",
    "            \n",
    "            # Process completed years as they finish\n",
    "            for future in concurrent.futures.as_completed(future_to_year):\n",
    "                year = future_to_year[future]\n",
    "                try:\n",
    "                    result = future.result()\n",
    "                    if result is not None:\n",
    "                        all_results.append(result)\n",
    "                        print(f\"Year {year} completely processed!\")\n",
    "                except Exception as e:\n",
    "                    print(f\"Year {year} failed: {e}\")\n",
    "    \n",
    "    except KeyboardInterrupt:\n",
    "        print(\"\\nScript interrupted by user. Saving progress...\")\n",
    "    \n",
    "    finally:\n",
    "        if all_results:\n",
    "            # Combine all years\n",
    "            all_lap_dfs = [r['laps'] for r in all_results]\n",
    "            all_weather_dfs = [r['weather'] for r in all_results]\n",
    "            \n",
    "            all_lap_data = pd.concat(all_lap_dfs, ignore_index=True)\n",
    "            all_weather_data = pd.concat(all_weather_dfs, ignore_index=True)\n",
    "            \n",
    "            # Save final combined data\n",
    "            all_lap_data.to_csv('all_lap_data_final.csv', index=False)\n",
    "            all_weather_data.to_csv('all_weather_data_final.csv', index=False)\n",
    "            \n",
    "            print(\"\\nData collection complete. Data saved to:\")\n",
    "            print(\"- 'all_lap_data_final.csv'\")\n",
    "            print(\"- 'all_weather_data_final.csv'\")\n",
    "            return {'laps': all_lap_data, 'weather': all_weather_data}\n",
    "        else:\n",
    "            print(\"No data was collected!\")\n",
    "            return None\n",
    "\n",
    "# Run the collection\n",
    "if __name__ == \"__main__\":\n",
    "    # Process up to 3 years simultaneously\n",
    "    data = collect_f1_data(start_year=2022, end_year=2025, max_workers=5)"
   ]
  },
  {
   "cell_type": "code",
   "execution_count": 2,
   "metadata": {},
   "outputs": [
    {
     "name": "stderr",
     "output_type": "stream",
     "text": [
      "/var/folders/c3/96l18xtx7fz9rgy3dxg2crdm0000gn/T/ipykernel_29476/470188613.py:2: DtypeWarning: Columns (28) have mixed types. Specify dtype option on import or set low_memory=False.\n",
      "  old_laps = pd.read_csv('../../data/raw_data/ff1_laps.csv')\n"
     ]
    }
   ],
   "source": [
    "laps = pd.read_csv('all_lap_data_final.csv')\n",
    "old_laps = pd.read_csv('../../data/raw_data/ff1_laps.csv')\n",
    "weather = pd.read_csv('all_weather_data_final.csv')"
   ]
  },
  {
   "cell_type": "code",
   "execution_count": 3,
   "metadata": {},
   "outputs": [
    {
     "name": "stdout",
     "output_type": "stream",
     "text": [
      "Index(['Time', 'Driver', 'DriverNumber', 'LapTime', 'LapNumber', 'Stint',\n",
      "       'PitOutTime', 'PitInTime', 'Sector1Time', 'Sector2Time', 'Sector3Time',\n",
      "       'Sector1SessionTime', 'Sector2SessionTime', 'Sector3SessionTime',\n",
      "       'SpeedI1', 'SpeedI2', 'SpeedFL', 'SpeedST', 'IsPersonalBest',\n",
      "       'Compound', 'TyreLife', 'FreshTyre', 'Team', 'LapStartTime',\n",
      "       'LapStartDate', 'TrackStatus', 'Position', 'Deleted', 'DeletedReason',\n",
      "       'FastF1Generated', 'IsAccurate', 'Year', 'EventName', 'SessionName',\n",
      "       'EventFormat', 'RoundNumber'],\n",
      "      dtype='object')\n",
      "(150847, 36)\n"
     ]
    }
   ],
   "source": [
    "print(laps.columns)\n",
    "print(laps.shape)"
   ]
  },
  {
   "cell_type": "code",
   "execution_count": 4,
   "metadata": {},
   "outputs": [
    {
     "name": "stdout",
     "output_type": "stream",
     "text": [
      "Index(['Time', 'Driver', 'DriverNumber', 'LapTime', 'LapNumber', 'Stint',\n",
      "       'PitOutTime', 'PitInTime', 'Sector1Time', 'Sector2Time', 'Sector3Time',\n",
      "       'Sector1SessionTime', 'Sector2SessionTime', 'Sector3SessionTime',\n",
      "       'SpeedI1', 'SpeedI2', 'SpeedFL', 'SpeedST', 'IsPersonalBest',\n",
      "       'Compound', 'TyreLife', 'FreshTyre', 'Team', 'LapStartTime',\n",
      "       'LapStartDate', 'TrackStatus', 'Position', 'Deleted', 'DeletedReason',\n",
      "       'FastF1Generated', 'IsAccurate', 'Year', 'EventName', 'SessionName'],\n",
      "      dtype='object')\n",
      "(281857, 34)\n"
     ]
    }
   ],
   "source": [
    "print(old_laps.columns)\n",
    "print(old_laps.shape)"
   ]
  }
 ],
 "metadata": {
  "kernelspec": {
   "display_name": "ie500-data-mining-group7-LKR-OXJO-py3.12",
   "language": "python",
   "name": "python3"
  },
  "language_info": {
   "codemirror_mode": {
    "name": "ipython",
    "version": 3
   },
   "file_extension": ".py",
   "mimetype": "text/x-python",
   "name": "python",
   "nbconvert_exporter": "python",
   "pygments_lexer": "ipython3",
   "version": "3.12.6"
  }
 },
 "nbformat": 4,
 "nbformat_minor": 2
}
