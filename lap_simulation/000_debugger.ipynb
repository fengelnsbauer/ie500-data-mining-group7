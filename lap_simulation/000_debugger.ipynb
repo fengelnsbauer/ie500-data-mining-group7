{
 "cells": [
  {
   "cell_type": "code",
   "execution_count": null,
   "metadata": {},
   "outputs": [],
   "source": [
    "from data_preparation import load_raw_data\n",
    "\n",
    "data = load_raw_data()\n",
    "\n",
    "# Extract the races DataFrame\n",
    "races = data['races']\n",
    "\n",
    "# Get unique combinations of 'name' and 'year'\n",
    "unique_combinations = races[['name', 'year']].drop_duplicates()\n",
    "\n",
    "print(unique_combinations)\n"
   ]
  },
  {
   "cell_type": "code",
   "execution_count": null,
   "metadata": {},
   "outputs": [],
   "source": [
    "weather_data = data['weather_data']\n",
    "\n",
    "# Display all distinct values\n",
    "distinct_values = weather_data[['EventName', 'Year']].drop_duplicates()\n",
    "print(distinct_values)"
   ]
  },
  {
   "cell_type": "code",
   "execution_count": null,
   "metadata": {},
   "outputs": [],
   "source": [
    "import pandas as pd\n",
    "import re\n",
    "from data_preparation import load_raw_data\n",
    "from thefuzz import process  # Optional for fuzzy matching\n",
    "\n",
    "# Load data\n",
    "data = load_raw_data()\n",
    "races = data['races']\n",
    "weather_data = data['weather_data']  # Adjust the key if different\n",
    "\n",
    "# Preprocessing function\n",
    "def preprocess_string(s):\n",
    "    if isinstance(s, str):\n",
    "        s = s.lower().strip()\n",
    "        s = re.sub(r'\\s+', ' ', s)\n",
    "        s = re.sub(r'grand prix', 'gp', s)\n",
    "        s = re.sub(r'[^\\w\\s]', '', s)\n",
    "        return s\n",
    "    return s\n",
    "\n",
    "# Apply preprocessing\n",
    "weather_data['EventName_clean'] = weather_data['EventName'].apply(preprocess_string)\n",
    "races['name_clean'] = races['name'].apply(preprocess_string)\n",
    "\n",
    "# Merge to find matches\n",
    "merged = weather_data.merge(\n",
    "    races,\n",
    "    left_on=['EventName_clean', 'Year'],\n",
    "    right_on=['name_clean', 'year'],\n",
    "    how='left',\n",
    "    indicator=True\n",
    ")\n",
    "\n",
    "# Summary\n",
    "total_weather_races = weather_data.shape[0]\n",
    "matched_races = merged['_merge'].value_counts().get('both', 0)\n",
    "unmatched_races = merged['_merge'].value_counts().get('left_only', 0)\n",
    "\n",
    "print(f\"Total races in weather data: {total_weather_races}\")\n",
    "print(f\"Matched races: {matched_races}\")\n",
    "print(f\"Unmatched races: {unmatched_races}\")\n",
    "\n",
    "# Handle unmatched races\n",
    "if unmatched_races > 0:\n",
    "    print(\"\\nUnmatched Races:\")\n",
    "    print(merged[merged['_merge'] == 'left_only'][['EventName', 'Year']].drop_duplicates())\n",
    "\n",
    "    # Example: Fuzzy matching (optional)\n",
    "    unmatched_event_names = merged[merged['_merge'] == 'left_only']['EventName_clean'].unique()\n",
    "    races_event_names = races['name_clean'].unique()\n",
    "\n",
    "    for event in unmatched_event_names:\n",
    "        match, score = process.extractOne(event, races_event_names)\n",
    "        print(f\"Weather Event: {event} --> Races Match: {match} (Score: {score})\")\n",
    "else:\n",
    "    print(\"\\nAll races in weather data are present in races data.\")\n",
    "\n",
    "# Final join (if all matched or after resolving mismatches)\n",
    "final_merged = merged[merged['_merge'] == 'both']\n",
    "print(\"\\nFinal Merged DataFrame:\")\n",
    "print(final_merged.head())\n"
   ]
  }
 ],
 "metadata": {
  "kernelspec": {
   "display_name": "ie500-data-mining-group7-LKR-OXJO-py3.12",
   "language": "python",
   "name": "python3"
  },
  "language_info": {
   "codemirror_mode": {
    "name": "ipython",
    "version": 3
   },
   "file_extension": ".py",
   "mimetype": "text/x-python",
   "name": "python",
   "nbconvert_exporter": "python",
   "pygments_lexer": "ipython3",
   "version": "3.12.6"
  }
 },
 "nbformat": 4,
 "nbformat_minor": 2
}
